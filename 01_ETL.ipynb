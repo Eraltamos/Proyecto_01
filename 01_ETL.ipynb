{
 "cells": [
  {
   "cell_type": "markdown",
   "metadata": {},
   "source": [
    "# ETL"
   ]
  },
  {
   "cell_type": "markdown",
   "metadata": {},
   "source": [
    "Objetivo: El presente notebook tiene como fin examinar los archivos dados y determinar las tablas aproximadas con las que se trabajara, sobretodo evitar tener columnas anidadas"
   ]
  },
  {
   "cell_type": "markdown",
   "metadata": {},
   "source": [
    "En terminos generales se trabajaran con las siguientes bibliotecas:"
   ]
  },
  {
   "cell_type": "code",
   "execution_count": 1,
   "metadata": {},
   "outputs": [],
   "source": [
    "import gzip\n",
    "import json\n",
    "import pandas as pd\n",
    "import numpy as np\n",
    "import ast\n",
    "import re\n",
    "import warnings\n",
    "import nltk"
   ]
  },
  {
   "cell_type": "code",
   "execution_count": 2,
   "metadata": {},
   "outputs": [],
   "source": [
    "# Desactiva las advertencias temporalmente\n",
    "warnings.filterwarnings(\"ignore\")"
   ]
  },
  {
   "cell_type": "code",
   "execution_count": null,
   "metadata": {},
   "outputs": [],
   "source": [
    "# Reactiva las advertencias\n",
    "# warnings.filterwarnings(\"default\")"
   ]
  },
  {
   "cell_type": "markdown",
   "metadata": {},
   "source": [
    "En el siguiente cuaderno se realizara la primera parte del ETL correspondiente a los archivos proporcionados en el siguiente orden:\n",
    "\n",
    "1. users_items.json.gz\n",
    "2. user_reviews.json.gz\n",
    "3. steam_games.json.gz"
   ]
  },
  {
   "cell_type": "markdown",
   "metadata": {},
   "source": [
    "### Funciones que usaremos"
   ]
  },
  {
   "cell_type": "markdown",
   "metadata": {},
   "source": [
    "A continuación estaran las funciones que en terminos generales serviran al desarrollo de los fines del notebook"
   ]
  },
  {
   "cell_type": "code",
   "execution_count": 3,
   "metadata": {},
   "outputs": [],
   "source": [
    "# Funcion para pasar los archivos a un DataFrame, archivo_to_df(args: archivo con su ruta, line_json o line_ast), tipo line_json si es json standar y tipo line_ast si no lo es\n",
    "def line_json(linea):\n",
    "    # Lee la linea como un json\n",
    "    return json.loads(linea)\n",
    "\n",
    "def line_ast(linea):\n",
    "    # Lee la linea evaluandola como objetos python validos\n",
    "    return ast.literal_eval(linea)\n",
    "\n",
    "def archivo_to_df(archivo_comprimido_path, process):\n",
    "\n",
    "    \"\"\"\n",
    "    Convierte un archivo comprimido json.gz en DataFrame.\n",
    "\n",
    "    Parameters:\n",
    "    - archivo_comprimido_path (str): La ruta al archivo comprimido.\n",
    "    - process (function): La función de procesamiento a aplicar a cada línea.\n",
    "\n",
    "    Returns:\n",
    "    - pd.DataFrame: El DataFrame resultante.\n",
    "    \"\"\"\n",
    "    # Inicializa una lista para almacenar los objetos de cada línea\n",
    "    datos = []\n",
    "\n",
    "    # Abre el archivo comprimido y carga los datos en la lista\n",
    "    with gzip.open(archivo_comprimido_path, 'rt', encoding='utf-8') as archivo_comprimido:\n",
    "        for linea in archivo_comprimido:\n",
    "            # Carga el JSON de cada línea segun la función escogida\n",
    "            objeto = process(linea)\n",
    "            # Carga la linea procesada a la lista datos\n",
    "            datos.append(objeto)\n",
    "\n",
    "    # Convierte la lista datos a un DataFrame\n",
    "    df = pd.DataFrame(datos)\n",
    "\n",
    "    return df"
   ]
  },
  {
   "cell_type": "code",
   "execution_count": 4,
   "metadata": {},
   "outputs": [],
   "source": [
    "# Funciones para eliminar_filas_vacias(args: df) y filas_duplicadas_con_excepcion(args: df, columna excluida que contiene listas, el argumento tiene que ser una lista)\n",
    "def eliminar_filas_vacias(df):\n",
    "    # Sumamos las filas vacias\n",
    "    vacias = df.isnull().all(axis=1).sum()\n",
    "    print(f'El numero de filas vacias eliminadas es: {vacias}')\n",
    "    # Eliminamos las filas vacias\n",
    "    df = df.dropna(how='all').reset_index(drop=True)\n",
    "    return df\n",
    "\n",
    "def filas_duplicadas(df):\n",
    "    # Sumamos las filas duplicadas\n",
    "    duplicadas = df.duplicated().sum()\n",
    "    print(f'El numero de filas duplicadas eliminadas es: {duplicadas}')\n",
    "    # Eliminamos las filas duplicadas\n",
    "    df = df.drop_duplicates(ignore_index=True)\n",
    "    return df\n",
    "\n",
    "def filas_duplicadas_con_excepcion(df, columna_conservar):\n",
    "    # Sumamos las filas duplicadas\n",
    "    columnas_validas = df.columns.difference(columna_conservar)\n",
    "    duplicadas = df.duplicated(subset=columnas_validas).sum()\n",
    "    print(f'El numero de filas duplicadas eliminadas es: {duplicadas}')\n",
    "    # Eliminamos las filas duplicadas basándonos en todas las columnas excepto la columna especificada\n",
    "    df = df.drop_duplicates(subset=columnas_validas, ignore_index=True)\n",
    "    return df\n",
    "\n"
   ]
  },
  {
   "cell_type": "code",
   "execution_count": 5,
   "metadata": {},
   "outputs": [],
   "source": [
    "# Función para ver los elementos de un dataframe en toda su extensión, muestra(args: df, cantidad de elementos a mostrar)\n",
    "def muestra(df, cantidad):\n",
    "\n",
    "    # Almacenamos el valor original de max_colwidth\n",
    "    original_max_colwidth = pd.get_option('display.max_colwidth')\n",
    "    \n",
    "    # Establece max_colwidth en None para evitar truncar el contenido\n",
    "    pd.set_option('display.max_colwidth', None)\n",
    "    \n",
    "    # Muestra el DataFrame\n",
    "    df_muestra = df.sample(n=cantidad)\n",
    "    print(df_muestra.to_string(index=False)) \n",
    "    \n",
    "    # Restaura el valor original de max_colwidth\n",
    "    pd.set_option('display.max_colwidth', original_max_colwidth)\n",
    "    \n",
    "    return "
   ]
  },
  {
   "cell_type": "code",
   "execution_count": 6,
   "metadata": {},
   "outputs": [],
   "source": [
    "# Función para ver la cantidad de elementos nulos por fila, nulos_por_columna(args: df)\n",
    "def nulos_por_columna(df):\n",
    "    df = df.isnull().sum()\n",
    "    return df"
   ]
  },
  {
   "cell_type": "code",
   "execution_count": 7,
   "metadata": {},
   "outputs": [],
   "source": [
    "# Funcion para ver las filas con un elemento nulo o mas, filas_nulas(args: df, columnas a inspeccionar)\n",
    "def filas_nulas(df,columnas):\n",
    "    df_filas_nulas= df.loc[df[columnas].isna()]\n",
    "    return df_filas_nulas"
   ]
  },
  {
   "cell_type": "code",
   "execution_count": 8,
   "metadata": {},
   "outputs": [],
   "source": [
    "# Funcion para eliminar las filas con al menos un elemento nulo en la fila, eliminar_filas_con_nulos(args: df, columna a considerar con los elementos nulos)\n",
    "def eliminar_filas_con_nulos(df, columnas):\n",
    "    df = df.dropna(subset=[columnas]).reset_index(drop=True)\n",
    "    return df"
   ]
  },
  {
   "cell_type": "code",
   "execution_count": 9,
   "metadata": {},
   "outputs": [],
   "source": [
    "# Funcion para convertir tipos de columnas, cambiar_tipo_columna(args: df, columna a cambiar, tipo al cual se cambiara)\n",
    "def cambiar_tipo_columna(df, columna, tipo):\n",
    "    df[columna]=df[columna].astype(tipo)\n",
    "    return df"
   ]
  },
  {
   "cell_type": "code",
   "execution_count": 10,
   "metadata": {},
   "outputs": [],
   "source": [
    "# Función para guardar los archivos en un csv, df_to_parquet(df, nombre del dataframe)\n",
    "def df_to_parquet(df, df_name):\n",
    "    df.to_parquet(f'dataset/{df_name}.parquet', index=False)\n",
    "    return df"
   ]
  },
  {
   "cell_type": "markdown",
   "metadata": {},
   "source": [
    "## 1. Tratamiento user_items.json.gz"
   ]
  },
  {
   "cell_type": "markdown",
   "metadata": {},
   "source": [
    "Abrimos el archivo"
   ]
  },
  {
   "cell_type": "code",
   "execution_count": 11,
   "metadata": {},
   "outputs": [],
   "source": [
    "# Usamos la función line_ast por la presencia de comillas simples en el json\n",
    "df_user_items = archivo_to_df('dataset/users_items.json.gz', line_ast)"
   ]
  },
  {
   "cell_type": "markdown",
   "metadata": {},
   "source": [
    "Inspeccionamos el archivo"
   ]
  },
  {
   "cell_type": "code",
   "execution_count": 12,
   "metadata": {},
   "outputs": [
    {
     "name": "stdout",
     "output_type": "stream",
     "text": [
      "<class 'pandas.core.frame.DataFrame'>\n",
      "RangeIndex: 88310 entries, 0 to 88309\n",
      "Data columns (total 5 columns):\n",
      " #   Column       Non-Null Count  Dtype \n",
      "---  ------       --------------  ----- \n",
      " 0   user_id      88310 non-null  object\n",
      " 1   items_count  88310 non-null  int64 \n",
      " 2   steam_id     88310 non-null  object\n",
      " 3   user_url     88310 non-null  object\n",
      " 4   items        88310 non-null  object\n",
      "dtypes: int64(1), object(4)\n",
      "memory usage: 3.4+ MB\n"
     ]
    }
   ],
   "source": [
    "df_user_items.info()"
   ]
  },
  {
   "cell_type": "code",
   "execution_count": 13,
   "metadata": {},
   "outputs": [
    {
     "name": "stdout",
     "output_type": "stream",
     "text": [
      "              user_id  items_count          steam_id                                             user_url                                                                                                                                                                                                                                                                                                                                                                                                                                                                                                                                                                                                                                                                                                                                                                                                                                                                                                                                                                                                                                                                                                                                                                                                                                                                                                                                                                                                                                                                                                                                                                                                                                                                                                                                                                                                                                                                                                                                                                                                                                                                                                                                                                                                                                                                                                                                                                                                                                                                                                                                                                                                                                                                                                                                                                                                                                                                                                                                                                                                                                                                                                                                                                                                                                                                                                                                                                                                                                                                                                                                                                                                                                                                                                                                                                                                                                                                                                                                                                                                                                                                                                                                                                                                                                                                                                                                                                                                                                                                                                                                                                                                                                                                                                                                                                                                                                                                                                                                                                                                                                                                                                                                                                                                                                                                                                                                                                                                                                                                                                                                                                                                                                                                                                                                                                                                                                                                                                                                                                                                                                                                                                                                                                                                                                                                                                                                                                                                                                                                                                                                                                                                                                                                                                                                                                                                                                                                                                                                                                                                                                                                                                                                                                                                                                                                                                                                                                                                                                                                                                                                                                                                                                                                                                                                                                                                                                                                                                                                                                                                                                                                                                                                                                                                                                                                                                                                                                                                                                                                                                                                                                                                                                                                                                                                                                                                                                                                                                                                                                                                                                                                                                                                                                                                                                                                                                                                                                                                                                                                                                                                                                                                                                                                                                                                                                                                                                                                                                                                                                                                                                                                                                                                                                                                                                                                                                                                                                                                                                                                                                                                                                                                                                                                                                                                                                                                                                                                                                                                                                      items\n",
      "              FinNaLe          430 76561198057860256                 http://steamcommunity.com/id/FinNaLe                                                                                                                                     [{'item_id': '1200', 'item_name': 'Red Orchestra: Ostfront 41-45', 'playtime_forever': 0, 'playtime_2weeks': 0}, {'item_id': '1230', 'item_name': 'Mare Nostrum', 'playtime_forever': 0, 'playtime_2weeks': 0}, {'item_id': '1280', 'item_name': 'Darkest Hour: Europe '44-'45', 'playtime_forever': 0, 'playtime_2weeks': 0}, {'item_id': '240', 'item_name': 'Counter-Strike: Source', 'playtime_forever': 473, 'playtime_2weeks': 0}, {'item_id': '4000', 'item_name': 'Garry's Mod', 'playtime_forever': 2399, 'playtime_2weeks': 0}, {'item_id': '12900', 'item_name': 'Audiosurf', 'playtime_forever': 596, 'playtime_2weeks': 0}, {'item_id': '2700', 'item_name': 'RollerCoaster Tycoon 3: Platinum!', 'playtime_forever': 126, 'playtime_2weeks': 0}, {'item_id': '15100', 'item_name': 'Assassin's Creed', 'playtime_forever': 0, 'playtime_2weeks': 0}, {'item_id': '17470', 'item_name': 'Dead Space', 'playtime_forever': 75, 'playtime_2weeks': 0}, {'item_id': '24740', 'item_name': 'Burnout Paradise: The Ultimate Box', 'playtime_forever': 95, 'playtime_2weeks': 0}, {'item_id': '29800', 'item_name': 'Caster', 'playtime_forever': 56, 'playtime_2weeks': 0}, {'item_id': '1250', 'item_name': 'Killing Floor', 'playtime_forever': 8315, 'playtime_2weeks': 0}, {'item_id': '35420', 'item_name': 'Killing Floor Mod: Defence Alliance 2', 'playtime_forever': 9, 'playtime_2weeks': 0}, {'item_id': '7510', 'item_name': 'X-Blades', 'playtime_forever': 302, 'playtime_2weeks': 0}, {'item_id': '7860', 'item_name': 'NecroVisioN', 'playtime_forever': 75, 'playtime_2weeks': 0}, {'item_id': '21680', 'item_name': 'Bionic Commando Rearmed', 'playtime_forever': 0, 'playtime_2weeks': 0}, {'item_id': '35310', 'item_name': 'Clutch', 'playtime_forever': 35, 'playtime_2weeks': 0}, {'item_id': '6830', 'item_name': 'Commandos 2: Men of Courage', 'playtime_forever': 0, 'playtime_2weeks': 0}, {'item_id': '11390', 'item_name': 'Crash Time II', 'playtime_forever': 0, 'playtime_2weeks': 0}, {'item_id': '24800', 'item_name': 'Command and Conquer: Red Alert 3 - Uprising', 'playtime_forever': 0, 'playtime_2weeks': 0}, {'item_id': '23490', 'item_name': 'Tropico 3 - Steam Special Edition', 'playtime_forever': 0, 'playtime_2weeks': 0}, {'item_id': '41100', 'item_name': 'Hammerfight', 'playtime_forever': 132, 'playtime_2weeks': 0}, {'item_id': '29120', 'item_name': 'Yumsters! 2: Around the World!', 'playtime_forever': 1, 'playtime_2weeks': 0}, {'item_id': '38210', 'item_name': 'Roogoo', 'playtime_forever': 5, 'playtime_2weeks': 0}, {'item_id': '46410', 'item_name': 'Avencast', 'playtime_forever': 0, 'playtime_2weeks': 0}, {'item_id': '43110', 'item_name': 'Metro 2033', 'playtime_forever': 506, 'playtime_2weeks': 0}, {'item_id': '24780', 'item_name': 'SimCity 4 Deluxe', 'playtime_forever': 311, 'playtime_2weeks': 0}, {'item_id': '17410', 'item_name': 'Mirror's Edge', 'playtime_forever': 612, 'playtime_2weeks': 0}, {'item_id': '8930', 'item_name': 'Sid Meier's Civilization V', 'playtime_forever': 257, 'playtime_2weeks': 0}, {'item_id': '45410', 'item_name': 'Ignite', 'playtime_forever': 0, 'playtime_2weeks': 0}, {'item_id': '92800', 'item_name': 'SpaceChem', 'playtime_forever': 64, 'playtime_2weeks': 0}, {'item_id': '70000', 'item_name': 'Dino D-Day', 'playtime_forever': 167, 'playtime_2weeks': 0}, {'item_id': '91200', 'item_name': 'Anomaly Warzone Earth', 'playtime_forever': 82, 'playtime_2weeks': 0}, {'item_id': '105600', 'item_name': 'Terraria', 'playtime_forever': 928, 'playtime_2weeks': 0}, {'item_id': '19680', 'item_name': 'Alice: Madness Returns', 'playtime_forever': 893, 'playtime_2weeks': 0}, {'item_id': '11280', 'item_name': 'Penguins Arena: Sedna's World', 'playtime_forever': 71, 'playtime_2weeks': 0}, {'item_id': '50130', 'item_name': 'Mafia II', 'playtime_forever': 155, 'playtime_2weeks': 0}, {'item_id': '96100', 'item_name': 'Defy Gravity', 'playtime_forever': 164, 'playtime_2weeks': 0}, {'item_id': '35450', 'item_name': 'Rising Storm/Red Orchestra 2 Multiplayer', 'playtime_forever': 151, 'playtime_2weeks': 0}, {'item_id': '236830', 'item_name': 'Red Orchestra 2: Heroes of Stalingrad - Single Player', 'playtime_forever': 0, 'playtime_2weeks': 0}, {'item_id': '24240', 'item_name': 'PAYDAY: The Heist', 'playtime_forever': 2213, 'playtime_2weeks': 0}, {'item_id': '201570', 'item_name': 'Really Big Sky', 'playtime_forever': 120, 'playtime_2weeks': 0}, {'item_id': '48900', 'item_name': 'Saira', 'playtime_forever': 85, 'playtime_2weeks': 0}, {'item_id': '67370', 'item_name': 'The Darkness II', 'playtime_forever': 42, 'playtime_2weeks': 42}, {'item_id': '37400', 'item_name': 'Time Gentlemen, Please!', 'playtime_forever': 0, 'playtime_2weeks': 0}, {'item_id': '37420', 'item_name': 'Ben There, Dan That!', 'playtime_forever': 0, 'playtime_2weeks': 0}, {'item_id': '203630', 'item_name': 'Warlock - Master of the Arcane', 'playtime_forever': 107, 'playtime_2weeks': 0}, {'item_id': '104900', 'item_name': 'ORION: Prelude', 'playtime_forever': 494, 'playtime_2weeks': 0}, {'item_id': '212030', 'item_name': 'Kung Fu Strike: The Warrior's Rise', 'playtime_forever': 0, 'playtime_2weeks': 0}, {'item_id': '37000', 'item_name': 'The Void', 'playtime_forever': 130, 'playtime_2weeks': 0}, {'item_id': '108800', 'item_name': 'Crysis 2 Maximum Edition', 'playtime_forever': 457, 'playtime_2weeks': 0}, {'item_id': '12750', 'item_name': 'GRID', 'playtime_forever': 10, 'playtime_2weeks': 0}, {'item_id': '214830', 'item_name': 'Half Minute Hero: Super Mega Neo Climax Ultimate Boy', 'playtime_forever': 0, 'playtime_2weeks': 0}, {'item_id': '207370', 'item_name': 'eXceed - Gun Bullet Children', 'playtime_forever': 51, 'playtime_2weeks': 0}, {'item_id': '209080', 'item_name': 'Guns of Icarus Online', 'playtime_forever': 329, 'playtime_2weeks': 0}, {'item_id': '204630', 'item_name': 'Retro City Rampage™ DX', 'playtime_forever': 387, 'playtime_2weeks': 0}, {'item_id': '10090', 'item_name': 'Call of Duty: World at War', 'playtime_forever': 0, 'playtime_2weeks': 0}, {'item_id': '202970', 'item_name': 'Call of Duty: Black Ops II', 'playtime_forever': 0, 'playtime_2weeks': 0}, {'item_id': '202990', 'item_name': 'Call of Duty: Black Ops II - Multiplayer', 'playtime_forever': 744, 'playtime_2weeks': 0}, {'item_id': '212910', 'item_name': 'Call of Duty: Black Ops II - Zombies', 'playtime_forever': 271, 'playtime_2weeks': 0}, {'item_id': '200510', 'item_name': 'XCOM: Enemy Unknown', 'playtime_forever': 151, 'playtime_2weeks': 0}, {'item_id': '218640', 'item_name': 'Lucius', 'playtime_forever': 218, 'playtime_2weeks': 0}, {'item_id': '46250', 'item_name': 'NecroVisioN: Lost Company', 'playtime_forever': 0, 'playtime_2weeks': 0}, {'item_id': '205790', 'item_name': 'Dota 2 Test', 'playtime_forever': 0, 'playtime_2weeks': 0}, {'item_id': '219640', 'item_name': 'Chivalry: Medieval Warfare', 'playtime_forever': 348, 'playtime_2weeks': 0}, {'item_id': '232210', 'item_name': 'Patch testing for Chivalry', 'playtime_forever': 0, 'playtime_2weeks': 0}, {'item_id': '223510', 'item_name': 'Miasmata', 'playtime_forever': 0, 'playtime_2weeks': 0}, {'item_id': '218740', 'item_name': 'Pid ', 'playtime_forever': 50, 'playtime_2weeks': 0}, {'item_id': '1930', 'item_name': 'Two Worlds: Epic Edition', 'playtime_forever': 157, 'playtime_2weeks': 0}, {'item_id': '220240', 'item_name': 'Far Cry® 3', 'playtime_forever': 1223, 'playtime_2weeks': 0}, {'item_id': '224420', 'item_name': 'Afterfall InSanity Extended Edition', 'playtime_forever': 99, 'playtime_2weeks': 0}, {'item_id': '220440', 'item_name': 'DmC Devil May Cry', 'playtime_forever': 568, 'playtime_2weeks': 0}, {'item_id': '224540', 'item_name': 'Ace of Spades', 'playtime_forever': 782, 'playtime_2weeks': 0}, {'item_id': '220700', 'item_name': 'RPG Maker VX Ace', 'playtime_forever': 186, 'playtime_2weeks': 0}, {'item_id': '220090', 'item_name': 'The Journey Down: Chapter One', 'playtime_forever': 157, 'playtime_2weeks': 0}, {'item_id': '223850', 'item_name': '3DMark', 'playtime_forever': 43, 'playtime_2weeks': 0}, {'item_id': '57690', 'item_name': 'Tropico 4', 'playtime_forever': 184, 'playtime_2weeks': 0}, {'item_id': '11020', 'item_name': 'TrackMania Nations Forever', 'playtime_forever': 6, 'playtime_2weeks': 0}, {'item_id': '113400', 'item_name': 'APB Reloaded', 'playtime_forever': 397, 'playtime_2weeks': 0}, {'item_id': '200210', 'item_name': 'Realm of the Mad God', 'playtime_forever': 604, 'playtime_2weeks': 0}, {'item_id': '218130', 'item_name': 'Dungeonland', 'playtime_forever': 0, 'playtime_2weeks': 0}, {'item_id': '230410', 'item_name': 'Warframe', 'playtime_forever': 9999, 'playtime_2weeks': 0}, {'item_id': '231060', 'item_name': 'Ragnarok Online 2', 'playtime_forever': 3, 'playtime_2weeks': 0}, {'item_id': '238960', 'item_name': 'Path of Exile', 'playtime_forever': 633, 'playtime_2weeks': 0}, {'item_id': '300970', 'item_name': 'Fiesta Online NA', 'playtime_forever': 89, 'playtime_2weeks': 0}, {'item_id': '39000', 'item_name': 'Moonbase Alpha', 'playtime_forever': 23, 'playtime_2weeks': 0}, {'item_id': '215100', 'item_name': 'Ragnarok', 'playtime_forever': 469, 'playtime_2weeks': 0}, {'item_id': '250420', 'item_name': '8BitMMO', 'playtime_forever': 85, 'playtime_2weeks': 0}, {'item_id': '265630', 'item_name': 'Fistful of Frags', 'playtime_forever': 0, 'playtime_2weeks': 0}, {'item_id': '202090', 'item_name': 'Magicka: Wizard Wars', 'playtime_forever': 84, 'playtime_2weeks': 0}, {'item_id': '234490', 'item_name': 'Rush Bros', 'playtime_forever': 128, 'playtime_2weeks': 0}, {'item_id': '234370', 'item_name': 'Shattered Haven', 'playtime_forever': 0, 'playtime_2weeks': 0}, {'item_id': '234900', 'item_name': 'Anodyne', 'playtime_forever': 236, 'playtime_2weeks': 0}, {'item_id': '32160', 'item_name': 'Zombie Bowl-O-Rama', 'playtime_forever': 5, 'playtime_2weeks': 0}, {'item_id': '44350', 'item_name': 'GRID 2', 'playtime_forever': 412, 'playtime_2weeks': 0}, {'item_id': '222480', 'item_name': 'Resident Evil Revelations / Biohazard Revelations', 'playtime_forever': 547, 'playtime_2weeks': 0}, {'item_id': '235250', 'item_name': 'Super Sanctum TD', 'playtime_forever': 79, 'playtime_2weeks': 0}, {'item_id': '234940', 'item_name': 'The 39 Steps', 'playtime_forever': 257, 'playtime_2weeks': 0}, {'item_id': '234190', 'item_name': 'Receiver', 'playtime_forever': 10, 'playtime_2weeks': 0}, {'item_id': '228300', 'item_name': 'Remember Me', 'playtime_forever': 636, 'playtime_2weeks': 0}, ...]\n",
      "             mitox211            6 76561198087057933                http://steamcommunity.com/id/mitox211                                                                                                                                                                                                                                                                                                                                                                                                                                                                                                                                                                                                                                                                                                                                                                                                                                                                                                                                                                                                                                                                                                                                                                                                                                                                                                                                                                                                                                                                                                                                                                                                                                                                                                                                                                                                                                                                                                                                                                                                                                                                                                                                                                                                                                                                                                                                                                                                                                                                                                                                                                                                                                                                                                                                                                                                                                                                                                                                                                                                                                                                                                                                                                                                                                                                                                                                                                                                                                                                                                                                                                                                                                                                                                                                                                                                                                                                                                                                                                                                                                                                                                                                                                                                                                                                                                                                                                                                                                                                                                                                                                                                                                                                                                                                                                                                                                                                                                                                                                                                                                                                                                                                                                                                                                                                                                                                                                                                                                                                                                                                                                                                                                                                                                                                                                                                                                                                                                                                                                                                                                                                                                                                                                                                                                                                                                                                                                                                                                                                                                                                                                                                                                                                                                                                                                                                                                                                                                                                                                                                                                                                                                                                                                                                                                                                                                                                                                                                                                                                                                                                                                                                                                                                                                                                                                                                                                                                                                                                                                                                                                                                                                                                                                                                                                                                                                                                                                                                                                                                                                                                                                                                                                                                                                                                                                                                                                                                                                                                                                                                                                                                                                                                                                                                                                                                                                                                                                                                                                                                                                                                                                                                                                                                                                                                                                                                                                                                                                                                                                                                                                                                                                                                                                                                                                                                                                                                                                              [{'item_id': '205790', 'item_name': 'Dota 2 Test', 'playtime_forever': 0, 'playtime_2weeks': 0}, {'item_id': '236390', 'item_name': 'War Thunder', 'playtime_forever': 170, 'playtime_2weeks': 0}, {'item_id': '304930', 'item_name': 'Unturned', 'playtime_forever': 731, 'playtime_2weeks': 0}, {'item_id': '291550', 'item_name': 'Brawlhalla', 'playtime_forever': 72, 'playtime_2weeks': 0}, {'item_id': '48000', 'item_name': 'LIMBO', 'playtime_forever': 5, 'playtime_2weeks': 1}, {'item_id': '273350', 'item_name': 'Evolve Stage 2', 'playtime_forever': 0, 'playtime_2weeks': 0}]\n",
      "    76561198058815949           22 76561198058815949 http://steamcommunity.com/profiles/76561198058815949                                                                                                                                                                                                                                                                                                                                                                                                                                                                                                                                                                                                                                                                                                                                                                                                                                                                                                                                                                                                                                                                                                                                                                                                                                                                                                                                                                                                                                                                                                                                                                                                                                                                                                                                                                                                                                                                                                                                                                                                                                                                                                                                                                                                                                                                                                                                                                                                                                                                                                                                                                                                                                                                                                                                                                                                                                                                                                                                                                                                                                                                                                                                                                                                                                                                                                                                                                                                                                                                                                                                                                                                                                                                                                                                                                                                                                                                                                                                                                                                                                                                                                                                                                                                                                                                                                                                                                                                                                                                                                                                                                                                                                                                                                                                                                                                                                                                                                                                                                                                                                                                                                                                                                                                                                                                                                                                                                                                                                                                                                                                                                                                                                                                                                                                                                                                                                                                                                                                                                                                                                                                                                                                                                                                                                                                                                                                                                                                                                                                                                                                                                                                                                                                                                                                                                                                                                                                                                                                                                                                                                                                                                                                                                                                                                                                                                                                                                                                                                                                                                                                                                                                                                                                                                                                                                                                                                                                                                                                                                                                                                                                                                                                                                                                                                                                                                                                                                                                                                                                                                                                                                                                                                                              [{'item_id': '4000', 'item_name': 'Garry's Mod', 'playtime_forever': 10960, 'playtime_2weeks': 0}, {'item_id': '6860', 'item_name': 'Hitman: Blood Money', 'playtime_forever': 0, 'playtime_2weeks': 0}, {'item_id': '33910', 'item_name': 'Arma 2', 'playtime_forever': 31, 'playtime_2weeks': 0}, {'item_id': '33930', 'item_name': 'Arma 2: Operation Arrowhead', 'playtime_forever': 5928, 'playtime_2weeks': 0}, {'item_id': '219540', 'item_name': 'Arma 2: Operation Arrowhead Beta (Obsolete)', 'playtime_forever': 5, 'playtime_2weeks': 0}, {'item_id': '620', 'item_name': 'Portal 2', 'playtime_forever': 192, 'playtime_2weeks': 0}, {'item_id': '105600', 'item_name': 'Terraria', 'playtime_forever': 227, 'playtime_2weeks': 0}, {'item_id': '98200', 'item_name': 'Frozen Synapse', 'playtime_forever': 2, 'playtime_2weeks': 0}, {'item_id': '33460', 'item_name': 'From Dust', 'playtime_forever': 107, 'playtime_2weeks': 0}, {'item_id': '91310', 'item_name': 'Dead Island', 'playtime_forever': 1340, 'playtime_2weeks': 0}, {'item_id': '24240', 'item_name': 'PAYDAY: The Heist', 'playtime_forever': 3250, 'playtime_2weeks': 0}, {'item_id': '224540', 'item_name': 'Ace of Spades', 'playtime_forever': 1707, 'playtime_2weeks': 0}, {'item_id': '243870', 'item_name': 'Tom Clancy's Ghost Recon Phantoms - NA', 'playtime_forever': 0, 'playtime_2weeks': 0}, {'item_id': '224580', 'item_name': 'Arma 2: DayZ Mod', 'playtime_forever': 21, 'playtime_2weeks': 0}, {'item_id': '9480', 'item_name': 'Saints Row 2', 'playtime_forever': 0, 'playtime_2weeks': 0}, {'item_id': '40390', 'item_name': 'Risen 2 - Dark Waters', 'playtime_forever': 0, 'playtime_2weeks': 0}, {'item_id': '55230', 'item_name': 'Saints Row: The Third', 'playtime_forever': 1337, 'playtime_2weeks': 0}, {'item_id': '225640', 'item_name': 'Sacred 2 Gold', 'playtime_forever': 0, 'playtime_2weeks': 0}, {'item_id': '218620', 'item_name': 'PAYDAY 2', 'playtime_forever': 939, 'playtime_2weeks': 0}, {'item_id': '252490', 'item_name': 'Rust', 'playtime_forever': 4434, 'playtime_2weeks': 0}, {'item_id': '107410', 'item_name': 'Arma 3', 'playtime_forever': 1179, 'playtime_2weeks': 0}, {'item_id': '304930', 'item_name': 'Unturned', 'playtime_forever': 0, 'playtime_2weeks': 0}]\n",
      "tittysprinklesontoast          120 76561198073613300   http://steamcommunity.com/id/tittysprinklesontoast                                                                                                                               [{'item_id': '4000', 'item_name': 'Garry's Mod', 'playtime_forever': 9312, 'playtime_2weeks': 4}, {'item_id': '4560', 'item_name': 'Company of Heroes', 'playtime_forever': 7, 'playtime_2weeks': 0}, {'item_id': '228200', 'item_name': 'Company of Heroes (New Steam Version)', 'playtime_forever': 55, 'playtime_2weeks': 0}, {'item_id': '4760', 'item_name': 'Rome: Total War', 'playtime_forever': 321, 'playtime_2weeks': 0}, {'item_id': '400', 'item_name': 'Portal', 'playtime_forever': 41, 'playtime_2weeks': 0}, {'item_id': '13520', 'item_name': 'Far Cry', 'playtime_forever': 13, 'playtime_2weeks': 0}, {'item_id': '19900', 'item_name': 'Far Cry 2', 'playtime_forever': 155, 'playtime_2weeks': 0}, {'item_id': '12200', 'item_name': 'Bully: Scholarship Edition', 'playtime_forever': 100, 'playtime_2weeks': 0}, {'item_id': '17470', 'item_name': 'Dead Space', 'playtime_forever': 0, 'playtime_2weeks': 0}, {'item_id': '24740', 'item_name': 'Burnout Paradise: The Ultimate Box', 'playtime_forever': 538, 'playtime_2weeks': 0}, {'item_id': '1250', 'item_name': 'Killing Floor', 'playtime_forever': 166, 'playtime_2weeks': 0}, {'item_id': '35420', 'item_name': 'Killing Floor Mod: Defence Alliance 2', 'playtime_forever': 0, 'playtime_2weeks': 0}, {'item_id': '22330', 'item_name': 'The Elder Scrolls IV: Oblivion ', 'playtime_forever': 594, 'playtime_2weeks': 0}, {'item_id': '22320', 'item_name': 'The Elder Scrolls III: Morrowind', 'playtime_forever': 107, 'playtime_2weeks': 0}, {'item_id': '12800', 'item_name': 'FUEL', 'playtime_forever': 9, 'playtime_2weeks': 0}, {'item_id': '24800', 'item_name': 'Command and Conquer: Red Alert 3 - Uprising', 'playtime_forever': 0, 'playtime_2weeks': 0}, {'item_id': '20900', 'item_name': 'The Witcher: Enhanced Edition', 'playtime_forever': 0, 'playtime_2weeks': 0}, {'item_id': '8190', 'item_name': 'Just Cause 2', 'playtime_forever': 1, 'playtime_2weeks': 0}, {'item_id': '49600', 'item_name': 'Beat Hazard', 'playtime_forever': 30, 'playtime_2weeks': 0}, {'item_id': '33910', 'item_name': 'Arma 2', 'playtime_forever': 141, 'playtime_2weeks': 0}, {'item_id': '33930', 'item_name': 'Arma 2: Operation Arrowhead', 'playtime_forever': 9509, 'playtime_2weeks': 0}, {'item_id': '219540', 'item_name': 'Arma 2: Operation Arrowhead Beta (Obsolete)', 'playtime_forever': 0, 'playtime_2weeks': 0}, {'item_id': '17410', 'item_name': 'Mirror's Edge', 'playtime_forever': 0, 'playtime_2weeks': 0}, {'item_id': '12210', 'item_name': 'Grand Theft Auto IV', 'playtime_forever': 462, 'playtime_2weeks': 0}, {'item_id': '12220', 'item_name': 'Grand Theft Auto: Episodes from Liberty City', 'playtime_forever': 1585, 'playtime_2weeks': 0}, {'item_id': '42910', 'item_name': 'Magicka', 'playtime_forever': 329, 'playtime_2weeks': 0}, {'item_id': '105600', 'item_name': 'Terraria', 'playtime_forever': 3835, 'playtime_2weeks': 0}, {'item_id': '19680', 'item_name': 'Alice: Madness Returns', 'playtime_forever': 103, 'playtime_2weeks': 0}, {'item_id': '24240', 'item_name': 'PAYDAY: The Heist', 'playtime_forever': 13, 'playtime_2weeks': 0}, {'item_id': '2400', 'item_name': 'The Ship', 'playtime_forever': 200, 'playtime_2weeks': 0}, {'item_id': '2420', 'item_name': 'The Ship Single Player', 'playtime_forever': 0, 'playtime_2weeks': 0}, {'item_id': '2430', 'item_name': 'The Ship Tutorial', 'playtime_forever': 0, 'playtime_2weeks': 0}, {'item_id': '64000', 'item_name': 'Men of War: Assault Squad', 'playtime_forever': 0, 'playtime_2weeks': 0}, {'item_id': '208090', 'item_name': 'Loadout', 'playtime_forever': 1326, 'playtime_2weeks': 0}, {'item_id': '207610', 'item_name': 'The Walking Dead', 'playtime_forever': 236, 'playtime_2weeks': 0}, {'item_id': '108800', 'item_name': 'Crysis 2 Maximum Edition', 'playtime_forever': 88, 'playtime_2weeks': 0}, {'item_id': '91310', 'item_name': 'Dead Island', 'playtime_forever': 104, 'playtime_2weeks': 0}, {'item_id': '113200', 'item_name': 'The Binding of Isaac', 'playtime_forever': 8, 'playtime_2weeks': 0}, {'item_id': '10', 'item_name': 'Counter-Strike', 'playtime_forever': 0, 'playtime_2weeks': 0}, {'item_id': '80', 'item_name': 'Counter-Strike: Condition Zero', 'playtime_forever': 0, 'playtime_2weeks': 0}, {'item_id': '100', 'item_name': 'Counter-Strike: Condition Zero Deleted Scenes', 'playtime_forever': 0, 'playtime_2weeks': 0}, {'item_id': '240', 'item_name': 'Counter-Strike: Source', 'playtime_forever': 83, 'playtime_2weeks': 0}, {'item_id': '730', 'item_name': 'Counter-Strike: Global Offensive', 'playtime_forever': 40189, 'playtime_2weeks': 0}, {'item_id': '204360', 'item_name': 'Castle Crashers', 'playtime_forever': 200, 'playtime_2weeks': 0}, {'item_id': '200170', 'item_name': 'Worms Revolution', 'playtime_forever': 1033, 'playtime_2weeks': 0}, {'item_id': '205790', 'item_name': 'Dota 2 Test', 'playtime_forever': 0, 'playtime_2weeks': 0}, {'item_id': '219640', 'item_name': 'Chivalry: Medieval Warfare', 'playtime_forever': 1539, 'playtime_2weeks': 0}, {'item_id': '232210', 'item_name': 'Patch testing for Chivalry', 'playtime_forever': 0, 'playtime_2weeks': 0}, {'item_id': '223470', 'item_name': 'POSTAL 2', 'playtime_forever': 0, 'playtime_2weeks': 0}, {'item_id': '55230', 'item_name': 'Saints Row: The Third', 'playtime_forever': 97, 'playtime_2weeks': 0}, {'item_id': '113400', 'item_name': 'APB Reloaded', 'playtime_forever': 4298, 'playtime_2weeks': 0}, {'item_id': '218230', 'item_name': 'PlanetSide 2', 'playtime_forever': 21150, 'playtime_2weeks': 0}, {'item_id': '230410', 'item_name': 'Warframe', 'playtime_forever': 125, 'playtime_2weeks': 0}, {'item_id': '236390', 'item_name': 'War Thunder', 'playtime_forever': 2393, 'playtime_2weeks': 0}, {'item_id': '238960', 'item_name': 'Path of Exile', 'playtime_forever': 2524, 'playtime_2weeks': 0}, {'item_id': '243870', 'item_name': 'Tom Clancy's Ghost Recon Phantoms - NA', 'playtime_forever': 0, 'playtime_2weeks': 0}, {'item_id': '214420', 'item_name': 'Gear Up', 'playtime_forever': 0, 'playtime_2weeks': 0}, {'item_id': '223710', 'item_name': 'Cry of Fear', 'playtime_forever': 69, 'playtime_2weeks': 0}, {'item_id': '248570', 'item_name': 'Toribash', 'playtime_forever': 306, 'playtime_2weeks': 0}, {'item_id': '202090', 'item_name': 'Magicka: Wizard Wars', 'playtime_forever': 0, 'playtime_2weeks': 0}, {'item_id': '206500', 'item_name': 'AirMech', 'playtime_forever': 14, 'playtime_2weeks': 0}, {'item_id': '224580', 'item_name': 'Arma 2: DayZ Mod', 'playtime_forever': 2, 'playtime_2weeks': 0}, {'item_id': '107410', 'item_name': 'Arma 3', 'playtime_forever': 9669, 'playtime_2weeks': 7}, {'item_id': '105450', 'item_name': 'Age of Empires® III: Complete Collection', 'playtime_forever': 32, 'playtime_2weeks': 0}, {'item_id': '221380', 'item_name': 'Age of Empires II: HD Edition', 'playtime_forever': 16, 'playtime_2weeks': 0}, {'item_id': '234710', 'item_name': 'Poker Night 2', 'playtime_forever': 62, 'playtime_2weeks': 0}, {'item_id': '210770', 'item_name': 'Sanctum 2', 'playtime_forever': 241, 'playtime_2weeks': 0}, {'item_id': '72850', 'item_name': 'The Elder Scrolls V: Skyrim', 'playtime_forever': 30927, 'playtime_2weeks': 29}, {'item_id': '244850', 'item_name': 'Space Engineers', 'playtime_forever': 2189, 'playtime_2weeks': 0}, {'item_id': '243950', 'item_name': 'Divinity: Dragon Commander', 'playtime_forever': 0, 'playtime_2weeks': 0}, {'item_id': '247020', 'item_name': 'Cook, Serve, Delicious!', 'playtime_forever': 0, 'playtime_2weeks': 0}, {'item_id': '218620', 'item_name': 'PAYDAY 2', 'playtime_forever': 651, 'playtime_2weeks': 0}, {'item_id': '47790', 'item_name': 'Medal of Honor(TM) Single Player', 'playtime_forever': 1, 'playtime_2weeks': 0}, {'item_id': '47830', 'item_name': 'Medal of Honor(TM) Multiplayer', 'playtime_forever': 109, 'playtime_2weeks': 0}, {'item_id': '249590', 'item_name': 'Teslagrad', 'playtime_forever': 0, 'playtime_2weeks': 0}, {'item_id': '249650', 'item_name': 'Blackguards', 'playtime_forever': 0, 'playtime_2weeks': 0}, {'item_id': '252950', 'item_name': 'Rocket League', 'playtime_forever': 646, 'playtime_2weeks': 0}, {'item_id': '258910', 'item_name': 'Citizens of Earth', 'playtime_forever': 0, 'playtime_2weeks': 0}, {'item_id': '238430', 'item_name': 'Contagion', 'playtime_forever': 119, 'playtime_2weeks': 0}, {'item_id': '263280', 'item_name': 'Spintires', 'playtime_forever': 113, 'playtime_2weeks': 0}, {'item_id': '367690', 'item_name': 'Spintires Editor', 'playtime_forever': 0, 'playtime_2weeks': 0}, {'item_id': '263440', 'item_name': 'The Stomping Land', 'playtime_forever': 325, 'playtime_2weeks': 0}, {'item_id': '108600', 'item_name': 'Project Zomboid', 'playtime_forever': 641, 'playtime_2weeks': 0}, {'item_id': '227300', 'item_name': 'Euro Truck Simulator 2', 'playtime_forever': 0, 'playtime_2weeks': 0}, {'item_id': '221100', 'item_name': 'DayZ', 'playtime_forever': 4586, 'playtime_2weeks': 0}, {'item_id': '270550', 'item_name': 'Yet Another Zombie Defense', 'playtime_forever': 3, 'playtime_2weeks': 0}, {'item_id': '550', 'item_name': 'Left 4 Dead 2', 'playtime_forever': 270, 'playtime_2weeks': 0}, {'item_id': '223530', 'item_name': 'Left 4 Dead 2 Beta', 'playtime_forever': 0, 'playtime_2weeks': 0}, {'item_id': '7670', 'item_name': 'BioShock', 'playtime_forever': 121, 'playtime_2weeks': 0}, {'item_id': '8850', 'item_name': 'BioShock 2', 'playtime_forever': 0, 'playtime_2weeks': 0}, {'item_id': '8870', 'item_name': 'BioShock Infinite', 'playtime_forever': 250, 'playtime_2weeks': 0}, {'item_id': '409710', 'item_name': 'BioShock Remastered', 'playtime_forever': 0, 'playtime_2weeks': 0}, {'item_id': '409720', 'item_name': 'BioShock 2 Remastered', 'playtime_forever': 0, 'playtime_2weeks': 0}, {'item_id': '271590', 'item_name': 'Grand Theft Auto V', 'playtime_forever': 5259, 'playtime_2weeks': 26}, {'item_id': '222880', 'item_name': 'Insurgency', 'playtime_forever': 662, 'playtime_2weeks': 0}, {'item_id': '278360', 'item_name': 'A Story About My Uncle', 'playtime_forever': 0, 'playtime_2weeks': 0}, {'item_id': '48700', 'item_name': 'Mount & Blade: Warband', 'playtime_forever': 1243, 'playtime_2weeks': 0}, {'item_id': '213670', 'item_name': 'South Park™: The Stick of Truth™', 'playtime_forever': 688, 'playtime_2weeks': 0}, {'item_id': '286160', 'item_name': 'Tabletop Simulator', 'playtime_forever': 216, 'playtime_2weeks': 0}, {'item_id': '246900', 'item_name': 'Viscera Cleanup Detail', 'playtime_forever': 0, 'playtime_2weeks': 0}, ...]\n",
      "    76561198043458582          168 76561198043458582 http://steamcommunity.com/profiles/76561198043458582 [{'item_id': '4000', 'item_name': 'Garry's Mod', 'playtime_forever': 15317, 'playtime_2weeks': 99}, {'item_id': '2700', 'item_name': 'RollerCoaster Tycoon 3: Platinum!', 'playtime_forever': 164, 'playtime_2weeks': 0}, {'item_id': '10500', 'item_name': 'Empire: Total War', 'playtime_forever': 0, 'playtime_2weeks': 0}, {'item_id': '17390', 'item_name': 'Spore', 'playtime_forever': 39, 'playtime_2weeks': 0}, {'item_id': '17440', 'item_name': 'Spore: Creepy & Cute Parts Pack', 'playtime_forever': 5, 'playtime_2weeks': 0}, {'item_id': '4560', 'item_name': 'Company of Heroes', 'playtime_forever': 361, 'playtime_2weeks': 0}, {'item_id': '9340', 'item_name': 'Company of Heroes: Opposing Fronts', 'playtime_forever': 3082, 'playtime_2weeks': 0}, {'item_id': '20540', 'item_name': 'Company of Heroes: Tales of Valor', 'playtime_forever': 2072, 'playtime_2weeks': 0}, {'item_id': '228200', 'item_name': 'Company of Heroes (New Steam Version)', 'playtime_forever': 964, 'playtime_2weeks': 0}, {'item_id': '33910', 'item_name': 'Arma 2', 'playtime_forever': 3077, 'playtime_2weeks': 0}, {'item_id': '6060', 'item_name': 'STAR WARS™ Battlefront™ II', 'playtime_forever': 31, 'playtime_2weeks': 0}, {'item_id': '550', 'item_name': 'Left 4 Dead 2', 'playtime_forever': 451, 'playtime_2weeks': 0}, {'item_id': '223530', 'item_name': 'Left 4 Dead 2 Beta', 'playtime_forever': 0, 'playtime_2weeks': 0}, {'item_id': '40100', 'item_name': 'Supreme Commander 2', 'playtime_forever': 2027, 'playtime_2weeks': 0}, {'item_id': '33930', 'item_name': 'Arma 2: Operation Arrowhead', 'playtime_forever': 6117, 'playtime_2weeks': 0}, {'item_id': '219540', 'item_name': 'Arma 2: Operation Arrowhead Beta (Obsolete)', 'playtime_forever': 0, 'playtime_2weeks': 0}, {'item_id': '42700', 'item_name': 'Call of Duty: Black Ops', 'playtime_forever': 144, 'playtime_2weeks': 144}, {'item_id': '42710', 'item_name': 'Call of Duty: Black Ops - Multiplayer', 'playtime_forever': 7, 'playtime_2weeks': 7}, {'item_id': '12210', 'item_name': 'Grand Theft Auto IV', 'playtime_forever': 669, 'playtime_2weeks': 0}, {'item_id': '12220', 'item_name': 'Grand Theft Auto: Episodes from Liberty City', 'playtime_forever': 279, 'playtime_2weeks': 0}, {'item_id': '70000', 'item_name': 'Dino D-Day', 'playtime_forever': 97, 'playtime_2weeks': 0}, {'item_id': '105600', 'item_name': 'Terraria', 'playtime_forever': 16204, 'playtime_2weeks': 0}, {'item_id': '91600', 'item_name': 'Sanctum', 'playtime_forever': 363, 'playtime_2weeks': 0}, {'item_id': '57690', 'item_name': 'Tropico 4', 'playtime_forever': 572, 'playtime_2weeks': 0}, {'item_id': '22600', 'item_name': 'Worms Reloaded', 'playtime_forever': 294, 'playtime_2weeks': 0}, {'item_id': '70600', 'item_name': 'Worms Ultimate Mayhem', 'playtime_forever': 103, 'playtime_2weeks': 0}, {'item_id': '24240', 'item_name': 'PAYDAY: The Heist', 'playtime_forever': 372, 'playtime_2weeks': 0}, {'item_id': '113200', 'item_name': 'The Binding of Isaac', 'playtime_forever': 153, 'playtime_2weeks': 0}, {'item_id': '72850', 'item_name': 'The Elder Scrolls V: Skyrim', 'playtime_forever': 2472, 'playtime_2weeks': 0}, {'item_id': '105450', 'item_name': 'Age of Empires® III: Complete Collection', 'playtime_forever': 1380, 'playtime_2weeks': 0}, {'item_id': '34330', 'item_name': 'Total War: SHOGUN 2', 'playtime_forever': 129, 'playtime_2weeks': 0}, {'item_id': '200710', 'item_name': 'Torchlight II', 'playtime_forever': 15, 'playtime_2weeks': 0}, {'item_id': '104900', 'item_name': 'ORION: Prelude', 'playtime_forever': 321, 'playtime_2weeks': 0}, {'item_id': '91310', 'item_name': 'Dead Island', 'playtime_forever': 817, 'playtime_2weeks': 0}, {'item_id': '10', 'item_name': 'Counter-Strike', 'playtime_forever': 0, 'playtime_2weeks': 0}, {'item_id': '80', 'item_name': 'Counter-Strike: Condition Zero', 'playtime_forever': 0, 'playtime_2weeks': 0}, {'item_id': '100', 'item_name': 'Counter-Strike: Condition Zero Deleted Scenes', 'playtime_forever': 0, 'playtime_2weeks': 0}, {'item_id': '240', 'item_name': 'Counter-Strike: Source', 'playtime_forever': 16, 'playtime_2weeks': 0}, {'item_id': '730', 'item_name': 'Counter-Strike: Global Offensive', 'playtime_forever': 12743, 'playtime_2weeks': 39}, {'item_id': '4920', 'item_name': 'Natural Selection 2', 'playtime_forever': 2519, 'playtime_2weeks': 0}, {'item_id': '205790', 'item_name': 'Dota 2 Test', 'playtime_forever': 0, 'playtime_2weeks': 0}, {'item_id': '215470', 'item_name': 'Primal Carnage', 'playtime_forever': 2495, 'playtime_2weeks': 0}, {'item_id': '219950', 'item_name': 'NiGHTS into Dreams...', 'playtime_forever': 0, 'playtime_2weeks': 0}, {'item_id': '71230', 'item_name': 'Crazy Taxi', 'playtime_forever': 0, 'playtime_2weeks': 0}, {'item_id': '71240', 'item_name': 'SEGA Bass Fishing', 'playtime_forever': 3, 'playtime_2weeks': 0}, {'item_id': '71250', 'item_name': 'Sonic Adventure DX', 'playtime_forever': 37, 'playtime_2weeks': 0}, {'item_id': '71260', 'item_name': 'Space Channel 5: Part 2', 'playtime_forever': 0, 'playtime_2weeks': 0}, {'item_id': '224540', 'item_name': 'Ace of Spades', 'playtime_forever': 497, 'playtime_2weeks': 0}, {'item_id': '226700', 'item_name': 'Infestation: Survivor Stories Classic', 'playtime_forever': 2835, 'playtime_2weeks': 0}, {'item_id': '230410', 'item_name': 'Warframe', 'playtime_forever': 793, 'playtime_2weeks': 0}, {'item_id': '236390', 'item_name': 'War Thunder', 'playtime_forever': 4048, 'playtime_2weeks': 0}, {'item_id': '243870', 'item_name': 'Tom Clancy's Ghost Recon Phantoms - NA', 'playtime_forever': 1119, 'playtime_2weeks': 0}, {'item_id': '209870', 'item_name': 'Blacklight: Retribution', 'playtime_forever': 34, 'playtime_2weeks': 0}, {'item_id': '223710', 'item_name': 'Cry of Fear', 'playtime_forever': 0, 'playtime_2weeks': 0}, {'item_id': '223750', 'item_name': 'DCS World', 'playtime_forever': 0, 'playtime_2weeks': 0}, {'item_id': '224260', 'item_name': 'No More Room in Hell', 'playtime_forever': 110, 'playtime_2weeks': 0}, {'item_id': '253710', 'item_name': 'theHunter', 'playtime_forever': 209, 'playtime_2weeks': 0}, {'item_id': '231200', 'item_name': 'Kentucky Route Zero', 'playtime_forever': 0, 'playtime_2weeks': 0}, {'item_id': '224580', 'item_name': 'Arma 2: DayZ Mod', 'playtime_forever': 1635, 'playtime_2weeks': 0}, {'item_id': '203160', 'item_name': 'Tomb Raider', 'playtime_forever': 195, 'playtime_2weeks': 0}, {'item_id': '107410', 'item_name': 'Arma 3', 'playtime_forever': 29825, 'playtime_2weeks': 1054}, {'item_id': '233450', 'item_name': 'Prison Architect', 'playtime_forever': 909, 'playtime_2weeks': 0}, {'item_id': '35450', 'item_name': 'Rising Storm/Red Orchestra 2 Multiplayer', 'playtime_forever': 554, 'playtime_2weeks': 0}, {'item_id': '241720', 'item_name': 'Guncraft', 'playtime_forever': 364, 'playtime_2weeks': 0}, {'item_id': '242760', 'item_name': 'The Forest', 'playtime_forever': 763, 'playtime_2weeks': 0}, {'item_id': '231430', 'item_name': 'Company of Heroes 2', 'playtime_forever': 2890, 'playtime_2weeks': 0}, {'item_id': '244850', 'item_name': 'Space Engineers', 'playtime_forever': 1930, 'playtime_2weeks': 0}, {'item_id': '245130', 'item_name': 'The Dead Linger', 'playtime_forever': 280, 'playtime_2weeks': 0}, {'item_id': '230860', 'item_name': 'Cannon Brawl', 'playtime_forever': 61, 'playtime_2weeks': 0}, {'item_id': '218620', 'item_name': 'PAYDAY 2', 'playtime_forever': 1118, 'playtime_2weeks': 0}, {'item_id': '251570', 'item_name': '7 Days to Die', 'playtime_forever': 282, 'playtime_2weeks': 0}, {'item_id': '252490', 'item_name': 'Rust', 'playtime_forever': 7249, 'playtime_2weeks': 60}, {'item_id': '252950', 'item_name': 'Rocket League', 'playtime_forever': 408, 'playtime_2weeks': 0}, {'item_id': '212480', 'item_name': 'Sonic & All-Stars Racing Transformed', 'playtime_forever': 0, 'playtime_2weeks': 0}, {'item_id': '263440', 'item_name': 'The Stomping Land', 'playtime_forever': 210, 'playtime_2weeks': 0}, {'item_id': '264710', 'item_name': 'Subnautica', 'playtime_forever': 155, 'playtime_2weeks': 9}, {'item_id': '265210', 'item_name': 'Viscera Cleanup Detail: Santa's Rampage', 'playtime_forever': 110, 'playtime_2weeks': 0}, {'item_id': '221100', 'item_name': 'DayZ', 'playtime_forever': 2716, 'playtime_2weeks': 0}, {'item_id': '268650', 'item_name': 'From The Depths', 'playtime_forever': 1032, 'playtime_2weeks': 0}, {'item_id': '268870', 'item_name': 'Satellite Reign', 'playtime_forever': 20, 'playtime_2weeks': 0}, {'item_id': '237990', 'item_name': 'The Banner Saga', 'playtime_forever': 22, 'playtime_2weeks': 0}, {'item_id': '222880', 'item_name': 'Insurgency', 'playtime_forever': 873, 'playtime_2weeks': 0}, {'item_id': '48700', 'item_name': 'Mount & Blade: Warband', 'playtime_forever': 217, 'playtime_2weeks': 0}, {'item_id': '285310', 'item_name': 'RollerCoaster Tycoon: Deluxe', 'playtime_forever': 1249, 'playtime_2weeks': 0}, {'item_id': '287700', 'item_name': 'METAL GEAR SOLID V: THE PHANTOM PAIN', 'playtime_forever': 1545, 'playtime_2weeks': 0}, {'item_id': '289300', 'item_name': 'Faces of War', 'playtime_forever': 44, 'playtime_2weeks': 0}, {'item_id': '293780', 'item_name': 'Crawl', 'playtime_forever': 0, 'playtime_2weeks': 0}, {'item_id': '295110', 'item_name': 'H1Z1: Just Survive', 'playtime_forever': 1470, 'playtime_2weeks': 0}, {'item_id': '362300', 'item_name': 'H1Z1: Just Survive Test Server', 'playtime_forever': 0, 'playtime_2weeks': 0}, {'item_id': '433850', 'item_name': 'H1Z1: King of the Kill', 'playtime_forever': 0, 'playtime_2weeks': 0}, {'item_id': '439700', 'item_name': 'H1Z1: King of the Kill Test Server', 'playtime_forever': 0, 'playtime_2weeks': 0}, {'item_id': '238460', 'item_name': 'BattleBlock Theater', 'playtime_forever': 171, 'playtime_2weeks': 0}, {'item_id': '300570', 'item_name': 'Infinifactory', 'playtime_forever': 0, 'playtime_2weeks': 0}, {'item_id': '300580', 'item_name': 'GALAK-Z', 'playtime_forever': 0, 'playtime_2weeks': 0}, {'item_id': '108600', 'item_name': 'Project Zomboid', 'playtime_forever': 59, 'playtime_2weeks': 0}, {'item_id': '301520', 'item_name': 'Robocraft', 'playtime_forever': 492, 'playtime_2weeks': 0}, {'item_id': '301750', 'item_name': 'RADical ROACH Deluxe Edition', 'playtime_forever': 7, 'playtime_2weeks': 0}, {'item_id': '65790', 'item_name': 'Arma: Cold War Assault', 'playtime_forever': 26, 'playtime_2weeks': 0}, {'item_id': '304930', 'item_name': 'Unturned', 'playtime_forever': 694, 'playtime_2weeks': 0}, {'item_id': '306830', 'item_name': 'Zombies Monsters Robots', 'playtime_forever': 381, 'playtime_2weeks': 0}, ...]\n"
     ]
    }
   ],
   "source": [
    "df_muestra = muestra(df_user_items, 5)"
   ]
  },
  {
   "cell_type": "markdown",
   "metadata": {},
   "source": [
    "Procedemos a eliminar filas vacias y duplicadas"
   ]
  },
  {
   "cell_type": "code",
   "execution_count": 14,
   "metadata": {},
   "outputs": [
    {
     "name": "stdout",
     "output_type": "stream",
     "text": [
      "El numero de filas vacias eliminadas es: 0\n"
     ]
    }
   ],
   "source": [
    "df_user_items = eliminar_filas_vacias(df_user_items)"
   ]
  },
  {
   "cell_type": "code",
   "execution_count": 15,
   "metadata": {},
   "outputs": [
    {
     "name": "stdout",
     "output_type": "stream",
     "text": [
      "El numero de filas duplicadas eliminadas es: 684\n"
     ]
    }
   ],
   "source": [
    "df_user_items = filas_duplicadas_con_excepcion(df_user_items, ['items'])"
   ]
  },
  {
   "cell_type": "markdown",
   "metadata": {},
   "source": [
    "Verificamos la presencia de elementos nulos por columna"
   ]
  },
  {
   "cell_type": "code",
   "execution_count": 16,
   "metadata": {},
   "outputs": [
    {
     "data": {
      "text/plain": [
       "user_id        0\n",
       "items_count    0\n",
       "steam_id       0\n",
       "user_url       0\n",
       "items          0\n",
       "dtype: int64"
      ]
     },
     "execution_count": 16,
     "metadata": {},
     "output_type": "execute_result"
    }
   ],
   "source": [
    "nulos = nulos_por_columna(df_user_items)\n",
    "nulos"
   ]
  },
  {
   "cell_type": "markdown",
   "metadata": {},
   "source": [
    "Luego tratamos las columnas steam_id e items_count para convertirlos a un tipo de dato mas adecuado"
   ]
  },
  {
   "cell_type": "code",
   "execution_count": 17,
   "metadata": {},
   "outputs": [],
   "source": [
    "# Cambiamos steam_id por int64 y a items_count por int 32\n",
    "df_user_items = cambiar_tipo_columna(df_user_items, 'steam_id', 'int64')\n",
    "df_user_items = cambiar_tipo_columna(df_user_items, 'items_count', 'int32')"
   ]
  },
  {
   "cell_type": "markdown",
   "metadata": {},
   "source": [
    "Ahora que eliminamos los valores nulos y duplicados empezaremos a crear dos dataframes para poder tener la columna items mas legible,los dataframes seran user_items y user_items_list"
   ]
  },
  {
   "cell_type": "markdown",
   "metadata": {},
   "source": [
    "### - user_items"
   ]
  },
  {
   "cell_type": "markdown",
   "metadata": {},
   "source": [
    "Otra consideración a tener es que al no haber elementos nulos podemos eliminar la columna user_url ya que no la necesitaremos ni para los objetivos a cumplir ni para recuperar datos"
   ]
  },
  {
   "cell_type": "markdown",
   "metadata": {},
   "source": [
    "Creamos el nuevo dataframe"
   ]
  },
  {
   "cell_type": "code",
   "execution_count": 18,
   "metadata": {},
   "outputs": [],
   "source": [
    "user_items = df_user_items[['steam_id', 'user_id', 'items_count']]"
   ]
  },
  {
   "cell_type": "markdown",
   "metadata": {},
   "source": [
    "Inspeccionamos el dataframe"
   ]
  },
  {
   "cell_type": "code",
   "execution_count": 19,
   "metadata": {},
   "outputs": [
    {
     "data": {
      "text/html": [
       "<div>\n",
       "<style scoped>\n",
       "    .dataframe tbody tr th:only-of-type {\n",
       "        vertical-align: middle;\n",
       "    }\n",
       "\n",
       "    .dataframe tbody tr th {\n",
       "        vertical-align: top;\n",
       "    }\n",
       "\n",
       "    .dataframe thead th {\n",
       "        text-align: right;\n",
       "    }\n",
       "</style>\n",
       "<table border=\"1\" class=\"dataframe\">\n",
       "  <thead>\n",
       "    <tr style=\"text-align: right;\">\n",
       "      <th></th>\n",
       "      <th>steam_id</th>\n",
       "      <th>user_id</th>\n",
       "      <th>items_count</th>\n",
       "    </tr>\n",
       "  </thead>\n",
       "  <tbody>\n",
       "    <tr>\n",
       "      <th>0</th>\n",
       "      <td>76561197970982479</td>\n",
       "      <td>76561197970982479</td>\n",
       "      <td>277</td>\n",
       "    </tr>\n",
       "    <tr>\n",
       "      <th>1</th>\n",
       "      <td>76561198035864385</td>\n",
       "      <td>js41637</td>\n",
       "      <td>888</td>\n",
       "    </tr>\n",
       "    <tr>\n",
       "      <th>2</th>\n",
       "      <td>76561198007712555</td>\n",
       "      <td>evcentric</td>\n",
       "      <td>137</td>\n",
       "    </tr>\n",
       "    <tr>\n",
       "      <th>3</th>\n",
       "      <td>76561197963445855</td>\n",
       "      <td>Riot-Punch</td>\n",
       "      <td>328</td>\n",
       "    </tr>\n",
       "    <tr>\n",
       "      <th>4</th>\n",
       "      <td>76561198002099482</td>\n",
       "      <td>doctr</td>\n",
       "      <td>541</td>\n",
       "    </tr>\n",
       "  </tbody>\n",
       "</table>\n",
       "</div>"
      ],
      "text/plain": [
       "            steam_id            user_id  items_count\n",
       "0  76561197970982479  76561197970982479          277\n",
       "1  76561198035864385            js41637          888\n",
       "2  76561198007712555          evcentric          137\n",
       "3  76561197963445855         Riot-Punch          328\n",
       "4  76561198002099482              doctr          541"
      ]
     },
     "execution_count": 19,
     "metadata": {},
     "output_type": "execute_result"
    }
   ],
   "source": [
    "user_items.head()"
   ]
  },
  {
   "cell_type": "markdown",
   "metadata": {},
   "source": [
    "Guardamos el dataframe en un archivo con el mismo nombre"
   ]
  },
  {
   "cell_type": "code",
   "execution_count": 20,
   "metadata": {},
   "outputs": [],
   "source": [
    "user_items = df_to_parquet(user_items, 'user_items')"
   ]
  },
  {
   "cell_type": "markdown",
   "metadata": {},
   "source": [
    "### - user_items_list"
   ]
  },
  {
   "cell_type": "markdown",
   "metadata": {},
   "source": [
    "Creamos el nuevo dataframe"
   ]
  },
  {
   "cell_type": "code",
   "execution_count": 25,
   "metadata": {},
   "outputs": [],
   "source": [
    "user_items_list = df_user_items[['steam_id', 'items']]"
   ]
  },
  {
   "cell_type": "markdown",
   "metadata": {},
   "source": [
    "Inspeccionamos el dataframe"
   ]
  },
  {
   "cell_type": "code",
   "execution_count": 26,
   "metadata": {},
   "outputs": [
    {
     "name": "stdout",
     "output_type": "stream",
     "text": [
      "         steam_id                                                                                                                                                                                                                                                                                                                                                                                                                                                                                                                                                                                                                                                                                                                                                                                                                                                                                                                                                                                                                                                                                                                                                                                                                                                                                                                                                                                                                                                                                                                                                                                                                                                                                                                                                                                                                                                                                                                                                                                                                                                                                                                                                                                                                                                                                                                                                                                                                                                                                                                                                                                                                                                                                                                                                                                                                                                                                                                                                                                                                                                                                                                                                                                                                                                                                                                                                                                                                                                                                                                                                                                                                                                                                                                                                                                                                                                                                                                                                                                                                                                                                                                                                                                                                                                                                                                                                                                                                                                                                                                                                                                                                                                                                                                                                                                                                                                                                                                                                                                                                                                                                                                                                                                                                                                                                                                                                                                                                                                                                                                                                                                                                                                                                                                                                                                                                                                                                                                                                                                                                                                                                                                                                                                                                                                                                                                                                                                                                                                                                                                                                                                                                                                                                                                                                                                                                                                                                                                                                                                                                                                                                                                                                                                                                                                                                                                                                                                                                                                                                                                                                                                                                                                                                                                                                                                                                                                                                                                                                                                                                                                                                                                                                                                                                                                                                                                                                                                                                                                                                                                                                                                                                                                                                                                                                                                                                                                                                                                                                                                                                                                                                                                                                                                                                                                                                                                                                                                                                                                                                                                                                                                                                                                                                                                                                                                                                                                                                                                                                                                                                                                                                                                                                                                                                                                                                                                                                                                                                                                                                                                                                                                                                                                                                                                                                                                                                                                                                                                                                                                   items\n",
      "76561198077372548                                                                                                                                                                                                                                                                                                                                                                                                                                                                                                                                                                                                                                                                                                                                                                                                                                                                                                                                                                                                                                                                                                                                                                                                                                                                                                                                                                                                                                                                                                                                                                                                                                                                                                                                                                                                                                                                                                                                                                                                                                                                                                                                                                                                                                                                                                                                                                                                                                                                                                                                                                                                                                                                                                                                                                                                                                                                                                                                                                                                                                                                                                                                                                                                                                                                                                                                                                                                                                                                                                                                                                                                                                                                                                                                                                                                                                                                                                                                                                                                                                                                                                                                                                                                                                                                                                                                                                                                                                                                                                                                                                                                                                                                                                                                                                                                                                                                                                                                                                                                                                                                                                                                                                                                                                                                                                                                                                                                                                                                                                                                                                                                                                                                                                                                                                                                                                                                                                                                                                                                                                                                                                                                                                                                                                                                                                                                                                                                                                                                                                                                                                                                                                                                                                                                                                                                                                                                                                                                                                                                                                                                                                                                                                                                                                                                                                                                                                                                                                                                                                                                                                                                                                                                                                                                                                                                                                                                                                                                                                                                                                                                                                                                                                                                                                                                                                                                                                                                                                                                                                                                                                                                                                                                                                                                                                                                                                                                                                                                                                                                                                                                                                                                                                                                                                                                                                                                                                                                                                                                            [{'item_id': '240', 'item_name': 'Counter-Strike: Source', 'playtime_forever': 275, 'playtime_2weeks': 0}, {'item_id': '205790', 'item_name': 'Dota 2 Test', 'playtime_forever': 0, 'playtime_2weeks': 0}, {'item_id': '245550', 'item_name': 'Free to Play', 'playtime_forever': 0, 'playtime_2weeks': 0}, {'item_id': '343450', 'item_name': 'Free To Play (Streaming)', 'playtime_forever': 10, 'playtime_2weeks': 0}, {'item_id': '273110', 'item_name': 'Counter-Strike Nexon: Zombies', 'playtime_forever': 255, 'playtime_2weeks': 0}, {'item_id': '310370', 'item_name': 'The Way of Life Free Edition', 'playtime_forever': 25, 'playtime_2weeks': 0}, {'item_id': '730', 'item_name': 'Counter-Strike: Global Offensive', 'playtime_forever': 4311, 'playtime_2weeks': 0}, {'item_id': '365450', 'item_name': 'Hacknet', 'playtime_forever': 131, 'playtime_2weeks': 0}, {'item_id': '369200', 'item_name': 'Ghost in the Shell Stand Alone Complex First Assault Online', 'playtime_forever': 0, 'playtime_2weeks': 0}, {'item_id': '380890', 'item_name': 'In Search of the Most Dangerous Town on the Internet', 'playtime_forever': 21, 'playtime_2weeks': 0}, {'item_id': '381150', 'item_name': 'Counter-Strike Nexon: Zombies - Starter Pack', 'playtime_forever': 0, 'playtime_2weeks': 0}, {'item_id': '386360', 'item_name': 'SMITE', 'playtime_forever': 3, 'playtime_2weeks': 0}, {'item_id': '319630', 'item_name': 'Life Is Strange™', 'playtime_forever': 0, 'playtime_2weeks': 0}]\n",
      "76561198005338985                                                                                                                                                                                                                                                                                                                                                                                                                                                                                                                                                                                                                                                                                                                                                                                                                                                                                                                                                                                                                                                                                                                                                                                                                                                                                                                                                                                                                                                                                                                                                                                                                                                                                                                                                                                                                                                                                                                                                                                                                                                                                                                                                                                                                                                                                                                                                                                                                                                                                                                                                                                                                                                                                                                                                                                                                                                                                                                                                                                                                                                                                                                                                                                                                                                                                                                                                                                                                                                                                                                                                                                                                                                                                                                                                                                                                                                                                                                                                                                                                                                                                                                                                                                                                                                                                                                                                                                                                                                                                                                                                                                                                                                                                                                                                                                                                                                                                                                                                                                                                                                                                                                                                                                                                                                                                                                                                                                                                                                                                                                                                                                                                                                                                                                                                                                                                                                                                                                                                                                                                                                                                                                                                                                                                                                                                                                                                                                                                                                                                                                                                                                                                                                                                                                                                                                                                                                                                                                                                                                                                                                                                                                                                                                                                                                                                                                                                                                                                                                                                                                                                                                                                                                                                                                                                                                                                                                                                                                                                                                                                                                                                                                                                                                                                                                                                                                                                                                                                                                                                                                                                                                                                                                                                                                                                                                                                                                                                                                                                                                                                                                                                                                                                                                                                                                                                                                                                                                                                                                                                                                                                                                                                                                                                                                                                                                                                                                                                                                                                                                                                                                                                                                                                                                                                                                                                                                                                                                                                                                                                                                                                                                                                                                                                                                                                                                                                                                                                                                                                                                      []\n",
      "76561198040532399                                                                                                                                                                                                                                                                                                                                                                                                                                                                                                                                                                                                                                                                                                                                                                                                                                                                                                                                                                                                                                                                                                                                                                                                                                                                                                                                                                                                                                                                                                                                                                                                                                                                                                                                                                                                                                                                                                                                                                                                                                                                                                                                                                                                                                                                                                                                                                                                                                                                                                                                                                                                                                                                                                                                                                                                                                                                                                                                                                                                                                                                                                                                                                                                                                                                                                                                                                                                                                                                                                                                                                                                                                                                                                                                                                                                                                                                                                                                                                                                                                                                                                                                                                                                                                                                                                                                                                                                                                                                                                                                                                                                                                                                                                                                                                                                                                                                                                                                                                                                                                                                                                                                                                                                                                                                                                                                                                                                                                                                                                                                                                                                                                                                                                                                                                                                                                                                                                                                                                                                                                                   [{'item_id': '4000', 'item_name': 'Garry's Mod', 'playtime_forever': 550, 'playtime_2weeks': 0}, {'item_id': '20', 'item_name': 'Team Fortress Classic', 'playtime_forever': 4, 'playtime_2weeks': 0}, {'item_id': '50', 'item_name': 'Half-Life: Opposing Force', 'playtime_forever': 0, 'playtime_2weeks': 0}, {'item_id': '70', 'item_name': 'Half-Life', 'playtime_forever': 56, 'playtime_2weeks': 0}, {'item_id': '130', 'item_name': 'Half-Life: Blue Shift', 'playtime_forever': 0, 'playtime_2weeks': 0}, {'item_id': '220', 'item_name': 'Half-Life 2', 'playtime_forever': 0, 'playtime_2weeks': 0}, {'item_id': '280', 'item_name': 'Half-Life: Source', 'playtime_forever': 0, 'playtime_2weeks': 0}, {'item_id': '320', 'item_name': 'Half-Life 2: Deathmatch', 'playtime_forever': 0, 'playtime_2weeks': 0}, {'item_id': '340', 'item_name': 'Half-Life 2: Lost Coast', 'playtime_forever': 0, 'playtime_2weeks': 0}, {'item_id': '360', 'item_name': 'Half-Life Deathmatch: Source', 'playtime_forever': 0, 'playtime_2weeks': 0}, {'item_id': '380', 'item_name': 'Half-Life 2: Episode One', 'playtime_forever': 0, 'playtime_2weeks': 0}, {'item_id': '420', 'item_name': 'Half-Life 2: Episode Two', 'playtime_forever': 0, 'playtime_2weeks': 0}, {'item_id': '25800', 'item_name': 'Europa Universalis III', 'playtime_forever': 12, 'playtime_2weeks': 0}, {'item_id': '22330', 'item_name': 'The Elder Scrolls IV: Oblivion ', 'playtime_forever': 216, 'playtime_2weeks': 0}, {'item_id': '22370', 'item_name': 'Fallout 3 - Game of the Year Edition', 'playtime_forever': 2182, 'playtime_2weeks': 0}, {'item_id': '8930', 'item_name': 'Sid Meier's Civilization V', 'playtime_forever': 11041, 'playtime_2weeks': 0}, {'item_id': '22380', 'item_name': 'Fallout: New Vegas', 'playtime_forever': 910, 'playtime_2weeks': 0}, {'item_id': '31280', 'item_name': 'Poker Night at the Inventory', 'playtime_forever': 361, 'playtime_2weeks': 0}, {'item_id': '400', 'item_name': 'Portal', 'playtime_forever': 341, 'playtime_2weeks': 0}, {'item_id': '620', 'item_name': 'Portal 2', 'playtime_forever': 2280, 'playtime_2weeks': 0}, {'item_id': '42910', 'item_name': 'Magicka', 'playtime_forever': 2013, 'playtime_2weeks': 0}, {'item_id': '45760', 'item_name': 'Ultra Street Fighter IV', 'playtime_forever': 403, 'playtime_2weeks': 0}, {'item_id': '105600', 'item_name': 'Terraria', 'playtime_forever': 9695, 'playtime_2weeks': 0}, {'item_id': '104600', 'item_name': 'Portal 2 - The Final Hours', 'playtime_forever': 0, 'playtime_2weeks': 0}, {'item_id': '113200', 'item_name': 'The Binding of Isaac', 'playtime_forever': 388, 'playtime_2weeks': 0}, {'item_id': '65800', 'item_name': 'Dungeon Defenders', 'playtime_forever': 3243, 'playtime_2weeks': 0}, {'item_id': '72850', 'item_name': 'The Elder Scrolls V: Skyrim', 'playtime_forever': 70, 'playtime_2weeks': 0}, {'item_id': '207610', 'item_name': 'The Walking Dead', 'playtime_forever': 650, 'playtime_2weeks': 0}, {'item_id': '200010', 'item_name': 'Quantum Conundrum', 'playtime_forever': 148, 'playtime_2weeks': 0}, {'item_id': '220260', 'item_name': 'Farming Simulator 2013', 'playtime_forever': 333, 'playtime_2weeks': 0}, {'item_id': '205790', 'item_name': 'Dota 2 Test', 'playtime_forever': 0, 'playtime_2weeks': 0}, {'item_id': '225260', 'item_name': 'Brütal Legend', 'playtime_forever': 0, 'playtime_2weeks': 0}, {'item_id': '229870', 'item_name': 'ShootMania Storm', 'playtime_forever': 424, 'playtime_2weeks': 0}, {'item_id': '107410', 'item_name': 'Arma 3', 'playtime_forever': 5, 'playtime_2weeks': 0}, {'item_id': '221380', 'item_name': 'Age of Empires II: HD Edition', 'playtime_forever': 29, 'playtime_2weeks': 0}, {'item_id': '7670', 'item_name': 'BioShock', 'playtime_forever': 0, 'playtime_2weeks': 0}, {'item_id': '8850', 'item_name': 'BioShock 2', 'playtime_forever': 0, 'playtime_2weeks': 0}, {'item_id': '409710', 'item_name': 'BioShock Remastered', 'playtime_forever': 0, 'playtime_2weeks': 0}, {'item_id': '409720', 'item_name': 'BioShock 2 Remastered', 'playtime_forever': 0, 'playtime_2weeks': 0}, {'item_id': '219740', 'item_name': 'Don't Starve', 'playtime_forever': 93, 'playtime_2weeks': 0}, {'item_id': '322330', 'item_name': 'Don't Starve Together', 'playtime_forever': 0, 'playtime_2weeks': 0}, {'item_id': '302270', 'item_name': 'Dungeon Defenders Eternity', 'playtime_forever': 1085, 'playtime_2weeks': 0}, {'item_id': '313120', 'item_name': 'Stranded Deep', 'playtime_forever': 14, 'playtime_2weeks': 0}, {'item_id': '255710', 'item_name': 'Cities: Skylines', 'playtime_forever': 80, 'playtime_2weeks': 0}, {'item_id': '413150', 'item_name': 'Stardew Valley', 'playtime_forever': 0, 'playtime_2weeks': 0}, {'item_id': '474750', 'item_name': 'Reigns', 'playtime_forever': 1178, 'playtime_2weeks': 0}]\n",
      "76561198032092401 [{'item_id': '10', 'item_name': 'Counter-Strike', 'playtime_forever': 201, 'playtime_2weeks': 0}, {'item_id': '80', 'item_name': 'Counter-Strike: Condition Zero', 'playtime_forever': 72, 'playtime_2weeks': 0}, {'item_id': '100', 'item_name': 'Counter-Strike: Condition Zero Deleted Scenes', 'playtime_forever': 30, 'playtime_2weeks': 0}, {'item_id': '300', 'item_name': 'Day of Defeat: Source', 'playtime_forever': 397, 'playtime_2weeks': 0}, {'item_id': '220', 'item_name': 'Half-Life 2', 'playtime_forever': 505, 'playtime_2weeks': 0}, {'item_id': '340', 'item_name': 'Half-Life 2: Lost Coast', 'playtime_forever': 49, 'playtime_2weeks': 0}, {'item_id': '4000', 'item_name': 'Garry's Mod', 'playtime_forever': 35, 'playtime_2weeks': 0}, {'item_id': '4540', 'item_name': 'Titan Quest', 'playtime_forever': 35, 'playtime_2weeks': 0}, {'item_id': '4550', 'item_name': 'Titan Quest: Immortal Throne', 'playtime_forever': 0, 'playtime_2weeks': 0}, {'item_id': '475150', 'item_name': 'Titan Quest Anniversary Edition', 'playtime_forever': 0, 'playtime_2weeks': 0}, {'item_id': '2200', 'item_name': 'Quake III Arena', 'playtime_forever': 23, 'playtime_2weeks': 0}, {'item_id': '2310', 'item_name': 'Quake', 'playtime_forever': 0, 'playtime_2weeks': 0}, {'item_id': '2320', 'item_name': 'Quake II', 'playtime_forever': 14, 'playtime_2weeks': 0}, {'item_id': '2330', 'item_name': 'Quake II: The Reckoning', 'playtime_forever': 0, 'playtime_2weeks': 0}, {'item_id': '2340', 'item_name': 'Quake II: Ground Zero', 'playtime_forever': 0, 'playtime_2weeks': 0}, {'item_id': '2350', 'item_name': 'Quake III: Team Arena', 'playtime_forever': 1, 'playtime_2weeks': 0}, {'item_id': '9030', 'item_name': 'Quake Mission Pack 2: Dissolution of Eternity', 'playtime_forever': 0, 'playtime_2weeks': 0}, {'item_id': '9040', 'item_name': 'Quake Mission Pack 1: Scourge of Armagon', 'playtime_forever': 0, 'playtime_2weeks': 0}, {'item_id': '7940', 'item_name': 'Call of Duty 4: Modern Warfare', 'playtime_forever': 2319, 'playtime_2weeks': 0}, {'item_id': '13210', 'item_name': 'Unreal Tournament 3: Black Edition', 'playtime_forever': 1595, 'playtime_2weeks': 0}, {'item_id': '15120', 'item_name': 'Tom Clancy's Rainbow Six: Vegas 2', 'playtime_forever': 52, 'playtime_2weeks': 0}, {'item_id': '6060', 'item_name': 'STAR WARS™ Battlefront™ II', 'playtime_forever': 79, 'playtime_2weeks': 0}, {'item_id': '32370', 'item_name': 'STAR WARS™: Knights of the Old Republic™', 'playtime_forever': 9, 'playtime_2weeks': 0}, {'item_id': '550', 'item_name': 'Left 4 Dead 2', 'playtime_forever': 66, 'playtime_2weeks': 0}, {'item_id': '223530', 'item_name': 'Left 4 Dead 2 Beta', 'playtime_forever': 0, 'playtime_2weeks': 0}, {'item_id': '46400', 'item_name': 'Greed: Black Border', 'playtime_forever': 58, 'playtime_2weeks': 0}, {'item_id': '24980', 'item_name': 'Mass Effect 2', 'playtime_forever': 0, 'playtime_2weeks': 0}, {'item_id': '24960', 'item_name': 'Battlefield: Bad Company 2', 'playtime_forever': 8514, 'playtime_2weeks': 0}, {'item_id': '8190', 'item_name': 'Just Cause 2', 'playtime_forever': 112, 'playtime_2weeks': 0}, {'item_id': '12100', 'item_name': 'Grand Theft Auto III', 'playtime_forever': 0, 'playtime_2weeks': 0}, {'item_id': '12110', 'item_name': 'Grand Theft Auto: Vice City', 'playtime_forever': 84, 'playtime_2weeks': 0}, {'item_id': '12120', 'item_name': 'Grand Theft Auto: San Andreas', 'playtime_forever': 0, 'playtime_2weeks': 0}, {'item_id': '12170', 'item_name': 'Grand Theft Auto', 'playtime_forever': 0, 'playtime_2weeks': 0}, {'item_id': '12180', 'item_name': 'Grand Theft Auto 2', 'playtime_forever': 0, 'playtime_2weeks': 0}, {'item_id': '12210', 'item_name': 'Grand Theft Auto IV', 'playtime_forever': 0, 'playtime_2weeks': 0}, {'item_id': '12220', 'item_name': 'Grand Theft Auto: Episodes from Liberty City', 'playtime_forever': 0, 'playtime_2weeks': 0}, {'item_id': '12230', 'item_name': 'Grand Theft Auto III', 'playtime_forever': 0, 'playtime_2weeks': 0}, {'item_id': '12240', 'item_name': 'Grand Theft Auto: Vice City', 'playtime_forever': 0, 'playtime_2weeks': 0}, {'item_id': '12250', 'item_name': 'Grand Theft Auto: San Andreas', 'playtime_forever': 0, 'playtime_2weeks': 0}, {'item_id': '33910', 'item_name': 'Arma 2', 'playtime_forever': 0, 'playtime_2weeks': 0}, {'item_id': '33930', 'item_name': 'Arma 2: Operation Arrowhead', 'playtime_forever': 0, 'playtime_2weeks': 0}, {'item_id': '219540', 'item_name': 'Arma 2: Operation Arrowhead Beta (Obsolete)', 'playtime_forever': 0, 'playtime_2weeks': 0}, {'item_id': '42700', 'item_name': 'Call of Duty: Black Ops', 'playtime_forever': 110, 'playtime_2weeks': 0}, {'item_id': '42710', 'item_name': 'Call of Duty: Black Ops - Multiplayer', 'playtime_forever': 3406, 'playtime_2weeks': 0}, {'item_id': '8980', 'item_name': 'Borderlands', 'playtime_forever': 1475, 'playtime_2weeks': 0}, {'item_id': '240', 'item_name': 'Counter-Strike: Source', 'playtime_forever': 11889, 'playtime_2weeks': 0}, {'item_id': '63200', 'item_name': 'Monday Night Combat', 'playtime_forever': 93, 'playtime_2weeks': 0}, {'item_id': '72300', 'item_name': 'Breach', 'playtime_forever': 41, 'playtime_2weeks': 0}, {'item_id': '42910', 'item_name': 'Magicka', 'playtime_forever': 574, 'playtime_2weeks': 0}, {'item_id': '99810', 'item_name': 'Bulletstorm', 'playtime_forever': 474, 'playtime_2weeks': 0}, {'item_id': '92800', 'item_name': 'SpaceChem', 'playtime_forever': 3, 'playtime_2weeks': 0}, {'item_id': '91600', 'item_name': 'Sanctum', 'playtime_forever': 510, 'playtime_2weeks': 0}, {'item_id': '22350', 'item_name': 'BRINK', 'playtime_forever': 5427, 'playtime_2weeks': 0}, {'item_id': '20920', 'item_name': 'The Witcher 2: Assassins of Kings Enhanced Edition', 'playtime_forever': 59, 'playtime_2weeks': 0}, {'item_id': '50620', 'item_name': 'Darksiders', 'playtime_forever': 1040, 'playtime_2weeks': 0}, {'item_id': '55150', 'item_name': 'Warhammer 40,000 Space Marine', 'playtime_forever': 2975, 'playtime_2weeks': 0}, {'item_id': '98200', 'item_name': 'Frozen Synapse', 'playtime_forever': 0, 'playtime_2weeks': 0}, {'item_id': '91700', 'item_name': 'E.Y.E: Divine Cybermancy', 'playtime_forever': 0, 'playtime_2weeks': 0}, {'item_id': '107100', 'item_name': 'Bastion', 'playtime_forever': 0, 'playtime_2weeks': 0}, {'item_id': '97100', 'item_name': 'Section 8: Prejudice', 'playtime_forever': 513, 'playtime_2weeks': 0}, {'item_id': '91310', 'item_name': 'Dead Island', 'playtime_forever': 2773, 'playtime_2weeks': 0}, {'item_id': '24240', 'item_name': 'PAYDAY: The Heist', 'playtime_forever': 108, 'playtime_2weeks': 0}, {'item_id': '17710', 'item_name': 'Nuclear Dawn', 'playtime_forever': 1603, 'playtime_2weeks': 0}, {'item_id': '55230', 'item_name': 'Saints Row: The Third', 'playtime_forever': 0, 'playtime_2weeks': 0}, {'item_id': '39160', 'item_name': 'Dungeon Siege III', 'playtime_forever': 126, 'playtime_2weeks': 0}, {'item_id': '39190', 'item_name': 'Dungeon Siege', 'playtime_forever': 0, 'playtime_2weeks': 0}, {'item_id': '39200', 'item_name': 'Dungeon Siege 2', 'playtime_forever': 0, 'playtime_2weeks': 0}, {'item_id': '41070', 'item_name': 'Serious Sam 3: BFE', 'playtime_forever': 769, 'playtime_2weeks': 0}, {'item_id': '35720', 'item_name': 'Trine 2', 'playtime_forever': 0, 'playtime_2weeks': 0}, {'item_id': '1250', 'item_name': 'Killing Floor', 'playtime_forever': 312, 'playtime_2weeks': 0}, {'item_id': '35420', 'item_name': 'Killing Floor Mod: Defence Alliance 2', 'playtime_forever': 0, 'playtime_2weeks': 0}, {'item_id': '48000', 'item_name': 'LIMBO', 'playtime_forever': 0, 'playtime_2weeks': 0}, {'item_id': '80200', 'item_name': 'Fate of the World', 'playtime_forever': 0, 'playtime_2weeks': 0}, {'item_id': '21170', 'item_name': 'Gotham City Impostors', 'playtime_forever': 644, 'playtime_2weeks': 0}, {'item_id': '206210', 'item_name': 'Gotham City Impostors: Free To Play', 'playtime_forever': 0, 'playtime_2weeks': 0}, {'item_id': '22380', 'item_name': 'Fallout: New Vegas', 'playtime_forever': 37, 'playtime_2weeks': 0}, {'item_id': '208090', 'item_name': 'Loadout', 'playtime_forever': 670, 'playtime_2weeks': 0}, {'item_id': '50650', 'item_name': 'Darksiders II', 'playtime_forever': 1387, 'playtime_2weeks': 0}, {'item_id': '96400', 'item_name': 'Shoot Many Robots', 'playtime_forever': 1172, 'playtime_2weeks': 0}, {'item_id': '96800', 'item_name': 'Nexuiz', 'playtime_forever': 271, 'playtime_2weeks': 0}, {'item_id': '216370', 'item_name': 'Nexuiz Beta', 'playtime_forever': 0, 'playtime_2weeks': 0}, {'item_id': '225760', 'item_name': 'Nexuiz STUPID Mode', 'playtime_forever': 0, 'playtime_2weeks': 0}, {'item_id': '41500', 'item_name': 'Torchlight', 'playtime_forever': 41, 'playtime_2weeks': 0}, {'item_id': '200710', 'item_name': 'Torchlight II', 'playtime_forever': 852, 'playtime_2weeks': 0}, {'item_id': '104900', 'item_name': 'ORION: Prelude', 'playtime_forever': 72, 'playtime_2weeks': 0}, {'item_id': '212630', 'item_name': 'Tom Clancy's Ghost Recon Future Soldier', 'playtime_forever': 1274, 'playtime_2weeks': 0}, {'item_id': '108800', 'item_name': 'Crysis 2 Maximum Edition', 'playtime_forever': 518, 'playtime_2weeks': 0}, {'item_id': '6910', 'item_name': 'Deus Ex: Game of the Year Edition', 'playtime_forever': 0, 'playtime_2weeks': 0}, {'item_id': '6920', 'item_name': 'Deus Ex: Invisible War', 'playtime_forever': 0, 'playtime_2weeks': 0}, {'item_id': '28050', 'item_name': 'Deus Ex: Human Revolution', 'playtime_forever': 91, 'playtime_2weeks': 0}, {'item_id': '201280', 'item_name': 'Deus Ex: Human Revolution - The Missing Link', 'playtime_forever': 0, 'playtime_2weeks': 0}, {'item_id': '50300', 'item_name': 'Spec Ops: The Line', 'playtime_forever': 22, 'playtime_2weeks': 0}, {'item_id': '201790', 'item_name': 'Orcs Must Die! 2', 'playtime_forever': 84, 'playtime_2weeks': 0}, {'item_id': '49520', 'item_name': 'Borderlands 2', 'playtime_forever': 2519, 'playtime_2weeks': 0}, {'item_id': '730', 'item_name': 'Counter-Strike: Global Offensive', 'playtime_forever': 16026, 'playtime_2weeks': 160}, {'item_id': '215280', 'item_name': 'The Secret World', 'playtime_forever': 735, 'playtime_2weeks': 0}, {'item_id': '205790', 'item_name': 'Dota 2 Test', 'playtime_forever': 0, 'playtime_2weeks': 0}, {'item_id': '219640', 'item_name': 'Chivalry: Medieval Warfare', 'playtime_forever': 327, 'playtime_2weeks': 0}, {'item_id': '232210', 'item_name': 'Patch testing for Chivalry', 'playtime_forever': 0, 'playtime_2weeks': 0}, {'item_id': '4920', 'item_name': 'Natural Selection 2', 'playtime_forever': 81, 'playtime_2weeks': 0}, ...]\n",
      "76561197993366142                                                                [{'item_id': '6980', 'item_name': 'Thief: Deadly Shadows', 'playtime_forever': 0, 'playtime_2weeks': 0}, {'item_id': '7650', 'item_name': 'X-COM: Terror from the Deep', 'playtime_forever': 0, 'playtime_2weeks': 0}, {'item_id': '8400', 'item_name': 'Geometry Wars: Retro Evolved', 'playtime_forever': 4, 'playtime_2weeks': 0}, {'item_id': '4560', 'item_name': 'Company of Heroes', 'playtime_forever': 28, 'playtime_2weeks': 0}, {'item_id': '228200', 'item_name': 'Company of Heroes (New Steam Version)', 'playtime_forever': 0, 'playtime_2weeks': 0}, {'item_id': '220', 'item_name': 'Half-Life 2', 'playtime_forever': 1253, 'playtime_2weeks': 0}, {'item_id': '320', 'item_name': 'Half-Life 2: Deathmatch', 'playtime_forever': 0, 'playtime_2weeks': 0}, {'item_id': '340', 'item_name': 'Half-Life 2: Lost Coast', 'playtime_forever': 20, 'playtime_2weeks': 0}, {'item_id': '360', 'item_name': 'Half-Life Deathmatch: Source', 'playtime_forever': 0, 'playtime_2weeks': 0}, {'item_id': '380', 'item_name': 'Half-Life 2: Episode One', 'playtime_forever': 236, 'playtime_2weeks': 0}, {'item_id': '400', 'item_name': 'Portal', 'playtime_forever': 377, 'playtime_2weeks': 0}, {'item_id': '420', 'item_name': 'Half-Life 2: Episode Two', 'playtime_forever': 501, 'playtime_2weeks': 0}, {'item_id': '11420', 'item_name': 'Clive Barker's Jericho', 'playtime_forever': 54, 'playtime_2weeks': 0}, {'item_id': '8500', 'item_name': 'EVE Online', 'playtime_forever': 643, 'playtime_2weeks': 0}, {'item_id': '7760', 'item_name': 'X-COM: UFO Defense', 'playtime_forever': 12, 'playtime_2weeks': 0}, {'item_id': '4540', 'item_name': 'Titan Quest', 'playtime_forever': 29, 'playtime_2weeks': 0}, {'item_id': '4550', 'item_name': 'Titan Quest: Immortal Throne', 'playtime_forever': 0, 'playtime_2weeks': 0}, {'item_id': '475150', 'item_name': 'Titan Quest Anniversary Edition', 'playtime_forever': 0, 'playtime_2weeks': 0}, {'item_id': '500', 'item_name': 'Left 4 Dead', 'playtime_forever': 2150, 'playtime_2weeks': 0}, {'item_id': '9480', 'item_name': 'Saints Row 2', 'playtime_forever': 368, 'playtime_2weeks': 0}, {'item_id': '23310', 'item_name': 'The Last Remnant', 'playtime_forever': 26, 'playtime_2weeks': 0}, {'item_id': '22120', 'item_name': 'Penumbra: Black Plague', 'playtime_forever': 0, 'playtime_2weeks': 0}, {'item_id': '22140', 'item_name': 'Penumbra: Requiem', 'playtime_forever': 0, 'playtime_2weeks': 0}, {'item_id': '22180', 'item_name': 'Penumbra: Overture', 'playtime_forever': 46, 'playtime_2weeks': 0}, {'item_id': '24740', 'item_name': 'Burnout Paradise: The Ultimate Box', 'playtime_forever': 0, 'playtime_2weeks': 0}, {'item_id': '1250', 'item_name': 'Killing Floor', 'playtime_forever': 476, 'playtime_2weeks': 0}, {'item_id': '35420', 'item_name': 'Killing Floor Mod: Defence Alliance 2', 'playtime_forever': 0, 'playtime_2weeks': 0}, {'item_id': '16720', 'item_name': 'Velvet Assassin', 'playtime_forever': 53, 'playtime_2weeks': 0}, {'item_id': '22330', 'item_name': 'The Elder Scrolls IV: Oblivion ', 'playtime_forever': 112, 'playtime_2weeks': 0}, {'item_id': '9860', 'item_name': 'The Chronicles of Riddick: Assault on Dark Athena', 'playtime_forever': 0, 'playtime_2weeks': 0}, {'item_id': '35700', 'item_name': 'Trine', 'playtime_forever': 92, 'playtime_2weeks': 0}, {'item_id': '21680', 'item_name': 'Bionic Commando Rearmed', 'playtime_forever': 662, 'playtime_2weeks': 0}, {'item_id': '21670', 'item_name': 'Bionic Commando', 'playtime_forever': 68, 'playtime_2weeks': 0}, {'item_id': '32370', 'item_name': 'STAR WARS™: Knights of the Old Republic™', 'playtime_forever': 11, 'playtime_2weeks': 0}, {'item_id': '20500', 'item_name': 'Red Faction: Guerrilla Steam Edition', 'playtime_forever': 100, 'playtime_2weeks': 0}, {'item_id': '41500', 'item_name': 'Torchlight', 'playtime_forever': 1874, 'playtime_2weeks': 0}, {'item_id': '20900', 'item_name': 'The Witcher: Enhanced Edition', 'playtime_forever': 400, 'playtime_2weeks': 0}, {'item_id': '550', 'item_name': 'Left 4 Dead 2', 'playtime_forever': 2637, 'playtime_2weeks': 0}, {'item_id': '223530', 'item_name': 'Left 4 Dead 2 Beta', 'playtime_forever': 0, 'playtime_2weeks': 0}, {'item_id': '31410', 'item_name': 'Zombie Driver', 'playtime_forever': 45, 'playtime_2weeks': 0}, {'item_id': '43110', 'item_name': 'Metro 2033', 'playtime_forever': 564, 'playtime_2weeks': 0}, {'item_id': '8190', 'item_name': 'Just Cause 2', 'playtime_forever': 50, 'playtime_2weeks': 0}, {'item_id': '49900', 'item_name': 'Plain Sight', 'playtime_forever': 19, 'playtime_2weeks': 0}, {'item_id': '33220', 'item_name': 'Tom Clancy's Splinter Cell: Conviction', 'playtime_forever': 1568, 'playtime_2weeks': 0}, {'item_id': '42640', 'item_name': 'Blur', 'playtime_forever': 117, 'playtime_2weeks': 0}, {'item_id': '33320', 'item_name': 'Prince of Persia: The Forgotten Sands', 'playtime_forever': 0, 'playtime_2weeks': 0}, {'item_id': '33910', 'item_name': 'Arma 2', 'playtime_forever': 0, 'playtime_2weeks': 0}, {'item_id': '33930', 'item_name': 'Arma 2: Operation Arrowhead', 'playtime_forever': 0, 'playtime_2weeks': 0}, {'item_id': '219540', 'item_name': 'Arma 2: Operation Arrowhead Beta (Obsolete)', 'playtime_forever': 0, 'playtime_2weeks': 0}, {'item_id': '42120', 'item_name': 'Lead and Gold - Gangs of the Wild West', 'playtime_forever': 293, 'playtime_2weeks': 0}, {'item_id': '57300', 'item_name': 'Amnesia: The Dark Descent', 'playtime_forever': 0, 'playtime_2weeks': 0}, {'item_id': '8980', 'item_name': 'Borderlands', 'playtime_forever': 2754, 'playtime_2weeks': 0}, {'item_id': '22380', 'item_name': 'Fallout: New Vegas', 'playtime_forever': 683, 'playtime_2weeks': 0}, {'item_id': '31280', 'item_name': 'Poker Night at the Inventory', 'playtime_forever': 271, 'playtime_2weeks': 0}, {'item_id': '40800', 'item_name': 'Super Meat Boy', 'playtime_forever': 2666, 'playtime_2weeks': 0}, {'item_id': '35130', 'item_name': 'Lara Croft and the Guardian of Light', 'playtime_forever': 205, 'playtime_2weeks': 0}, {'item_id': '620', 'item_name': 'Portal 2', 'playtime_forever': 4947, 'playtime_2weeks': 0}, {'item_id': '42910', 'item_name': 'Magicka', 'playtime_forever': 502, 'playtime_2weeks': 0}, {'item_id': '12840', 'item_name': 'DiRT 2', 'playtime_forever': 0, 'playtime_2weeks': 0}, {'item_id': '44320', 'item_name': 'DiRT 3', 'playtime_forever': 1464, 'playtime_2weeks': 0}, {'item_id': '321040', 'item_name': 'DiRT 3 Complete Edition', 'playtime_forever': 0, 'playtime_2weeks': 0}, {'item_id': '92000', 'item_name': 'Hydrophobia: Prophecy', 'playtime_forever': 378, 'playtime_2weeks': 0}, {'item_id': '28050', 'item_name': 'Deus Ex: Human Revolution', 'playtime_forever': 1605, 'playtime_2weeks': 0}, {'item_id': '104600', 'item_name': 'Portal 2 - The Final Hours', 'playtime_forever': 45, 'playtime_2weeks': 0}, {'item_id': '91700', 'item_name': 'E.Y.E: Divine Cybermancy', 'playtime_forever': 85, 'playtime_2weeks': 0}, {'item_id': '39160', 'item_name': 'Dungeon Siege III', 'playtime_forever': 860, 'playtime_2weeks': 0}, {'item_id': '22650', 'item_name': 'Alien Breed 2: Assault', 'playtime_forever': 0, 'playtime_2weeks': 0}, {'item_id': '24960', 'item_name': 'Battlefield: Bad Company 2', 'playtime_forever': 487, 'playtime_2weeks': 0}, {'item_id': '91310', 'item_name': 'Dead Island', 'playtime_forever': 290, 'playtime_2weeks': 0}, {'item_id': '99300', 'item_name': 'Renegade Ops', 'playtime_forever': 353, 'playtime_2weeks': 0}, {'item_id': '2210', 'item_name': 'Quake 4', 'playtime_forever': 79, 'playtime_2weeks': 0}, {'item_id': '107100', 'item_name': 'Bastion', 'playtime_forever': 596, 'playtime_2weeks': 0}, {'item_id': '9200', 'item_name': 'RAGE', 'playtime_forever': 2334, 'playtime_2weeks': 0}, {'item_id': '57690', 'item_name': 'Tropico 4', 'playtime_forever': 7, 'playtime_2weeks': 0}, {'item_id': '24240', 'item_name': 'PAYDAY: The Heist', 'playtime_forever': 1368, 'playtime_2weeks': 0}, {'item_id': '113200', 'item_name': 'The Binding of Isaac', 'playtime_forever': 27, 'playtime_2weeks': 0}, {'item_id': '46540', 'item_name': 'Trapped Dead', 'playtime_forever': 6, 'playtime_2weeks': 0}, {'item_id': '41070', 'item_name': 'Serious Sam 3: BFE', 'playtime_forever': 549, 'playtime_2weeks': 0}, {'item_id': '200900', 'item_name': 'Cave Story+', 'playtime_forever': 146, 'playtime_2weeks': 0}, {'item_id': '22350', 'item_name': 'BRINK', 'playtime_forever': 71, 'playtime_2weeks': 0}, {'item_id': '105450', 'item_name': 'Age of Empires® III: Complete Collection', 'playtime_forever': 2, 'playtime_2weeks': 0}, {'item_id': '65300', 'item_name': 'Dustforce', 'playtime_forever': 109, 'playtime_2weeks': 0}, {'item_id': '110800', 'item_name': 'L.A. Noire', 'playtime_forever': 91, 'playtime_2weeks': 0}, {'item_id': '207490', 'item_name': 'Rayman Origins', 'playtime_forever': 226, 'playtime_2weeks': 0}, {'item_id': '204880', 'item_name': 'Sins of a Solar Empire: Rebellion', 'playtime_forever': 69, 'playtime_2weeks': 0}, {'item_id': '207170', 'item_name': 'Legend of Grimrock', 'playtime_forever': 29, 'playtime_2weeks': 0}, {'item_id': '204060', 'item_name': 'Superbrothers: Sword & Sworcery EP', 'playtime_forever': 31, 'playtime_2weeks': 0}, {'item_id': '96400', 'item_name': 'Shoot Many Robots', 'playtime_forever': 522, 'playtime_2weeks': 0}, {'item_id': '207610', 'item_name': 'The Walking Dead', 'playtime_forever': 995, 'playtime_2weeks': 0}, {'item_id': '50300', 'item_name': 'Spec Ops: The Line', 'playtime_forever': 319, 'playtime_2weeks': 0}, {'item_id': '208140', 'item_name': 'Endless Space', 'playtime_forever': 427, 'playtime_2weeks': 0}, {'item_id': '207080', 'item_name': 'Indie Game: The Movie', 'playtime_forever': 0, 'playtime_2weeks': 0}, {'item_id': '108800', 'item_name': 'Crysis 2 Maximum Edition', 'playtime_forever': 391, 'playtime_2weeks': 0}, {'item_id': '205790', 'item_name': 'Dota 2 Test', 'playtime_forever': 0, 'playtime_2weeks': 0}, {'item_id': '200010', 'item_name': 'Quantum Conundrum', 'playtime_forever': 86, 'playtime_2weeks': 0}, {'item_id': '207350', 'item_name': 'Ys Origin', 'playtime_forever': 13, 'playtime_2weeks': 0}, {'item_id': '204100', 'item_name': 'Max Payne 3', 'playtime_forever': 670, 'playtime_2weeks': 0}, {'item_id': '212630', 'item_name': 'Tom Clancy's Ghost Recon Future Soldier', 'playtime_forever': 1097, 'playtime_2weeks': 0}, {'item_id': '108710', 'item_name': 'Alan Wake', 'playtime_forever': 72, 'playtime_2weeks': 0}, {'item_id': '202750', 'item_name': 'Alan Wake's American Nightmare', 'playtime_forever': 0, 'playtime_2weeks': 0}, ...]\n"
     ]
    }
   ],
   "source": [
    "muestra_user_items_list = muestra(user_items_list, 5)"
   ]
  },
  {
   "cell_type": "markdown",
   "metadata": {},
   "source": [
    "A continuación escribimos el codigo para desanidar la columna items"
   ]
  },
  {
   "cell_type": "code",
   "execution_count": 27,
   "metadata": {},
   "outputs": [],
   "source": [
    "# Creamos una lista para almacenar los datos expandidos\n",
    "expanded_data = []\n",
    "\n",
    "# Se inicia un bucle que itera a través de cada fila del DataFrame user_items_list.\n",
    "for index, row in user_items_list.iterrows():\n",
    "    # Se obtiene la columna 'items' de la fila actual y se almacena en la variable items_list\n",
    "    items_list = row['items']\n",
    "    \n",
    "    # Si la lista de diccionarios en 'items' no está vacía, la expandimos\n",
    "    if items_list:\n",
    "        for item_dict in items_list:\n",
    "            # Creamos un nuevo diccionario basado en la fila original\n",
    "            new_data = row.to_dict()\n",
    "            # Añadimos las columnas adicionales a partir de los datos del 'item_dict'\n",
    "            new_data['item_id'] = item_dict['item_id']\n",
    "            new_data['item_name'] = item_dict['item_name']\n",
    "            new_data['playtime_forever'] = item_dict['playtime_forever']\n",
    "            new_data['playtime_2weeks'] = item_dict['playtime_2weeks']\n",
    "            # Agregamos el nuevo diccionario a 'expanded_data'\n",
    "            expanded_data.append(new_data)\n",
    "\n",
    "# Creamos un nuevo DataFrame a partir de los datos expandidos\n",
    "user_items_list = pd.DataFrame(expanded_data)\n",
    "\n",
    "user_items_list.drop('items', axis=1, inplace=True)"
   ]
  },
  {
   "cell_type": "markdown",
   "metadata": {},
   "source": [
    "Examinamos el resultado"
   ]
  },
  {
   "cell_type": "code",
   "execution_count": 28,
   "metadata": {},
   "outputs": [
    {
     "data": {
      "text/html": [
       "<div>\n",
       "<style scoped>\n",
       "    .dataframe tbody tr th:only-of-type {\n",
       "        vertical-align: middle;\n",
       "    }\n",
       "\n",
       "    .dataframe tbody tr th {\n",
       "        vertical-align: top;\n",
       "    }\n",
       "\n",
       "    .dataframe thead th {\n",
       "        text-align: right;\n",
       "    }\n",
       "</style>\n",
       "<table border=\"1\" class=\"dataframe\">\n",
       "  <thead>\n",
       "    <tr style=\"text-align: right;\">\n",
       "      <th></th>\n",
       "      <th>steam_id</th>\n",
       "      <th>item_id</th>\n",
       "      <th>item_name</th>\n",
       "      <th>playtime_forever</th>\n",
       "      <th>playtime_2weeks</th>\n",
       "    </tr>\n",
       "  </thead>\n",
       "  <tbody>\n",
       "    <tr>\n",
       "      <th>3364224</th>\n",
       "      <td>76561198101528233</td>\n",
       "      <td>264730</td>\n",
       "      <td>Deadly 30</td>\n",
       "      <td>139</td>\n",
       "      <td>0</td>\n",
       "    </tr>\n",
       "    <tr>\n",
       "      <th>4349566</th>\n",
       "      <td>76561198048709958</td>\n",
       "      <td>620</td>\n",
       "      <td>Portal 2</td>\n",
       "      <td>1486</td>\n",
       "      <td>0</td>\n",
       "    </tr>\n",
       "    <tr>\n",
       "      <th>489602</th>\n",
       "      <td>76561198067193543</td>\n",
       "      <td>339280</td>\n",
       "      <td>Strife</td>\n",
       "      <td>44</td>\n",
       "      <td>0</td>\n",
       "    </tr>\n",
       "    <tr>\n",
       "      <th>3470279</th>\n",
       "      <td>76561198175919034</td>\n",
       "      <td>205790</td>\n",
       "      <td>Dota 2 Test</td>\n",
       "      <td>0</td>\n",
       "      <td>0</td>\n",
       "    </tr>\n",
       "    <tr>\n",
       "      <th>2223384</th>\n",
       "      <td>76561198067662758</td>\n",
       "      <td>200170</td>\n",
       "      <td>Worms Revolution</td>\n",
       "      <td>1749</td>\n",
       "      <td>0</td>\n",
       "    </tr>\n",
       "  </tbody>\n",
       "</table>\n",
       "</div>"
      ],
      "text/plain": [
       "                  steam_id item_id         item_name  playtime_forever  \\\n",
       "3364224  76561198101528233  264730         Deadly 30               139   \n",
       "4349566  76561198048709958     620          Portal 2              1486   \n",
       "489602   76561198067193543  339280            Strife                44   \n",
       "3470279  76561198175919034  205790       Dota 2 Test                 0   \n",
       "2223384  76561198067662758  200170  Worms Revolution              1749   \n",
       "\n",
       "         playtime_2weeks  \n",
       "3364224                0  \n",
       "4349566                0  \n",
       "489602                 0  \n",
       "3470279                0  \n",
       "2223384                0  "
      ]
     },
     "execution_count": 28,
     "metadata": {},
     "output_type": "execute_result"
    }
   ],
   "source": [
    "# En este caso simplemente usaremos sample y no llamaremos a la función muestra porque no hay conflictos en la visualización\n",
    "user_items_list.sample(n=5)"
   ]
  },
  {
   "cell_type": "code",
   "execution_count": 29,
   "metadata": {},
   "outputs": [
    {
     "name": "stdout",
     "output_type": "stream",
     "text": [
      "<class 'pandas.core.frame.DataFrame'>\n",
      "RangeIndex: 5094082 entries, 0 to 5094081\n",
      "Data columns (total 5 columns):\n",
      " #   Column            Dtype \n",
      "---  ------            ----- \n",
      " 0   steam_id          int64 \n",
      " 1   item_id           object\n",
      " 2   item_name         object\n",
      " 3   playtime_forever  int64 \n",
      " 4   playtime_2weeks   int64 \n",
      "dtypes: int64(3), object(2)\n",
      "memory usage: 194.3+ MB\n"
     ]
    }
   ],
   "source": [
    "user_items_list.info()"
   ]
  },
  {
   "cell_type": "markdown",
   "metadata": {},
   "source": [
    "Luego dados los objetivos para este proyecto la columna playtime_2weeks es redundante por lo que ya no estara presente en el dataframe, item_name tampoco seria necesario puesto que esta estaria presente en steam_games."
   ]
  },
  {
   "cell_type": "code",
   "execution_count": 32,
   "metadata": {},
   "outputs": [],
   "source": [
    "user_items_list = user_items_list[['steam_id', 'item_id', 'playtime_forever']]"
   ]
  },
  {
   "cell_type": "markdown",
   "metadata": {},
   "source": [
    "Verificamos la existencia de valores nulos"
   ]
  },
  {
   "cell_type": "code",
   "execution_count": 33,
   "metadata": {},
   "outputs": [
    {
     "data": {
      "text/plain": [
       "steam_id            0\n",
       "item_id             0\n",
       "playtime_forever    0\n",
       "dtype: int64"
      ]
     },
     "execution_count": 33,
     "metadata": {},
     "output_type": "execute_result"
    }
   ],
   "source": [
    "nulos_user_items_list = nulos_por_columna(user_items_list)\n",
    "nulos_user_items_list"
   ]
  },
  {
   "cell_type": "markdown",
   "metadata": {},
   "source": [
    "Convertimos las columnas item_id, playtime_forever y playtime_2weeks aun tipo de dato mas conveniente"
   ]
  },
  {
   "cell_type": "code",
   "execution_count": 34,
   "metadata": {},
   "outputs": [],
   "source": [
    "# Cambiamos item_id, playtime_forever y playtime_2weeks por tipo int32\n",
    "user_items_list = cambiar_tipo_columna(user_items_list, 'item_id', 'int32')\n",
    "user_items_list = cambiar_tipo_columna(user_items_list, 'playtime_forever', 'int32')"
   ]
  },
  {
   "cell_type": "markdown",
   "metadata": {},
   "source": [
    "Guardamos el archivo"
   ]
  },
  {
   "cell_type": "code",
   "execution_count": 35,
   "metadata": {},
   "outputs": [],
   "source": [
    "# Guardamos el archivo en un csv con el mismo nombre\n",
    "user_items_list = df_to_parquet(user_items_list, 'user_items_list')"
   ]
  },
  {
   "cell_type": "markdown",
   "metadata": {},
   "source": [
    "## 2. Tratamiento user_reviews.json.gz"
   ]
  },
  {
   "cell_type": "markdown",
   "metadata": {},
   "source": [
    "Abrimos el archivo"
   ]
  },
  {
   "cell_type": "code",
   "execution_count": 21,
   "metadata": {},
   "outputs": [],
   "source": [
    "# Usamos la función line_ast por la presencia de comillas simples en el json\n",
    "df_user_reviews = archivo_to_df('dataset/user_reviews.json.gz', line_ast)"
   ]
  },
  {
   "cell_type": "markdown",
   "metadata": {},
   "source": [
    "Inspeccionamos su información"
   ]
  },
  {
   "cell_type": "code",
   "execution_count": 22,
   "metadata": {},
   "outputs": [
    {
     "name": "stdout",
     "output_type": "stream",
     "text": [
      "<class 'pandas.core.frame.DataFrame'>\n",
      "RangeIndex: 25799 entries, 0 to 25798\n",
      "Data columns (total 3 columns):\n",
      " #   Column    Non-Null Count  Dtype \n",
      "---  ------    --------------  ----- \n",
      " 0   user_id   25799 non-null  object\n",
      " 1   user_url  25799 non-null  object\n",
      " 2   reviews   25799 non-null  object\n",
      "dtypes: object(3)\n",
      "memory usage: 604.8+ KB\n"
     ]
    }
   ],
   "source": [
    "df_user_reviews.info()"
   ]
  },
  {
   "cell_type": "code",
   "execution_count": 23,
   "metadata": {},
   "outputs": [
    {
     "name": "stdout",
     "output_type": "stream",
     "text": [
      "          user_id                                             user_url                                                                                                                                                                                                                                                                                                                                                                                                                                                                                                                                                                                                                                                                                                                                                                                                                                                                                                                                                                                                                                                                                                                                                                                                                                                                                                                                                                                                                                                                                                                                                                                                                                                                                                                                                                                              reviews\n",
      "76561198093276380 http://steamcommunity.com/profiles/76561198093276380 [{'funny': '', 'posted': 'Posted June 6, 2014.', 'last_edited': '', 'item_id': '231430', 'helpful': '3 of 5 people (60%) found this review helpful', 'recommend': True, 'review': 'A great game, cool and epic battles and units'}, {'funny': '', 'posted': 'Posted December 23, 2014.', 'last_edited': '', 'item_id': '274940', 'helpful': '1 of 2 people (50%) found this review helpful', 'recommend': True, 'review': 'Fun to play, however it sometimes tuff to turn around and shoot'}, {'funny': '', 'posted': 'Posted August 24, 2015.', 'last_edited': '', 'item_id': '8930', 'helpful': 'No ratings yet', 'recommend': True, 'review': 'very addicting, very fun and very cool. BUY IT!!!'}, {'funny': '', 'posted': 'Posted July 4, 2015.', 'last_edited': '', 'item_id': '10500', 'helpful': 'No ratings yet', 'recommend': True, 'review': 'This game is quite good in combat, in some good areas of campaign and maybe a little bit of multiplayer. However I'm dissapointed in the acheivements. I play many nations in the grand campaign on easy and normal to earn the the level acheivements, however I still didn't get it. I even conqured india to earn that conquest of india acheivement and I still didn't get it. This game has screwed me over the acheivements, however if u play all the nations and still have fun with the multiplayer ur going to love it.'}, {'funny': '', 'posted': 'Posted June 19, 2015.', 'last_edited': '', 'item_id': '233450', 'helpful': 'No ratings yet', 'recommend': True, 'review': 'This game does get addicting as you play it for hours!!!!!'}, {'funny': '', 'posted': 'Posted July 11, 2014.', 'last_edited': '', 'item_id': '440', 'helpful': 'No ratings yet', 'recommend': True, 'review': 'VERY FUN and VERY COOL!!!!!!!!!!'}]\n",
      "76561198078513713 http://steamcommunity.com/profiles/76561198078513713                                                       [{'funny': '', 'posted': 'Posted October 21, 2015.', 'last_edited': '', 'item_id': '203160', 'helpful': '1 of 1 people (100%) found this review helpful', 'recommend': True, 'review': 'The game and story is so ❤❤❤❤❤ imersive'}, {'funny': '', 'posted': 'Posted October 21, 2015.', 'last_edited': '', 'item_id': '313690', 'helpful': '0 of 1 people (0%) found this review helpful', 'recommend': True, 'review': 'So much heros/villian :D'}, {'funny': '', 'posted': 'Posted October 21, 2015.', 'last_edited': '', 'item_id': '105600', 'helpful': 'No ratings yet', 'recommend': True, 'review': 'been playing since 1.2 so much thing to do ❤❤❤'}, {'funny': '', 'posted': 'Posted October 21, 2015.', 'last_edited': '', 'item_id': '440', 'helpful': 'No ratings yet', 'recommend': True, 'review': 'My no.1 class based fps ive got over 1000+ hour on my alt acc ❤'}, {'funny': '', 'posted': 'Posted October 21, 2015.', 'last_edited': '', 'item_id': '1250', 'helpful': 'No ratings yet', 'recommend': True, 'review': '❤❤❤❤❤ loved this blood gore, working together to survie keept me play for a while'}, {'funny': '', 'posted': 'Posted October 21, 2015.', 'last_edited': '', 'item_id': '212680', 'helpful': 'No ratings yet', 'recommend': True, 'review': 'Very well crafted game all the decisions/options were amazing'}, {'funny': '', 'posted': 'Posted October 21, 2015.', 'last_edited': '', 'item_id': '49520', 'helpful': 'No ratings yet', 'recommend': True, 'review': 'There a ❤❤❤❤ ton of content work every dollar'}, {'funny': '', 'posted': 'Posted October 21, 2015.', 'last_edited': '', 'item_id': '200260', 'helpful': 'No ratings yet', 'recommend': True, 'review': 'Blew my bloody mid away'}]\n",
      "     TheDropix101            http://steamcommunity.com/id/TheDropix101                                                                                                                                                                                                                                                                                                                                                                                                                                                                                                                                                                                                                                                                                                                                                                                                                                                                                                                                                                                                                                                                                                                                                                                                                                                                                                                                                                                                                [{'funny': '', 'posted': 'Posted January 11.', 'last_edited': '', 'item_id': '242920', 'helpful': '2 of 2 people (100%) found this review helpful', 'recommend': True, 'review': 'This game is very good, i'd recommend it to just about anybody I know, although something bad I found out about it on my first day is that Banished is a life eater, all aside I love this game,'}]\n",
      "76561198069233575 http://steamcommunity.com/profiles/76561198069233575                                                                                                                                                                                                                                                                                                                                                                                                                                                                                                                                                                                                                                                                                                                                                                                                                                                                                                                                                                                                                                                                                                                                                                                                                                                                                                                                                                                                                                                                                                                                                                [{'funny': '3 people found this review funny', 'posted': 'Posted June 6, 2015.', 'last_edited': '', 'item_id': '333930', 'helpful': '7 of 16 people (44%) found this review helpful', 'recommend': True, 'review': 'love this game'}]\n",
      "76561198063193211 http://steamcommunity.com/profiles/76561198063193211                                                                                                                                                                                                                                                                                                                                                                                                                                                                                                                                                                                                                                                                                                                                                                                                                                                                                                                                                                                                                                                                                                                                                                                                                                                                                                                                                                                                                                                                                                        [{'funny': '', 'posted': 'Posted September 30, 2014.', 'last_edited': '', 'item_id': '42700', 'helpful': 'No ratings yet', 'recommend': True, 'review': 'good game 3 modes campaign multilayer and zombies multiplayer mmain thing 15 prestige levels till 50 on each buy it NOW!!!!!!!!!!'}]\n"
     ]
    }
   ],
   "source": [
    "muestra_df_user_reviews = muestra(df_user_reviews, 5)"
   ]
  },
  {
   "cell_type": "markdown",
   "metadata": {},
   "source": [
    "Eliminamos las filas vacias y duplicadas"
   ]
  },
  {
   "cell_type": "code",
   "execution_count": 24,
   "metadata": {},
   "outputs": [
    {
     "name": "stdout",
     "output_type": "stream",
     "text": [
      "El numero de filas vacias eliminadas es: 0\n"
     ]
    }
   ],
   "source": [
    "# Eliminamos filas vacias\n",
    "df_user_reviews = eliminar_filas_vacias(df_user_reviews)"
   ]
  },
  {
   "cell_type": "code",
   "execution_count": 25,
   "metadata": {},
   "outputs": [
    {
     "name": "stdout",
     "output_type": "stream",
     "text": [
      "El numero de filas duplicadas eliminadas es: 314\n"
     ]
    }
   ],
   "source": [
    "# Eliminamos filas duplicadas, teniendo en cuenta que la columna reviews contiene listas\n",
    "df_user_reviews = filas_duplicadas_con_excepcion(df_user_reviews, ['reviews'])"
   ]
  },
  {
   "cell_type": "markdown",
   "metadata": {},
   "source": [
    "Verificamos los nulos por columna"
   ]
  },
  {
   "cell_type": "code",
   "execution_count": 26,
   "metadata": {},
   "outputs": [
    {
     "data": {
      "text/plain": [
       "user_id     0\n",
       "user_url    0\n",
       "reviews     0\n",
       "dtype: int64"
      ]
     },
     "execution_count": 26,
     "metadata": {},
     "output_type": "execute_result"
    }
   ],
   "source": [
    "nulos2 = nulos_por_columna(df_user_reviews)\n",
    "nulos2"
   ]
  },
  {
   "cell_type": "markdown",
   "metadata": {},
   "source": [
    "Una vez considerado todo esto empezaremos a solo considerar las columnas user_id y reviews ya que son las que generan importancia, ademas de que no necesitamos recuperar informacion de user_url."
   ]
  },
  {
   "cell_type": "code",
   "execution_count": 27,
   "metadata": {},
   "outputs": [],
   "source": [
    "df_user_reviews = df_user_reviews[['user_id', 'reviews']]"
   ]
  },
  {
   "cell_type": "markdown",
   "metadata": {},
   "source": [
    "Luego observamos que tenemos user_id de un anterior dataframe llamado user_items por lo que relacionaremos ambas columnas y extraeremos la columna steam_id"
   ]
  },
  {
   "cell_type": "code",
   "execution_count": 28,
   "metadata": {},
   "outputs": [],
   "source": [
    "# Realiza una fusión merge basada en la columna 'user_id' para agregar 'steam_id' a df_user_reviews\n",
    "df_user_reviews = df_user_reviews.merge(user_items[['user_id', 'steam_id']], on='user_id', how='left')"
   ]
  },
  {
   "cell_type": "code",
   "execution_count": 29,
   "metadata": {},
   "outputs": [
    {
     "data": {
      "text/plain": [
       "user_id     0\n",
       "reviews     0\n",
       "steam_id    4\n",
       "dtype: int64"
      ]
     },
     "execution_count": 29,
     "metadata": {},
     "output_type": "execute_result"
    }
   ],
   "source": [
    "nulos3 = nulos_por_columna(df_user_reviews)\n",
    "nulos3"
   ]
  },
  {
   "cell_type": "markdown",
   "metadata": {},
   "source": [
    "Observamos que existen 4 filas que no pudieron encontrar valor en user_items, para este caso las eliminaremos directamente puesto que rellenar información en la tabla presente tambien conllevaria a completar aun mas información en el dataframe user_items."
   ]
  },
  {
   "cell_type": "code",
   "execution_count": 30,
   "metadata": {},
   "outputs": [],
   "source": [
    "df_user_reviews = eliminar_filas_con_nulos(df_user_reviews, 'steam_id')"
   ]
  },
  {
   "cell_type": "code",
   "execution_count": 31,
   "metadata": {},
   "outputs": [
    {
     "name": "stdout",
     "output_type": "stream",
     "text": [
      "<class 'pandas.core.frame.DataFrame'>\n",
      "RangeIndex: 25481 entries, 0 to 25480\n",
      "Data columns (total 3 columns):\n",
      " #   Column    Non-Null Count  Dtype  \n",
      "---  ------    --------------  -----  \n",
      " 0   user_id   25481 non-null  object \n",
      " 1   reviews   25481 non-null  object \n",
      " 2   steam_id  25481 non-null  float64\n",
      "dtypes: float64(1), object(2)\n",
      "memory usage: 597.3+ KB\n"
     ]
    }
   ],
   "source": [
    "df_user_reviews.info()"
   ]
  },
  {
   "cell_type": "markdown",
   "metadata": {},
   "source": [
    "Convertimos steam_id a tipo int64 para normalizar"
   ]
  },
  {
   "cell_type": "code",
   "execution_count": 32,
   "metadata": {},
   "outputs": [],
   "source": [
    "df_user_reviews = cambiar_tipo_columna(df_user_reviews, 'steam_id', 'int64')"
   ]
  },
  {
   "cell_type": "markdown",
   "metadata": {},
   "source": [
    "Luego reordenamos el dataframe considerando solo steam_id y reviews ya que user_id es redundante"
   ]
  },
  {
   "cell_type": "code",
   "execution_count": 33,
   "metadata": {},
   "outputs": [],
   "source": [
    "df_user_reviews = df_user_reviews[['steam_id', 'reviews']]"
   ]
  },
  {
   "cell_type": "code",
   "execution_count": 34,
   "metadata": {},
   "outputs": [
    {
     "name": "stdout",
     "output_type": "stream",
     "text": [
      "         steam_id                                                                                                                                                                                                                                                                                                                                                                                                                                                                                                                                                                                                                                                                                                                                                                                                                                                                                                                                                                                                                                                                                                                                                                                                                                                                                                                                                                                                                                                                                                                                                                                                                                                                                                                                                                                                                                                                                                                                                                                                                                                                                                                                                                                                                                                                                                                                                                                                                                                                                                                                                                                                                                                                                                                                                                                                                                                                                                                                                                                                                                                                                                                                                                                                                                                                                                                                                                                                                                                                                                                                                                                                                                                                                                                                                                                                                                                                                                                                                                                                                                                                                                                                                                                                                                                                                                                                                                                                                                                                                                                                                                                                                                                                                                                                                                                                                                                                                                                                                               reviews\n",
      "76561198065335008                                                                                                                                                                                                                                                                                                                                                                                                                                                                                                                                                                                                                                                                                                                                                                                                                                                                                                                                                                                                                                                                                                                                                                                                                                                                                                                                                                                                                                                                                                                                                                                                                                                                                                                                                                                                                                                                                                                                                                                                                                                                                                                                                                                                                                                                                                                                                                                                                                                                                                                                                                                                                                                                                                                                                                                                                                                                                                                                                                                                                                                                                                                                                                                                                                                                                                                                                                                                                                                                                                                                                                                                                                                                                                                                                                                                                                                                                                                                                                                                                                                                                                                                                                                                                                                                                                                                                                                                                                                                                                                                                                                                                                                                                                                                                         [{'funny': '', 'posted': 'Posted January 5, 2014.', 'last_edited': '', 'item_id': '440', 'helpful': 'No ratings yet', 'recommend': True, 'review': 'This game is amazing! Lots of fun. Can't stop playing.'}]\n",
      "76561198075749216                                                                                                                                                                                                                                                                                                                                                                                                                                                                                                                                                                                                                                                                                                                                                                                                                                                                                                                                                                                                                                                                                                                                                                                                                                                                                                                                                                                                                                                                                                                                                                                                                                                                                                                                                                                                                                                                                                                                                                                                                                                                                                                                                                                                                                                                                                                                                                                                                                                                                                                                                                                                                                                                                                  [{'funny': '1 person found this review funny', 'posted': 'Posted May 3.', 'last_edited': 'Last edited May 4.', 'item_id': '394230', 'helpful': '8 of 12 people (67%) found this review helpful', 'recommend': True, 'review': 'Game needs some optimization for AMD users, but im enjoying it thoroughly.Ignore overwatch fanboys. this game is completely different.'}, {'funny': '', 'posted': 'Posted December 16, 2013.', 'last_edited': '', 'item_id': '250340', 'helpful': '2 of 3 people (67%) found this review helpful', 'recommend': True, 'review': 'Bought this game years back, never regretted it once. like GMOD with lego, you can waste hours just messing about with friends or on games like pecons boss battles.i highly recommend trying this game out.'}, {'funny': '', 'posted': 'Posted March 23.', 'last_edited': '', 'item_id': '435870', 'helpful': 'No ratings yet', 'recommend': True, 'review': 'Dont let the cheapskates fool you. this DLC is worth the 10$ price tag. The mission is rather short, but enjoyable. the real fun is where the robot customization is, being able to have a companion robot with a mister handy booster for maximum speed, two flamethrowers for insects and ghouls, and a hacking module because you dont have a high INT. the customization is unreal and you can make your companion a force to be reckoned with, or a pack mule to carry your stuff (the maximum carry weight on your robot is amazing!)The eye bot pods you can unlock by finding the blueprints in the mechanists' lair is also very helpful. you build one in your settlement, and set it to find either components, ammunition(of any kind! including mininukes, cannonballs, and rail spikes!), or explosives(baseball grenades, pulse grenades, etc)i found this feature extraordinarily helpful when building my bots, and great for upgrading my weaponry, because i didnt have to waste caps on shipments or waste too much time scouring locations for rare materials.(unfortunately you cannot scavenge gold. but every other material is available, including crystal, fibre optics, and nuclear material!)This DLC is definitely worth the 10$ USD i spent on it,and hey, at least it isnt a goat simulator heist.'}]\n",
      "76561198077744448 [{'funny': '', 'posted': 'Posted June 28, 2014.', 'last_edited': '', 'item_id': '203160', 'helpful': '1 of 1 people (100%) found this review helpful', 'recommend': True, 'review': 'This being my first Tomb Raider game I ever played I will try give you my best summary of this game as to if it is worth buying.The short answer is yes, IF it is on discount. $20 is quite a lot of the content that you get in my opinion. It doesn't have a lot of replayable aspects to it and the gameplay is very controlled.My major pros were:* The beauty, amazing visual performance* Fun, action packed gameplay* Very accesible, meaning it's well suited for new gamers as well* Fun mechanics such as climbing, free running sort of movementsMy major cons were:* Very controlled gameplay, the game gives you a very easy path to follow* The storyline is average, it comes over as not very well thought about* Customization in my opinion is meh-ishOverall a 7/10 game, Definetely worth playing trough if you get it on sale!'}, {'funny': '', 'posted': 'Posted December 4, 2013.', 'last_edited': '', 'item_id': '220240', 'helpful': '1 of 1 people (100%) found this review helpful', 'recommend': True, 'review': 'Possibly the funnest FPS i've played in a very long time, I love everything about this game. Great weapon customisation allows you to make guns how you like them, A unique crafting and hunting system to help you survive the massive open world of the tropical Island. Great storyline that makes you want to complete it. It might be a little pricey but it is worth the money you put in in my opinion.  Just be wary before you purchase this game since it is quite demanding on your system so just make sure you can run it properly before buying this but overall a great game.'}, {'funny': '', 'posted': 'Posted February 12, 2014.', 'last_edited': '', 'item_id': '240', 'helpful': '1 of 2 people (50%) found this review helpful', 'recommend': True, 'review': 'One of the best FPS i've ever played :)'}, {'funny': '', 'posted': 'Posted November 14, 2014.', 'last_edited': '', 'item_id': '43110', 'helpful': 'No ratings yet', 'recommend': True, 'review': 'Damn!Thats my first impression, it's a hell of a game. It sucks you in from the first second. I have never been a fan of horror games but this is a very nice one, I wouldn't quite call it a horror but it's definetly a thriller. It is keeping me on the edge of the seat with clammy hands troughout. Everyday so far I have been coming back to this for an hour or so.The game mechanics are awesome, the combat feels good and it's really fun. Very large possibility for a stealth approach or an all in guns blazing approach. 9/10!'}, {'funny': '', 'posted': 'Posted June 28, 2014.', 'last_edited': '', 'item_id': '224540', 'helpful': 'No ratings yet', 'recommend': False, 'review': 'Jagex bought the game from the developer of the original Ace of Spades and ruined it. It has turned into a worse version of TF2 now and the point of building is quite pointless. They have done everything that they shouldn't have and added a price tag to it.  RIP Old Ace of Spades'}, {'funny': '', 'posted': 'Posted December 4, 2013.', 'last_edited': '', 'item_id': '238960', 'helpful': 'No ratings yet', 'recommend': True, 'review': 'Great game if you are a fan of massive battles against monsters with a huge party or maybe taking on the world by yourself. If I was to compare it to another MMO it'd be Diablo 3 but since this is free you might as well try it out. It has very nice character customisation so you can create your very own warrior just how you like him or her to be with a skill tree to choose perks from the size of Russia.This game has greatly improved since the beta and has a nice storyline with multiplayer aspects to it. Fun game to play with friends.'}, {'funny': '', 'posted': 'Posted December 4, 2013.', 'last_edited': '', 'item_id': '4760', 'helpful': 'No ratings yet', 'recommend': True, 'review': 'A very nice RTS game, epic battles, massive sieges and a fun campaign. Be aware that it is quite an old game with quite old graphics so don't expect wonderful visual performance but still a fun game to play. Probably better of getting this game on sale since but $12.99 isn't massively over priced.'}, {'funny': '', 'posted': 'Posted December 4, 2013.', 'last_edited': '', 'item_id': '203140', 'helpful': 'No ratings yet', 'recommend': True, 'review': 'A very fun game with great new mecanics and some very interesting characters how ever it is over priced in my opinion for the time you can actually play it for. I completed the game on normal difficulty in 15 hours and you could probably do it a bit quicker so just be aware of that.Overall a fun game with a good story and definetely worth a play if you can get it on sale!'}]\n",
      "76561198030042192                                                                                                                                                                                                                                                                                                                                                                                                                                                                                                                                                                                                                                                                                                                                                                                                                                                                                                                                                                                                                                                                                                                                                                                                                                                                                                                                                                                                                                                                                                                                                                                                                                                                                                                                                                                                                                                                                                                                                                                                                                                                                                                                                                                                                                                                                                                                                                                                                                                                                                                                                                                                                                                                                                                                                                                                                                                                                                                                                                                                                                                                                                                                                                                                                                                                                                                                                                                                                                                                                                                                                                                                                                                                                                                                                                                                                                                                                                                                                                                                                                                                                                                                                                                                                                                                                                                                                                                                                                                                                                                                                                                                                                                                                                                                                                      [{'funny': '', 'posted': 'Posted November 2, 2015.', 'last_edited': '', 'item_id': '271590', 'helpful': 'No ratings yet', 'recommend': True, 'review': '10/10 Punched a hooker in the ovaries'}]\n",
      "76561198081027968                                                                                                                                                                                                                                                                                                                                                                                                                                                                                                                                                                                                                                                                                                                                                                                                                                                                                                                                                                                                                                                                                                                                                                                                                                                                                                                                                                                                                                                                                                                                                                                                                                                                                                                                                                                                                                                                                                                                                                                                                                                                                                                                                                                                                                                                                                                                                                                                                                                                                                                                                                                                                                                                                                                                                                                                                                                                                                                                                                                                                                                                                                                                                                                                                                                                                                                                                                                                                                                                                                                                                                                                                                                                                                                                                                                                                                                                                                                                                                                                                                                                                                                                                                                                                                                                                                                                                                                                                                                                                                             [{'funny': '', 'posted': 'Posted December 31, 2014.', 'last_edited': '', 'item_id': '282070', 'helpful': 'No ratings yet', 'recommend': True, 'review': 'Really a different experience for me. Very difficult to understand all the aspects of the game, however once learned are really compelling along with the countless moral decisions you have to make. Really a confronting a beautiful experience. Dont forget to get a rain water collector!'}]\n"
     ]
    }
   ],
   "source": [
    "muestra_df_user_reviews2 = muestra(df_user_reviews, 5)"
   ]
  },
  {
   "cell_type": "markdown",
   "metadata": {},
   "source": [
    "Observamos un caso similar un anterior dataframe por lo que procederemos de manera similar por lo que primero extraeremos las keys de un elemento para posteriormente basarnos en esta información para poder escribir el codigo."
   ]
  },
  {
   "cell_type": "code",
   "execution_count": 35,
   "metadata": {},
   "outputs": [
    {
     "data": {
      "text/plain": [
       "dict_keys(['funny', 'posted', 'last_edited', 'item_id', 'helpful', 'recommend', 'review'])"
      ]
     },
     "execution_count": 35,
     "metadata": {},
     "output_type": "execute_result"
    }
   ],
   "source": [
    "# Usamos propiedades de ubicación de los diferentes elementos\n",
    "df_user_reviews['reviews'][0][0].keys()\n",
    "# df_user_reviews['reviews'][0] hace referencia a la ubicación del elemento en el dataframe que seria una lista, el siguiente [0] representa al primer elemento de la lista\n",
    "# que es un diccionario, y por ultimo .keys() nos devuelve las llaves de este diccionario"
   ]
  },
  {
   "cell_type": "markdown",
   "metadata": {},
   "source": [
    "Usando la información encontrada podemos empezar a escribir el codigo para expandir el dataframe recordando que al no tener comillas dobles no podemos usar funciones pertecientes a json"
   ]
  },
  {
   "cell_type": "code",
   "execution_count": 36,
   "metadata": {},
   "outputs": [],
   "source": [
    "# Creamos una lista para almacenar los datos expandidos\n",
    "expanded_data = []\n",
    "\n",
    "# Iteramos sobre cada fila del DataFrame original ('prueba')\n",
    "for index, row in df_user_reviews.iterrows():\n",
    "    # Obtenemos la lista de diccionarios en la columna 'items' de la fila actual\n",
    "    items_list = row['reviews']\n",
    "    \n",
    "    # Si la lista de 'items' está vacía, agregamos la fila original a 'expanded_data'\n",
    "    if items_list:\n",
    "        for item_dict in items_list:\n",
    "            # Creamos un nuevo diccionario basado en la fila original\n",
    "            new_data = row.to_dict()\n",
    "            # Añadimos las columnas adicionales a partir de los datos del 'item_dict'\n",
    "            new_data['funny'] = item_dict['funny']\n",
    "            new_data['posted'] = item_dict['posted']\n",
    "            new_data['item_id'] = item_dict['item_id']\n",
    "            new_data['helpful'] = item_dict['helpful']\n",
    "            new_data['recommend'] = item_dict['recommend']\n",
    "            new_data['review'] = item_dict['review']\n",
    "            # Agregamos el nuevo diccionario a 'expanded_data'\n",
    "            expanded_data.append(new_data)\n",
    "\n",
    "# Creamos un nuevo DataFrame a partir de los datos expandidos\n",
    "user_reviews = pd.DataFrame(expanded_data)\n",
    "\n",
    "user_reviews.drop('reviews', axis=1, inplace=True)"
   ]
  },
  {
   "cell_type": "markdown",
   "metadata": {},
   "source": [
    "Ahora buscamos nulos por fila"
   ]
  },
  {
   "cell_type": "code",
   "execution_count": 37,
   "metadata": {},
   "outputs": [
    {
     "data": {
      "text/plain": [
       "steam_id     0\n",
       "funny        0\n",
       "posted       0\n",
       "item_id      0\n",
       "helpful      0\n",
       "recommend    0\n",
       "review       0\n",
       "dtype: int64"
      ]
     },
     "execution_count": 37,
     "metadata": {},
     "output_type": "execute_result"
    }
   ],
   "source": [
    "nulos_user_reviews = nulos_por_columna(user_reviews)\n",
    "nulos_user_reviews"
   ]
  },
  {
   "cell_type": "markdown",
   "metadata": {},
   "source": [
    "Observamos los tipos de columna del dataframe para verificar si se necesitan transformaciones"
   ]
  },
  {
   "cell_type": "code",
   "execution_count": 38,
   "metadata": {},
   "outputs": [
    {
     "name": "stdout",
     "output_type": "stream",
     "text": [
      "         steam_id                            funny                    posted item_id                                       helpful  recommend                                                                                                                                                                                                                                                                                                                                                                                                                                                                                                                                                                                                                                                                                                                                                                                                                                                                                                                                                                                                                                                                                                                                                                                                                                                                                                                                                                                                                                                                                                                                                                                                                                                                                                                                                                                                                                                                                                                                                                                                                                                                                                       review\n",
      "76561198073576544                                              Posted May 9.   49520                                No ratings yet       True                                                                                                                                                                                                                                                                                                                                                                                                                                                                                                                                                                                                                                                                                                                                                                                                                                                                                                                                                                                                                                                                                                                                                                                                                                                                                                                                                                                                                                                                                                                                                                                                                                                                                                                                                                                                                                                                                                                                                                                                                                                                     Awsome game cant wait for borderlands 3!\n",
      "76561198042471840                                  Posted February 15, 2014.     570                                No ratings yet       True                                                                                                                                                                                                                                                                                                                                                                                                                                                                                                                                                                                                                                                                                                                                                                                                                                                                                                                                                                                                                                                                                                                                                                                                                                                                                                                                                                                                                                                                                                                                                                                                                                                                                                                                                                                                                                                                                                                                                                                                                                                                                       great with teh friends\n",
      "76561198039779936 3 people found this review funny            Posted July 2.  245170 3 of 7 people (43%) found this review helpful       True I'm playing for the story I swear  I'm playing for the story I swear  I'm playing for the story I swear  I'm playing for the story I swear  I'm playing for the story I swear  I'm playing for the story I swear  I'm playing for the story I swear  I'm playing for the story I swear  I'm playing for the story I swear  I'm playing for the story I swear  I'm playing for the story I swear  I'm playing for the story I swear  I'm playing for the story I swear  I'm playing for the story I swear  I'm playing for the story I swear  I'm playing for the story I swear  I'm playing for the story I swear  I'm playing for the story I swear  I'm playing for the story I swear  I'm playing for the story I swear  I'm playing for the story I swear  I'm playing for the story I swear  I'm playing for the story I swear  I'm playing for the story I swear  I'm playing for the story I swear  I'm playing for the story I swear  I'm playing for the story I swear  I'm playing for the story I swear  I'm playing for the story I swear  I'm playing for the story I swear  I'm playing for the story I swear  I'm playing for the story I swear  I'm playing for the story I swear  I'm playing for the story I swear  I'm playing for the story I swear  I'm playing for the story I swear  I'm playing for the story I swear  I'm playing for the story I swear  I'm playing for the story I swear  I'm playing for the story I swear  I'm playing for the story I swear  I'm playing for the story I swear  I'm playing for the story I swear  I'm playing for the story I swear  I'm playing for the story I swear  I'm playing for the story I swear  I'm playing for the story I swear  I'm playing for the story I swear  I'm playing for the story I swear  I'm playing for the story I swear  I'm playing for the story I swear  I'm playing for the story I swear  I'm playing for the story I swear  I'm playing for the story I swear  I'm playing for the story I swear  I'm playing for the story I swear  I'm playing for the story I swear  I'm playing for the story I swear\n",
      "76561198122822624                                      Posted July 24, 2014.  221100                                No ratings yet       True                                                                                                                                                                                                                                                                                                                                                                                                                                                                                                                                                                                                                                                                                                                                                                                                                                                                                                                                                                                                                                                                                                                                                                                                                                                                                                                                                                                                                                                                                                                                                                                                                                                                                                                                                                                                                                                                                                                                                                                                                         游戏本身是非常不错的，但是bug还是有点多，而且更新的特别慢。但是非常好玩，这游戏不只是与僵尸做斗争生存下来，而是人与人之间打，我就不想说我杀了多少人了。。。。值得购买\n",
      "76561198086077360                                      Posted March 7, 2014.   22370                                No ratings yet       True                                                                                                                                                                                                                                                                                                                                                                                                                                                                                                                                                                                                                                                                                                                                                                                                                                                                                                                                                                                                                                                                                                                                                                                                                                                                                                                                                                                                                                                                                                                                                                                                                                                                                                                                                                                                                                                                                                                                                                                                                           I love this game I would strongly reccomend it for anyoe who wants to play it ! :)\n"
     ]
    }
   ],
   "source": [
    "muestra_user_reviews = muestra(user_reviews, 5)"
   ]
  },
  {
   "cell_type": "code",
   "execution_count": 39,
   "metadata": {},
   "outputs": [
    {
     "name": "stdout",
     "output_type": "stream",
     "text": [
      "<class 'pandas.core.frame.DataFrame'>\n",
      "RangeIndex: 58415 entries, 0 to 58414\n",
      "Data columns (total 7 columns):\n",
      " #   Column     Non-Null Count  Dtype \n",
      "---  ------     --------------  ----- \n",
      " 0   steam_id   58415 non-null  int64 \n",
      " 1   funny      58415 non-null  object\n",
      " 2   posted     58415 non-null  object\n",
      " 3   item_id    58415 non-null  object\n",
      " 4   helpful    58415 non-null  object\n",
      " 5   recommend  58415 non-null  bool  \n",
      " 6   review     58415 non-null  object\n",
      "dtypes: bool(1), int64(1), object(5)\n",
      "memory usage: 2.7+ MB\n"
     ]
    }
   ],
   "source": [
    "user_reviews.info()"
   ]
  },
  {
   "cell_type": "markdown",
   "metadata": {},
   "source": [
    "Cambiamos el tipo de columna de item_id a int32"
   ]
  },
  {
   "cell_type": "code",
   "execution_count": 40,
   "metadata": {},
   "outputs": [],
   "source": [
    "user_reviews = cambiar_tipo_columna(user_reviews, 'item_id', 'int32')"
   ]
  },
  {
   "cell_type": "markdown",
   "metadata": {},
   "source": [
    "Luego reordenaremos las columnas para posteriormente solo considerar aquellas columnas con los objetivos solicitados"
   ]
  },
  {
   "cell_type": "code",
   "execution_count": 41,
   "metadata": {},
   "outputs": [],
   "source": [
    "user_reviews = user_reviews[['steam_id', 'item_id', 'posted', 'recommend', 'review']]"
   ]
  },
  {
   "cell_type": "markdown",
   "metadata": {},
   "source": [
    "Ahora trataremos con la columna posted ya que la necesitamos en un formato que solo exprese años, para ello extraeremos los años presentes para deducir el año que faltaria y completarlo en los valores NaN"
   ]
  },
  {
   "cell_type": "code",
   "execution_count": 42,
   "metadata": {},
   "outputs": [
    {
     "data": {
      "text/plain": [
       "posted\n",
       "2014    21831\n",
       "2015    18147\n",
       "NaN      9927\n",
       "2013     6713\n",
       "2012     1201\n",
       "2011      530\n",
       "2010       66\n",
       "Name: count, dtype: int64"
      ]
     },
     "execution_count": 42,
     "metadata": {},
     "output_type": "execute_result"
    }
   ],
   "source": [
    "year_counts = user_reviews['posted'].str.extract(r'(\\d{4})', expand=False)\n",
    "year_counts = year_counts.value_counts(dropna=False)\n",
    "year_counts"
   ]
  },
  {
   "cell_type": "markdown",
   "metadata": {},
   "source": [
    "Como podemos observar tenemos años que van del 2010 al 2015 entonces deducimos que el siguiente valor es 2016 el cual sera el valor asignado para NaN, entonces procedemos a realizar el reemplazo"
   ]
  },
  {
   "cell_type": "code",
   "execution_count": 43,
   "metadata": {},
   "outputs": [],
   "source": [
    "# Creamos la funcion para extraer el año y reemplazar en caso sea necesario\n",
    "def extract_year(date_str):\n",
    "    year_match = re.search(r'\\d{4}', date_str)\n",
    "    if year_match:\n",
    "        return year_match.group(0)\n",
    "    return '2016'\n",
    "\n",
    "user_reviews['posted'] = user_reviews['posted'].apply(extract_year)"
   ]
  },
  {
   "cell_type": "markdown",
   "metadata": {},
   "source": [
    "Ahora procedemos a cambiar la columna recommend con 0 y 1 correspondientemente para y False y True"
   ]
  },
  {
   "cell_type": "code",
   "execution_count": 44,
   "metadata": {},
   "outputs": [],
   "source": [
    "user_reviews['recommend'] = user_reviews['recommend'].replace({True: 1, False: 0})\n",
    "user_reviews['recommend'] = user_reviews['recommend'].astype(int)"
   ]
  },
  {
   "cell_type": "markdown",
   "metadata": {},
   "source": [
    "Ahora convertiremos las columnas recommend y posted a int32"
   ]
  },
  {
   "cell_type": "code",
   "execution_count": 45,
   "metadata": {},
   "outputs": [],
   "source": [
    "user_reviews = cambiar_tipo_columna(user_reviews, 'posted', 'int32')\n",
    "user_reviews = cambiar_tipo_columna(user_reviews, 'recommend', 'int32')"
   ]
  },
  {
   "cell_type": "code",
   "execution_count": 46,
   "metadata": {},
   "outputs": [
    {
     "name": "stdout",
     "output_type": "stream",
     "text": [
      "<class 'pandas.core.frame.DataFrame'>\n",
      "RangeIndex: 58415 entries, 0 to 58414\n",
      "Data columns (total 5 columns):\n",
      " #   Column     Non-Null Count  Dtype \n",
      "---  ------     --------------  ----- \n",
      " 0   steam_id   58415 non-null  int64 \n",
      " 1   item_id    58415 non-null  int32 \n",
      " 2   posted     58415 non-null  int32 \n",
      " 3   recommend  58415 non-null  int32 \n",
      " 4   review     58415 non-null  object\n",
      "dtypes: int32(3), int64(1), object(1)\n",
      "memory usage: 1.6+ MB\n"
     ]
    }
   ],
   "source": [
    "user_reviews.info()"
   ]
  },
  {
   "cell_type": "markdown",
   "metadata": {},
   "source": [
    "Luego convertimos la columna review a un valor numerico con NLP con la siguiente escala: debe tomar el valor '0' si es malo, '1' si es neutral y '2' si es positivo"
   ]
  },
  {
   "cell_type": "markdown",
   "metadata": {},
   "source": [
    "Usaremos la biblioteca NLTK para hacer el analisis de sentimiento, adicionalmente implementaremos el modelo VADER que esta diseñado para analizar el sentimiento de textos en redes sociales y similares."
   ]
  },
  {
   "cell_type": "markdown",
   "metadata": {},
   "source": [
    "Traemos al modelo VADER"
   ]
  },
  {
   "cell_type": "code",
   "execution_count": null,
   "metadata": {},
   "outputs": [],
   "source": [
    "#nltk.download('vader_lexicon')"
   ]
  },
  {
   "cell_type": "markdown",
   "metadata": {},
   "source": [
    "Ahora necesitamos que la columna review este en tipo str"
   ]
  },
  {
   "cell_type": "code",
   "execution_count": 47,
   "metadata": {},
   "outputs": [],
   "source": [
    "user_reviews = cambiar_tipo_columna(user_reviews, 'review', str)"
   ]
  },
  {
   "cell_type": "markdown",
   "metadata": {},
   "source": []
  },
  {
   "cell_type": "code",
   "execution_count": 48,
   "metadata": {},
   "outputs": [],
   "source": [
    "from nltk.sentiment import SentimentIntensityAnalyzer\n",
    "# Crea una instancia de SentimentIntensityAnalyzer\n",
    "sia = SentimentIntensityAnalyzer()\n",
    "\n",
    "# Aplica VADER para obtener la puntuación de polaridad\n",
    "user_reviews['sentiment_analysis'] = user_reviews['review'].apply(lambda x: sia.polarity_scores(x)['compound'])\n",
    "\n",
    "# Mapea los valores de polaridad a la escala deseada\n",
    "user_reviews['sentiment_analysis'] = user_reviews['sentiment_analysis'].apply(lambda x: 0 if x < 0 else (1 if x == 0 else 2))\n"
   ]
  },
  {
   "cell_type": "code",
   "execution_count": 49,
   "metadata": {},
   "outputs": [
    {
     "name": "stdout",
     "output_type": "stream",
     "text": [
      "         steam_id  item_id  posted  recommend                                                                                        review  sentiment_analysis\n",
      "76561198083611264   270880    2016          1 bought this game and loved it but still some how managed to get ♥♥♥♥ caught in ceiling fan :P                   2\n",
      "76561198103200144   321360    2015          1                                                 OMFG SO GOOD 11/10 IGN \"WOULD PLAY AGAIN\"-IGN                   2\n",
      "76561198069235824   304930    2014          1                                                                               quite fantastic                   2\n",
      "76561198058532448   212800    2013          1                                            I knew about this game before i saw it on steam :D                   2\n",
      "76561198078617408     4000    2014          1                                                    all I create in this game would be BARRELS                   2\n"
     ]
    }
   ],
   "source": [
    "muestra_user_reviews2 = muestra(user_reviews, 5)"
   ]
  },
  {
   "cell_type": "markdown",
   "metadata": {},
   "source": [
    "Reordenamos las Columnas"
   ]
  },
  {
   "cell_type": "code",
   "execution_count": 51,
   "metadata": {},
   "outputs": [],
   "source": [
    "user_reviews = user_reviews[['steam_id', 'item_id', 'posted', 'recommend', 'sentiment_analysis', 'review']]"
   ]
  },
  {
   "cell_type": "code",
   "execution_count": 53,
   "metadata": {},
   "outputs": [],
   "source": [
    "user_reviews = cambiar_tipo_columna(user_reviews, 'sentiment_analysis', 'int32')"
   ]
  },
  {
   "cell_type": "code",
   "execution_count": 55,
   "metadata": {},
   "outputs": [],
   "source": [
    "# Ahora guardamos el archivo\n",
    "user_reviews = df_to_parquet(user_reviews, 'user_reviews')"
   ]
  },
  {
   "cell_type": "markdown",
   "metadata": {},
   "source": [
    "## 3. Tratamiento steam_games.json.gz"
   ]
  },
  {
   "cell_type": "markdown",
   "metadata": {},
   "source": [
    "Abrimos el archivo"
   ]
  },
  {
   "cell_type": "code",
   "execution_count": 93,
   "metadata": {},
   "outputs": [],
   "source": [
    "# Usamos la función line_json al ser un archivo que sigue el formato json\n",
    "df_steam_games = archivo_to_df('dataset/steam_games.json.gz', line_json)"
   ]
  },
  {
   "cell_type": "markdown",
   "metadata": {},
   "source": [
    "Inspeccionamos el contenido"
   ]
  },
  {
   "cell_type": "code",
   "execution_count": 94,
   "metadata": {},
   "outputs": [
    {
     "name": "stdout",
     "output_type": "stream",
     "text": [
      "<class 'pandas.core.frame.DataFrame'>\n",
      "RangeIndex: 120445 entries, 0 to 120444\n",
      "Data columns (total 13 columns):\n",
      " #   Column        Non-Null Count  Dtype \n",
      "---  ------        --------------  ----- \n",
      " 0   publisher     24083 non-null  object\n",
      " 1   genres        28852 non-null  object\n",
      " 2   app_name      32133 non-null  object\n",
      " 3   title         30085 non-null  object\n",
      " 4   url           32135 non-null  object\n",
      " 5   release_date  30068 non-null  object\n",
      " 6   tags          31972 non-null  object\n",
      " 7   reviews_url   32133 non-null  object\n",
      " 8   specs         31465 non-null  object\n",
      " 9   price         30758 non-null  object\n",
      " 10  early_access  32135 non-null  object\n",
      " 11  id            32133 non-null  object\n",
      " 12  developer     28836 non-null  object\n",
      "dtypes: object(13)\n",
      "memory usage: 11.9+ MB\n"
     ]
    }
   ],
   "source": [
    "df_steam_games.info()"
   ]
  },
  {
   "cell_type": "code",
   "execution_count": 95,
   "metadata": {},
   "outputs": [
    {
     "name": "stdout",
     "output_type": "stream",
     "text": [
      "    publisher             genres                            app_name                               title                                                                        url release_date                                                                      tags                                                               reviews_url                                                                                 specs  price early_access     id            developer\n",
      "          NaN                NaN                                 NaN                                 NaN                                                                        NaN          NaN                                                                       NaN                                                                       NaN                                                                                   NaN    NaN          NaN    NaN                  NaN\n",
      "          NaN                NaN                                 NaN                                 NaN                                                                        NaN          NaN                                                                       NaN                                                                       NaN                                                                                   NaN    NaN          NaN    NaN                  NaN\n",
      "          NaN [Adventure, Indie] Caffeine - Episode One (Standalone) Caffeine - Episode One (Standalone) http://store.steampowered.com/app/408660/Caffeine__Episode_One_Standalone/   2015-10-12                                                        [Adventure, Indie] http://steamcommunity.com/app/408660/reviews/?browsefilter=mostrecent&p=1 [Single-player, Downloadable Content, Steam Achievements, Partial Controller Support]   3.99        False 408660 Incandescent Imaging\n",
      "Bobbates LLC.        [Adventure]          Thaumistry: In Charm's Way          Thaumistry: In Charm's Way         http://store.steampowered.com/app/532980/Thaumistry_In_Charms_Way/   2017-10-07 [Adventure, Text-Based, Interactive Fiction, Funny, Comedy, Singleplayer] http://steamcommunity.com/app/532980/reviews/?browsefilter=mostrecent&p=1                 [Single-player, Steam Achievements, Steam Trading Cards, Steam Cloud]  14.99        False 532980        Bobbates LLC.\n",
      "          NaN                NaN                                 NaN                                 NaN                                                                        NaN          NaN                                                                       NaN                                                                       NaN                                                                                   NaN    NaN          NaN    NaN                  NaN\n"
     ]
    }
   ],
   "source": [
    "muestra_df_steam_games = muestra(df_steam_games, 5)"
   ]
  },
  {
   "cell_type": "markdown",
   "metadata": {},
   "source": [
    "Empezamos con la limpieza del dataframe"
   ]
  },
  {
   "cell_type": "code",
   "execution_count": 96,
   "metadata": {},
   "outputs": [
    {
     "name": "stdout",
     "output_type": "stream",
     "text": [
      "El numero de filas vacias eliminadas es: 88310\n"
     ]
    }
   ],
   "source": [
    "df_steam_games = eliminar_filas_vacias(df_steam_games)"
   ]
  },
  {
   "cell_type": "code",
   "execution_count": 97,
   "metadata": {},
   "outputs": [
    {
     "name": "stdout",
     "output_type": "stream",
     "text": [
      "El numero de filas duplicadas eliminadas es: 0\n"
     ]
    }
   ],
   "source": [
    "df_steam_games = filas_duplicadas_con_excepcion(df_steam_games, ['genres', 'tags', 'specs'])"
   ]
  },
  {
   "cell_type": "markdown",
   "metadata": {},
   "source": [
    "Ahora reordenaremos las columnas quitando de por medio las columna early_acces y reviews_url al no tener datos relevantes para los objetivo y tampoco para completar data faltante"
   ]
  },
  {
   "cell_type": "code",
   "execution_count": 98,
   "metadata": {},
   "outputs": [],
   "source": [
    "df_steam_games = df_steam_games[['id', 'title', 'url', 'app_name', 'genres', 'tags', 'specs', 'developer', 'publisher', 'release_date', 'price']]"
   ]
  },
  {
   "cell_type": "markdown",
   "metadata": {},
   "source": [
    "Revisamos como esta el dataframe"
   ]
  },
  {
   "cell_type": "code",
   "execution_count": 99,
   "metadata": {},
   "outputs": [
    {
     "name": "stdout",
     "output_type": "stream",
     "text": [
      "    id                              title                                                                         url                           app_name                                                    genres                                                                                                                                  tags                                                                                                       specs         developer       publisher release_date  price\n",
      "702180                     Mafia is Alive                    http://store.steampowered.com/app/702180/Mafia_is_Alive/                     Mafia is Alive [Casual, Indie, Massively Multiplayer, RPG, Early Access]                          [Early Access, Indie, Casual, RPG, Massively Multiplayer, Survival, Comedy, Funny, Family Friendly, Mystery]                                                     [Multi-player, Online Multi-Player, Steam Achievements]   ZO Studio Games ZO Studio Games   2017-10-05   2.99\n",
      "617001 Warface - Engineer Tournament Pack http://store.steampowered.com/app/617001/Warface__Engineer_Tournament_Pack/ Warface - Engineer Tournament Pack             [Action, Free to Play, Massively Multiplayer]                                                                                         [Action, Free to Play, Massively Multiplayer] [Multi-player, MMO, Co-op, Downloadable Content, Steam Achievements, Steam Trading Cards, In-App Purchases]            Crytek          My.com   2017-04-13  34.99\n",
      " 44600           GTR - FIA GT Racing Game            http://store.steampowered.com/app/44600/GTR__FIA_GT_Racing_Game/           GTR - FIA GT Racing Game                                          [Racing, Sports]                                                                                                          [Racing, Sports, Simulation]                                                                               [Single-player, Multi-player] SimBin Studios AB          SimBin   2012-09-25   6.99\n",
      "487990                    I, Frankenstein                    http://store.steampowered.com/app/487990/I_Frankenstein/                    I, Frankenstein                                                       NaN                                                                                         [Movie, Sci-fi, Supernatural, Action, Horror]                                                                                        [Captions available]               NaN             NaN   2014-05-13   3.99\n",
      "391440                          XenoBloom                         http://store.steampowered.com/app/391440/XenoBloom/                          XenoBloom                     [Casual, Indie, Simulation, Strategy] [Simulation, Casual, Indie, Strategy, Relaxing, Sandbox, God Game, Family Friendly, Building, Singleplayer, Science, Agriculture, 2D]                                      [Single-player, Local Multi-Player, Co-op, Partial Controller Support]       IBOLOGY LLC     IBOLOGY LLC   2015-09-23   4.99\n"
     ]
    }
   ],
   "source": [
    "muestra_df_steam_games2 = muestra(df_steam_games, 5)"
   ]
  },
  {
   "cell_type": "markdown",
   "metadata": {},
   "source": [
    "Podemos percatarnos que las columnas id y title ya las conocemos de anteriores dataframes por lo que les cambiaremos el nombre para normalizarlos"
   ]
  },
  {
   "cell_type": "code",
   "execution_count": 100,
   "metadata": {},
   "outputs": [],
   "source": [
    "df_steam_games = df_steam_games.rename(columns={'id': 'item_id', 'title': 'item_name'})"
   ]
  },
  {
   "cell_type": "markdown",
   "metadata": {},
   "source": [
    "Ahora buscamos los nulos por columna para poder realizar el cambio de tipos de las columnas"
   ]
  },
  {
   "cell_type": "code",
   "execution_count": 101,
   "metadata": {},
   "outputs": [
    {
     "data": {
      "text/plain": [
       "item_id            2\n",
       "item_name       2050\n",
       "url                0\n",
       "app_name           2\n",
       "genres          3283\n",
       "tags             163\n",
       "specs            670\n",
       "developer       3299\n",
       "publisher       8052\n",
       "release_date    2067\n",
       "price           1377\n",
       "dtype: int64"
      ]
     },
     "execution_count": 101,
     "metadata": {},
     "output_type": "execute_result"
    }
   ],
   "source": [
    "nulos_df_steam_games = nulos_por_columna(df_steam_games)\n",
    "nulos_df_steam_games"
   ]
  },
  {
   "cell_type": "markdown",
   "metadata": {},
   "source": [
    "Inspeccionamos las columnas que podrian darnos problemas en las columna item_id"
   ]
  },
  {
   "cell_type": "code",
   "execution_count": 102,
   "metadata": {},
   "outputs": [
    {
     "data": {
      "text/html": [
       "<div>\n",
       "<style scoped>\n",
       "    .dataframe tbody tr th:only-of-type {\n",
       "        vertical-align: middle;\n",
       "    }\n",
       "\n",
       "    .dataframe tbody tr th {\n",
       "        vertical-align: top;\n",
       "    }\n",
       "\n",
       "    .dataframe thead th {\n",
       "        text-align: right;\n",
       "    }\n",
       "</style>\n",
       "<table border=\"1\" class=\"dataframe\">\n",
       "  <thead>\n",
       "    <tr style=\"text-align: right;\">\n",
       "      <th></th>\n",
       "      <th>item_id</th>\n",
       "      <th>item_name</th>\n",
       "      <th>url</th>\n",
       "      <th>app_name</th>\n",
       "      <th>genres</th>\n",
       "      <th>tags</th>\n",
       "      <th>specs</th>\n",
       "      <th>developer</th>\n",
       "      <th>publisher</th>\n",
       "      <th>release_date</th>\n",
       "      <th>price</th>\n",
       "    </tr>\n",
       "  </thead>\n",
       "  <tbody>\n",
       "    <tr>\n",
       "      <th>74</th>\n",
       "      <td>NaN</td>\n",
       "      <td>NaN</td>\n",
       "      <td>http://store.steampowered.com/</td>\n",
       "      <td>NaN</td>\n",
       "      <td>NaN</td>\n",
       "      <td>NaN</td>\n",
       "      <td>NaN</td>\n",
       "      <td>NaN</td>\n",
       "      <td>NaN</td>\n",
       "      <td>NaN</td>\n",
       "      <td>19.99</td>\n",
       "    </tr>\n",
       "    <tr>\n",
       "      <th>30961</th>\n",
       "      <td>NaN</td>\n",
       "      <td>Batman: Arkham City - Game of the Year Edition</td>\n",
       "      <td>http://store.steampowered.com/app/200260</td>\n",
       "      <td>Batman: Arkham City - Game of the Year Edition</td>\n",
       "      <td>[Action, Adventure]</td>\n",
       "      <td>[Action, Open World, Batman, Adventure, Stealt...</td>\n",
       "      <td>[Single-player, Steam Achievements, Steam Trad...</td>\n",
       "      <td>Rocksteady Studios,Feral Interactive (Mac)</td>\n",
       "      <td>Warner Bros. Interactive Entertainment, Feral ...</td>\n",
       "      <td>2012-09-07</td>\n",
       "      <td>19.99</td>\n",
       "    </tr>\n",
       "  </tbody>\n",
       "</table>\n",
       "</div>"
      ],
      "text/plain": [
       "      item_id                                       item_name  \\\n",
       "74        NaN                                             NaN   \n",
       "30961     NaN  Batman: Arkham City - Game of the Year Edition   \n",
       "\n",
       "                                            url  \\\n",
       "74               http://store.steampowered.com/   \n",
       "30961  http://store.steampowered.com/app/200260   \n",
       "\n",
       "                                             app_name               genres  \\\n",
       "74                                                NaN                  NaN   \n",
       "30961  Batman: Arkham City - Game of the Year Edition  [Action, Adventure]   \n",
       "\n",
       "                                                    tags  \\\n",
       "74                                                   NaN   \n",
       "30961  [Action, Open World, Batman, Adventure, Stealt...   \n",
       "\n",
       "                                                   specs  \\\n",
       "74                                                   NaN   \n",
       "30961  [Single-player, Steam Achievements, Steam Trad...   \n",
       "\n",
       "                                        developer  \\\n",
       "74                                            NaN   \n",
       "30961  Rocksteady Studios,Feral Interactive (Mac)   \n",
       "\n",
       "                                               publisher release_date  price  \n",
       "74                                                   NaN          NaN  19.99  \n",
       "30961  Warner Bros. Interactive Entertainment, Feral ...   2012-09-07  19.99  "
      ]
     },
     "execution_count": 102,
     "metadata": {},
     "output_type": "execute_result"
    }
   ],
   "source": [
    "filas_nulas_df_steam_games = filas_nulas(df_steam_games, 'item_id')\n",
    "filas_nulas_df_steam_games"
   ]
  },
  {
   "cell_type": "markdown",
   "metadata": {},
   "source": [
    "Observamos que podemos recupera información en una fila y en otra simplemente tenemos que eliminarla, por lo que procederemos a eliminar la fila 74 y recuperar el id faltante para la otra fila"
   ]
  },
  {
   "cell_type": "code",
   "execution_count": 103,
   "metadata": {},
   "outputs": [],
   "source": [
    "# Elimina la fila en el índice 74\n",
    "df_steam_games = df_steam_games.drop(74)\n",
    "\n",
    "# Restablece el índice\n",
    "df_steam_games = df_steam_games.reset_index(drop=True)\n",
    "\n",
    "# Reemplaza los valores NaN por un valor predeterminado\n",
    "df_steam_games['item_id'].fillna(200260, inplace=True)"
   ]
  },
  {
   "cell_type": "markdown",
   "metadata": {},
   "source": [
    "Ahora procedemos a cambiar los tipos de datos"
   ]
  },
  {
   "cell_type": "code",
   "execution_count": 104,
   "metadata": {},
   "outputs": [],
   "source": [
    "df_steam_games = cambiar_tipo_columna(df_steam_games, 'item_id', 'int32')"
   ]
  },
  {
   "cell_type": "markdown",
   "metadata": {},
   "source": [
    "Ahora divideremos el dataframe en 2 teniendo como enlace la columna item_id para luego poder tratar de mjor manera los datos, los dataframes seran: steam_games y steam_games_genres"
   ]
  },
  {
   "cell_type": "markdown",
   "metadata": {},
   "source": [
    "### - steam_games"
   ]
  },
  {
   "cell_type": "markdown",
   "metadata": {},
   "source": [
    "Creamos el primer dataframe steam_games"
   ]
  },
  {
   "cell_type": "code",
   "execution_count": 105,
   "metadata": {},
   "outputs": [],
   "source": [
    "steam_games = df_steam_games[['item_id', 'item_name', 'app_name', 'developer', 'publisher', 'release_date', 'price']]"
   ]
  },
  {
   "cell_type": "markdown",
   "metadata": {},
   "source": [
    "Inspeccionamos nuestro dataframe"
   ]
  },
  {
   "cell_type": "code",
   "execution_count": 106,
   "metadata": {},
   "outputs": [
    {
     "data": {
      "text/html": [
       "<div>\n",
       "<style scoped>\n",
       "    .dataframe tbody tr th:only-of-type {\n",
       "        vertical-align: middle;\n",
       "    }\n",
       "\n",
       "    .dataframe tbody tr th {\n",
       "        vertical-align: top;\n",
       "    }\n",
       "\n",
       "    .dataframe thead th {\n",
       "        text-align: right;\n",
       "    }\n",
       "</style>\n",
       "<table border=\"1\" class=\"dataframe\">\n",
       "  <thead>\n",
       "    <tr style=\"text-align: right;\">\n",
       "      <th></th>\n",
       "      <th>item_id</th>\n",
       "      <th>item_name</th>\n",
       "      <th>app_name</th>\n",
       "      <th>developer</th>\n",
       "      <th>publisher</th>\n",
       "      <th>release_date</th>\n",
       "      <th>price</th>\n",
       "    </tr>\n",
       "  </thead>\n",
       "  <tbody>\n",
       "    <tr>\n",
       "      <th>19792</th>\n",
       "      <td>565510</td>\n",
       "      <td>Borealis</td>\n",
       "      <td>Borealis</td>\n",
       "      <td>NaN</td>\n",
       "      <td>NaN</td>\n",
       "      <td>2016-12-23</td>\n",
       "      <td>4.99</td>\n",
       "    </tr>\n",
       "    <tr>\n",
       "      <th>12868</th>\n",
       "      <td>753440</td>\n",
       "      <td>A Small Robot Story</td>\n",
       "      <td>A Small Robot Story</td>\n",
       "      <td>bc likes you</td>\n",
       "      <td>MAGIC Spell Studios</td>\n",
       "      <td>2017-12-19</td>\n",
       "      <td>4.99</td>\n",
       "    </tr>\n",
       "    <tr>\n",
       "      <th>6160</th>\n",
       "      <td>452300</td>\n",
       "      <td>The Graduate</td>\n",
       "      <td>The Graduate</td>\n",
       "      <td>NaN</td>\n",
       "      <td>NaN</td>\n",
       "      <td>1998-12-22</td>\n",
       "      <td>3.99</td>\n",
       "    </tr>\n",
       "    <tr>\n",
       "      <th>7961</th>\n",
       "      <td>554880</td>\n",
       "      <td>Gase and Aldridge Spotter Audio</td>\n",
       "      <td>Gase and Aldridge Spotter Audio</td>\n",
       "      <td>Monster Games</td>\n",
       "      <td>Dusenberry Martin Racing</td>\n",
       "      <td>2016-11-16</td>\n",
       "      <td>0.99</td>\n",
       "    </tr>\n",
       "    <tr>\n",
       "      <th>25098</th>\n",
       "      <td>399660</td>\n",
       "      <td>Battle Battalions</td>\n",
       "      <td>Battle Battalions</td>\n",
       "      <td>Petroglyph</td>\n",
       "      <td>Petroglyph</td>\n",
       "      <td>2015-11-03</td>\n",
       "      <td>Free to Play</td>\n",
       "    </tr>\n",
       "  </tbody>\n",
       "</table>\n",
       "</div>"
      ],
      "text/plain": [
       "       item_id                        item_name  \\\n",
       "19792   565510                         Borealis   \n",
       "12868   753440              A Small Robot Story   \n",
       "6160    452300                     The Graduate   \n",
       "7961    554880  Gase and Aldridge Spotter Audio   \n",
       "25098   399660                Battle Battalions   \n",
       "\n",
       "                              app_name      developer  \\\n",
       "19792                         Borealis            NaN   \n",
       "12868              A Small Robot Story   bc likes you   \n",
       "6160                      The Graduate            NaN   \n",
       "7961   Gase and Aldridge Spotter Audio  Monster Games   \n",
       "25098                Battle Battalions     Petroglyph   \n",
       "\n",
       "                      publisher release_date         price  \n",
       "19792                       NaN   2016-12-23          4.99  \n",
       "12868       MAGIC Spell Studios   2017-12-19          4.99  \n",
       "6160                        NaN   1998-12-22          3.99  \n",
       "7961   Dusenberry Martin Racing   2016-11-16          0.99  \n",
       "25098                Petroglyph   2015-11-03  Free to Play  "
      ]
     },
     "execution_count": 106,
     "metadata": {},
     "output_type": "execute_result"
    }
   ],
   "source": [
    "steam_games.sample(n=5)"
   ]
  },
  {
   "cell_type": "code",
   "execution_count": 107,
   "metadata": {},
   "outputs": [
    {
     "data": {
      "text/plain": [
       "item_id            0\n",
       "item_name       2049\n",
       "app_name           1\n",
       "developer       3298\n",
       "publisher       8051\n",
       "release_date    2066\n",
       "price           1377\n",
       "dtype: int64"
      ]
     },
     "execution_count": 107,
     "metadata": {},
     "output_type": "execute_result"
    }
   ],
   "source": [
    "nulos_steam_games = nulos_por_columna(steam_games)\n",
    "nulos_steam_games"
   ]
  },
  {
   "cell_type": "markdown",
   "metadata": {},
   "source": [
    "Dado que tenemos una gran cantidad de datos vacio procederemos a rellenar las columnas recuperando data"
   ]
  },
  {
   "cell_type": "markdown",
   "metadata": {},
   "source": [
    "Las columnas item_name y developer son de nuestro interes por lo que las rellenaremos con valores de las columnas app_name y publisher respectivamente"
   ]
  },
  {
   "cell_type": "code",
   "execution_count": 108,
   "metadata": {},
   "outputs": [],
   "source": [
    "#La columna item_name y developer tienen muchos valores nulos por lo que trataremos de rellenar estos valores con app_name y publisher respectivamente\n",
    "steam_games.loc[:, 'item_name'] = steam_games['item_name'].fillna(steam_games['app_name'])\n",
    "steam_games.loc[:, 'developer'] = steam_games['developer'].fillna(steam_games['publisher'])"
   ]
  },
  {
   "cell_type": "code",
   "execution_count": 109,
   "metadata": {},
   "outputs": [
    {
     "data": {
      "text/plain": [
       "item_id            0\n",
       "item_name          1\n",
       "app_name           1\n",
       "developer       3233\n",
       "publisher       8051\n",
       "release_date    2066\n",
       "price           1377\n",
       "dtype: int64"
      ]
     },
     "execution_count": 109,
     "metadata": {},
     "output_type": "execute_result"
    }
   ],
   "source": [
    "nulos_steam_games2 = nulos_por_columna(steam_games)\n",
    "nulos_steam_games2"
   ]
  },
  {
   "cell_type": "markdown",
   "metadata": {},
   "source": [
    "Ahora seguiremos rellenando los datos usando la concatenacion de desconocido con item_id"
   ]
  },
  {
   "cell_type": "code",
   "execution_count": 110,
   "metadata": {},
   "outputs": [],
   "source": [
    "# Rellena los valores nulos en 'item_name' con la concatenación 'desconocido_' + 'item_id'\n",
    "steam_games.loc[:, 'item_name'] = steam_games['item_name'].fillna('desconocido_' + steam_games['item_id'].astype(str))\n",
    "steam_games.loc[:, 'developer'] = steam_games['developer'].fillna('desconocido_' + steam_games['item_id'].astype(str))"
   ]
  },
  {
   "cell_type": "code",
   "execution_count": 111,
   "metadata": {},
   "outputs": [
    {
     "data": {
      "text/plain": [
       "item_id            0\n",
       "item_name          0\n",
       "app_name           1\n",
       "developer          0\n",
       "publisher       8051\n",
       "release_date    2066\n",
       "price           1377\n",
       "dtype: int64"
      ]
     },
     "execution_count": 111,
     "metadata": {},
     "output_type": "execute_result"
    }
   ],
   "source": [
    "nulos_steam_games3 = nulos_por_columna(steam_games)\n",
    "nulos_steam_games3"
   ]
  },
  {
   "cell_type": "markdown",
   "metadata": {},
   "source": [
    "Ahora nos quedamos solo con las columnas de importancia del dataframe y procedemos a guardarlo, la columna release_date y price seran tratadas en el siguiente dataframe"
   ]
  },
  {
   "cell_type": "code",
   "execution_count": 112,
   "metadata": {},
   "outputs": [],
   "source": [
    "steam_games = steam_games[['item_id', 'item_name', 'developer', 'release_date', 'price']]"
   ]
  },
  {
   "cell_type": "markdown",
   "metadata": {},
   "source": [
    "Ahora extraeremos los años de release year, primero definiremos una función"
   ]
  },
  {
   "cell_type": "code",
   "execution_count": 114,
   "metadata": {},
   "outputs": [],
   "source": [
    "# Hacemos la funcion correspondiente para extraer los datos\n",
    "def extract_and_fill_year(date):\n",
    "    match = re.search(r'(\\d{4})', str(date))\n",
    "    if match:\n",
    "        return match.group(1)\n",
    "    else:\n",
    "        return None"
   ]
  },
  {
   "cell_type": "markdown",
   "metadata": {},
   "source": [
    "Luego la aplicamos a la columna"
   ]
  },
  {
   "cell_type": "code",
   "execution_count": 115,
   "metadata": {},
   "outputs": [],
   "source": [
    "# Aplicamos la función a 'release_date' y almacenamos el resultado en una nueva columna 'release_year'\n",
    "steam_games['release_year'] = steam_games['release_date'].apply(extract_and_fill_year)"
   ]
  },
  {
   "cell_type": "markdown",
   "metadata": {},
   "source": [
    "Eliminamos release_date y volvemos a hacer el conteo"
   ]
  },
  {
   "cell_type": "code",
   "execution_count": 117,
   "metadata": {},
   "outputs": [],
   "source": [
    "steam_games = steam_games.drop('release_date', axis=1)"
   ]
  },
  {
   "cell_type": "code",
   "execution_count": 119,
   "metadata": {},
   "outputs": [
    {
     "data": {
      "text/plain": [
       "item_id            0\n",
       "item_name          0\n",
       "developer          0\n",
       "price           1377\n",
       "release_year    2167\n",
       "dtype: int64"
      ]
     },
     "execution_count": 119,
     "metadata": {},
     "output_type": "execute_result"
    }
   ],
   "source": [
    "nulos_steam_games4 = nulos_por_columna(steam_games)\n",
    "nulos_steam_games4"
   ]
  },
  {
   "cell_type": "markdown",
   "metadata": {},
   "source": [
    "Rellenaremos los valores nulos en proporción a la distribución de años no nulos."
   ]
  },
  {
   "cell_type": "code",
   "execution_count": 132,
   "metadata": {},
   "outputs": [],
   "source": [
    "# Calculamos la distribucion de años\n",
    "year_distribution = steam_games['release_year'].value_counts()\n",
    "\n",
    "# Calculamos la proporcion de años con respecto a los valores nulos\n",
    "total_non_null = steam_games['release_year'].count()\n",
    "year_proportions = year_distribution / total_non_null\n",
    "\n",
    "# Rellenamos los valores nulos en proporción a la distribución\n",
    "def fill_nulls(row):\n",
    "    if pd.isnull(row['release_year']):\n",
    "        return year_proportions.sample().index[0]  # Selecciona un año según la distribución\n",
    "    return row['release_year']\n",
    "\n",
    "steam_games['release_year'] = steam_games.apply(fill_nulls, axis=1)"
   ]
  },
  {
   "cell_type": "markdown",
   "metadata": {},
   "source": [
    "Por ultimo trataremos la columna price, primero trataremos los valores atipicos"
   ]
  },
  {
   "cell_type": "code",
   "execution_count": 134,
   "metadata": {},
   "outputs": [
    {
     "data": {
      "text/plain": [
       "array(['Free To Play', 'Free to Play', nan, 'Free', 'Free Demo',\n",
       "       'Play for Free!', 'Install Now', 'Play WARMACHINE: Tactics Demo',\n",
       "       'Free Mod', 'Install Theme', 'Third-party', 'Play Now',\n",
       "       'Free HITMAN™ Holiday Pack', 'Play the Demo',\n",
       "       'Starting at $499.00', 'Starting at $449.00', 'Free to Try',\n",
       "       'Free Movie', 'Free to Use'], dtype=object)"
      ]
     },
     "execution_count": 134,
     "metadata": {},
     "output_type": "execute_result"
    }
   ],
   "source": [
    "# Revisamos los tipos de valores atipicos que encontraremos\n",
    "# Filtra y obtén los valores no float en 'price'\n",
    "non_float_prices = steam_games[~steam_games['price'].astype(str).str.match(r'^\\d+\\.\\d+$', na=False)]['price'].unique()\n",
    "non_float_prices"
   ]
  },
  {
   "cell_type": "markdown",
   "metadata": {},
   "source": [
    "Rellenaremos los valores atipicos en price con 0.0"
   ]
  },
  {
   "cell_type": "code",
   "execution_count": 135,
   "metadata": {},
   "outputs": [],
   "source": [
    "# Filtra los valores no coincidentes con el patrón y reemplaza con 0.0\n",
    "steam_games.loc[~steam_games['price'].astype(str).str.match(r'^\\d+\\.\\d+$', na=False), 'price'] = 0.0"
   ]
  },
  {
   "cell_type": "markdown",
   "metadata": {},
   "source": [
    "Luego convertimos la columna a tipo float"
   ]
  },
  {
   "cell_type": "code",
   "execution_count": 136,
   "metadata": {},
   "outputs": [],
   "source": [
    "steam_games = cambiar_tipo_columna(steam_games, 'price', float)"
   ]
  },
  {
   "cell_type": "markdown",
   "metadata": {},
   "source": [
    "Luego rellenaremos los valores nan segun la proporción de datos de price"
   ]
  },
  {
   "cell_type": "code",
   "execution_count": 140,
   "metadata": {},
   "outputs": [],
   "source": [
    "# Calculamos la distribucion de precios\n",
    "price_distribution = steam_games['price'].value_counts()\n",
    "\n",
    "# Calculamos la proporcion de precios con respecto a los valores nulos\n",
    "total_non_null = steam_games['price'].count()\n",
    "price_proportions = price_distribution / total_non_null\n",
    "\n",
    "# Rellenamos los valores nulos en proporción a la distribución\n",
    "def fill_nulls(row):\n",
    "    if pd.isnull(row['price']):\n",
    "        return price_proportions.sample().index[0]  # Selecciona un año según la distribución\n",
    "    return row['price']\n",
    "\n",
    "steam_games['price'] = steam_games.apply(fill_nulls, axis=1)"
   ]
  },
  {
   "cell_type": "markdown",
   "metadata": {},
   "source": [
    "Verificamos los nulos"
   ]
  },
  {
   "cell_type": "code",
   "execution_count": 144,
   "metadata": {},
   "outputs": [
    {
     "data": {
      "text/plain": [
       "item_id         0\n",
       "item_name       0\n",
       "developer       0\n",
       "price           0\n",
       "release_year    0\n",
       "dtype: int64"
      ]
     },
     "execution_count": 144,
     "metadata": {},
     "output_type": "execute_result"
    }
   ],
   "source": [
    "nulos_steam_games5 = nulos_por_columna(steam_games)\n",
    "nulos_steam_games5"
   ]
  },
  {
   "cell_type": "markdown",
   "metadata": {},
   "source": [
    "Verificamos la info del dataframe"
   ]
  },
  {
   "cell_type": "code",
   "execution_count": 146,
   "metadata": {},
   "outputs": [
    {
     "name": "stdout",
     "output_type": "stream",
     "text": [
      "<class 'pandas.core.frame.DataFrame'>\n",
      "RangeIndex: 32134 entries, 0 to 32133\n",
      "Data columns (total 5 columns):\n",
      " #   Column        Non-Null Count  Dtype  \n",
      "---  ------        --------------  -----  \n",
      " 0   item_id       32134 non-null  int32  \n",
      " 1   item_name     32134 non-null  object \n",
      " 2   developer     32134 non-null  object \n",
      " 3   price         32134 non-null  float64\n",
      " 4   release_year  32134 non-null  object \n",
      "dtypes: float64(1), int32(1), object(3)\n",
      "memory usage: 1.1+ MB\n"
     ]
    }
   ],
   "source": [
    "steam_games.info()"
   ]
  },
  {
   "cell_type": "markdown",
   "metadata": {},
   "source": [
    "Cambiamos release_year  tipo int32"
   ]
  },
  {
   "cell_type": "code",
   "execution_count": 147,
   "metadata": {},
   "outputs": [],
   "source": [
    "steam_games = cambiar_tipo_columna(steam_games, 'release_year', 'int32')"
   ]
  },
  {
   "cell_type": "markdown",
   "metadata": {},
   "source": [
    "Guardamos el archivo"
   ]
  },
  {
   "cell_type": "code",
   "execution_count": 149,
   "metadata": {},
   "outputs": [],
   "source": [
    "steam_games = df_to_parquet(steam_games, 'steam_games')"
   ]
  },
  {
   "cell_type": "markdown",
   "metadata": {},
   "source": [
    "### - steam_games_genres"
   ]
  },
  {
   "cell_type": "markdown",
   "metadata": {},
   "source": [
    "Ahora procedemos a crear el segundo dataframe steam_games_genres"
   ]
  },
  {
   "cell_type": "code",
   "execution_count": 150,
   "metadata": {},
   "outputs": [],
   "source": [
    "steam_games_genres = df_steam_games[['item_id', 'genres', 'tags']]"
   ]
  },
  {
   "cell_type": "markdown",
   "metadata": {},
   "source": [
    "Ahora observamos su comportamiento"
   ]
  },
  {
   "cell_type": "code",
   "execution_count": 152,
   "metadata": {},
   "outputs": [
    {
     "name": "stdout",
     "output_type": "stream",
     "text": [
      " item_id                                genres                                                                                                                                                                                                                              tags\n",
      "  615150 [Adventure, Indie, RPG, Early Access]                                                                                                                                                                 [Early Access, RPG, Indie, Adventure, Turn-Based, Team-Based, 2D]\n",
      "   38400                                 [RPG]        [RPG, Post-apocalyptic, Classic, Open World, Turn-Based, Isometric, Sci-fi, Singleplayer, Turn-Based Combat, Multiple Endings, Atmospheric, Retro, Adventure, 1990's, 2D, Difficult, Exploration, CRPG, Tactical, Sandbox]\n",
      "  460920                      [Action, Sports] [Sports, Open World, Multiplayer, Action, Simulation, Atmospheric, Exploration, Great Soundtrack, First-Person, Adventure, Racing, Co-op, Singleplayer, Third Person, Sandbox, Realistic, Casual, VR, Massively Multiplayer, FPS]\n",
      "  764470            [Action, Adventure, Indie]                                                                                                                                                                                                        [Action, Adventure, Indie]\n",
      "  629840                    [Adventure, Indie]                                                                   [Indie, Adventure, Walking Simulator, Great Soundtrack, Horror, Atmospheric, First-Person, Story Rich, Singleplayer, Dark, Psychological, Psychological Horror]\n"
     ]
    }
   ],
   "source": [
    "muestra_steam_games_genres = muestra(steam_games_genres, 5)"
   ]
  },
  {
   "cell_type": "code",
   "execution_count": 153,
   "metadata": {},
   "outputs": [
    {
     "data": {
      "text/plain": [
       "item_id       0\n",
       "genres     3282\n",
       "tags        162\n",
       "dtype: int64"
      ]
     },
     "execution_count": 153,
     "metadata": {},
     "output_type": "execute_result"
    }
   ],
   "source": [
    "nulos_steam_games_genres = nulos_por_columna(steam_games_genres)\n",
    "nulos_steam_games_genres"
   ]
  },
  {
   "cell_type": "markdown",
   "metadata": {},
   "source": [
    "Observamos una gran cantidad de elementos vacios en genres, por lo que ahora rellenaremos genres con la columna tags, no sin antes observar el comportamiento de ambas columnas"
   ]
  },
  {
   "cell_type": "code",
   "execution_count": 154,
   "metadata": {},
   "outputs": [],
   "source": [
    "# Definimos la función elements_count para contar la cantidad de elementos que existen en las listas de las columnas\n",
    "def element_counts(df, column):\n",
    "    # Utilizamos el método explode para convertir la columna de listas en filas individuales\n",
    "    exploded_df = df[column].explode()\n",
    "\n",
    "    # Utilizamos value_counts para contar la frecuencia de cada elemento, incluyendo NaN\n",
    "    counts_series = exploded_df.value_counts(dropna=False)\n",
    "\n",
    "    return counts_series"
   ]
  },
  {
   "cell_type": "markdown",
   "metadata": {},
   "source": [
    "Ahora observaremos los tipos de elementos que encontraremos"
   ]
  },
  {
   "cell_type": "code",
   "execution_count": 155,
   "metadata": {},
   "outputs": [],
   "source": [
    "# Ahora tenemos la frecuencia con la que aparecen los datos en la columna genres \n",
    "counts_genres = element_counts(steam_games_genres, 'genres')"
   ]
  },
  {
   "cell_type": "code",
   "execution_count": 156,
   "metadata": {},
   "outputs": [
    {
     "name": "stdout",
     "output_type": "stream",
     "text": [
      "<class 'pandas.core.series.Series'>\n",
      "Index: 23 entries, Indie to Accounting\n",
      "Series name: count\n",
      "Non-Null Count  Dtype\n",
      "--------------  -----\n",
      "23 non-null     int64\n",
      "dtypes: int64(1)\n",
      "memory usage: 368.0+ bytes\n"
     ]
    }
   ],
   "source": [
    "counts_genres.info()"
   ]
  },
  {
   "cell_type": "code",
   "execution_count": 157,
   "metadata": {},
   "outputs": [
    {
     "data": {
      "text/plain": [
       "genres\n",
       "Indie                        15858\n",
       "Action                       11321\n",
       "Casual                        8282\n",
       "Adventure                     8243\n",
       "Strategy                      6957\n",
       "Simulation                    6699\n",
       "RPG                           5479\n",
       "NaN                           3282\n",
       "Free to Play                  2031\n",
       "Early Access                  1462\n",
       "Sports                        1257\n",
       "Massively Multiplayer         1108\n",
       "Racing                        1083\n",
       "Design &amp; Illustration      460\n",
       "Utilities                      340\n",
       "Web Publishing                 268\n",
       "Animation &amp; Modeling       183\n",
       "Education                      125\n",
       "Video Production               116\n",
       "Software Training              105\n",
       "Audio Production                93\n",
       "Photo Editing                   77\n",
       "Accounting                       7\n",
       "Name: count, dtype: int64"
      ]
     },
     "execution_count": 157,
     "metadata": {},
     "output_type": "execute_result"
    }
   ],
   "source": [
    "counts_genres"
   ]
  },
  {
   "cell_type": "markdown",
   "metadata": {},
   "source": [
    "Realizamos la mismas operación para la columna tags"
   ]
  },
  {
   "cell_type": "code",
   "execution_count": 158,
   "metadata": {},
   "outputs": [],
   "source": [
    "# Tambien realizamos lo mismo para la columna tags\n",
    "counts_tags = element_counts(steam_games_genres, 'tags')"
   ]
  },
  {
   "cell_type": "code",
   "execution_count": 159,
   "metadata": {},
   "outputs": [
    {
     "name": "stdout",
     "output_type": "stream",
     "text": [
      "<class 'pandas.core.series.Series'>\n",
      "Index: 340 entries, Indie to Bikes\n",
      "Series name: count\n",
      "Non-Null Count  Dtype\n",
      "--------------  -----\n",
      "340 non-null    int64\n",
      "dtypes: int64(1)\n",
      "memory usage: 5.3+ KB\n"
     ]
    }
   ],
   "source": [
    "counts_tags.info()"
   ]
  },
  {
   "cell_type": "code",
   "execution_count": 160,
   "metadata": {},
   "outputs": [
    {
     "data": {
      "text/plain": [
       "tags\n",
       "Indie           17620\n",
       "Action          13005\n",
       "Adventure        9831\n",
       "Casual           9739\n",
       "Simulation       7730\n",
       "Strategy         7566\n",
       "RPG              5919\n",
       "Singleplayer     4346\n",
       "Free to Play     2406\n",
       "Multiplayer      2383\n",
       "Name: count, dtype: int64"
      ]
     },
     "execution_count": 160,
     "metadata": {},
     "output_type": "execute_result"
    }
   ],
   "source": [
    "counts_tags.head(10)"
   ]
  },
  {
   "cell_type": "markdown",
   "metadata": {},
   "source": [
    "Podemos observar que la columna tags tiene una gran cantidad de elementos con los cuales podremos completar la columna genres, no obstante es importante observar que tiene demasiada variedad de elementos, por lo que tendremos que relizar un corte"
   ]
  },
  {
   "cell_type": "markdown",
   "metadata": {},
   "source": [
    "Convertimos los valores de tags a una lista, importante a tener en cuenta que la lista ya tiene un orden descendente"
   ]
  },
  {
   "cell_type": "code",
   "execution_count": 161,
   "metadata": {},
   "outputs": [
    {
     "data": {
      "text/plain": [
       "340"
      ]
     },
     "execution_count": 161,
     "metadata": {},
     "output_type": "execute_result"
    }
   ],
   "source": [
    "# Convertimos tags a una lista\n",
    "tags = list(dict(counts_tags).values())\n",
    "len(tags)\n"
   ]
  },
  {
   "cell_type": "markdown",
   "metadata": {},
   "source": [
    "Necesitamos crear un punto de corte para reducir la gran cantidad de datos posibles en la columna tags, para ello evaluaremos que percentil tomaremos como punto de corte"
   ]
  },
  {
   "cell_type": "code",
   "execution_count": 162,
   "metadata": {},
   "outputs": [
    {
     "data": {
      "image/png": "[encoded data removed]",
      "text/plain": [
       "<Figure size 640x480 with 1 Axes>"
      ]
     },
     "metadata": {},
     "output_type": "display_data"
    }
   ],
   "source": [
    "# Importamos la biblioteca matplotlib\n",
    "import matplotlib.pyplot as plt\n",
    "\n",
    "# Luego determinamos percentiles de uso comun\n",
    "percentiles_evaluados = [25,50,55,60,65,70,75,80,85,90,95]\n",
    "# De ser el caso tambien podemos evaluar todos los valores para una mejor observación\n",
    "# percentiles_evaluados = np.arange(0, 100, 1)\n",
    "\n",
    "# Calculamos los valores de los percentiles para cada punto de corte\n",
    "valores_percentiles = [np.percentile(tags, p) for p in percentiles_evaluados]\n",
    "\n",
    "# Graficamos la evolución de los percentiles\n",
    "plt.plot(percentiles_evaluados, valores_percentiles, marker='.')\n",
    "plt.xlabel('Percentil')\n",
    "plt.ylabel('Punto de Corte')\n",
    "plt.title('Evolución de los Percentiles en las Frecuencias de Géneros')\n",
    "plt.grid(True)\n",
    "plt.show()"
   ]
  },
  {
   "cell_type": "markdown",
   "metadata": {},
   "source": [
    "Tomaremos como percentil al 75% al ser un punto medio en el quiebre de la curva, ahora calcularemos la cantidad de elementos pertenecientes en este percentil"
   ]
  },
  {
   "cell_type": "code",
   "execution_count": 163,
   "metadata": {},
   "outputs": [],
   "source": [
    "# Definimos el percentil \n",
    "percentil_deseado = 75\n",
    "\n",
    "# Calculamos el valor del percentil\n",
    "punto_corte = np.percentile(tags, percentil_deseado)\n",
    "\n",
    "# Seleccionamos los generos que están por encima del punto de corte\n",
    "generos_seleccionados = {genero: frecuencia for genero, frecuencia in dict(counts_tags).items() if frecuencia >= punto_corte}\n"
   ]
  },
  {
   "cell_type": "markdown",
   "metadata": {},
   "source": [
    "Revisamos la cantidad de elementos"
   ]
  },
  {
   "cell_type": "code",
   "execution_count": 164,
   "metadata": {},
   "outputs": [
    {
     "data": {
      "text/plain": [
       "85"
      ]
     },
     "execution_count": 164,
     "metadata": {},
     "output_type": "execute_result"
    }
   ],
   "source": [
    "len(generos_seleccionados)"
   ]
  },
  {
   "cell_type": "markdown",
   "metadata": {},
   "source": [
    "Extraemos los nombres del diccionario que serian las llaves"
   ]
  },
  {
   "cell_type": "code",
   "execution_count": 165,
   "metadata": {},
   "outputs": [
    {
     "data": {
      "text/plain": [
       "85"
      ]
     },
     "execution_count": 165,
     "metadata": {},
     "output_type": "execute_result"
    }
   ],
   "source": [
    "generos_a_considerar = list(generos_seleccionados.keys())\n",
    "len(generos_a_considerar)"
   ]
  },
  {
   "cell_type": "markdown",
   "metadata": {},
   "source": [
    "Revisamos una vez mas el estado del dataframe"
   ]
  },
  {
   "cell_type": "code",
   "execution_count": 166,
   "metadata": {},
   "outputs": [
    {
     "data": {
      "text/plain": [
       "item_id       0\n",
       "genres     3282\n",
       "tags        162\n",
       "dtype: int64"
      ]
     },
     "execution_count": 166,
     "metadata": {},
     "output_type": "execute_result"
    }
   ],
   "source": [
    "nulos_steam = nulos_por_columna(steam_games_genres)\n",
    "nulos_steam"
   ]
  },
  {
   "cell_type": "code",
   "execution_count": 167,
   "metadata": {},
   "outputs": [
    {
     "name": "stdout",
     "output_type": "stream",
     "text": [
      "<class 'pandas.core.frame.DataFrame'>\n",
      "RangeIndex: 32134 entries, 0 to 32133\n",
      "Data columns (total 3 columns):\n",
      " #   Column   Non-Null Count  Dtype \n",
      "---  ------   --------------  ----- \n",
      " 0   item_id  32134 non-null  int32 \n",
      " 1   genres   28852 non-null  object\n",
      " 2   tags     31972 non-null  object\n",
      "dtypes: int32(1), object(2)\n",
      "memory usage: 627.7+ KB\n"
     ]
    }
   ],
   "source": [
    "steam_games_genres.info()"
   ]
  },
  {
   "cell_type": "markdown",
   "metadata": {},
   "source": [
    "Aplicamos el filtro a la columna tags"
   ]
  },
  {
   "cell_type": "code",
   "execution_count": 168,
   "metadata": {},
   "outputs": [],
   "source": [
    "# Aplica el filtro a la columna 'tags' del DataFrame\n",
    "steam_games_genres['tags'] = steam_games_genres['tags'].apply(lambda lista: list(set(lista) & set(generos_a_considerar)) if isinstance(lista, list) else lista)\n"
   ]
  },
  {
   "cell_type": "markdown",
   "metadata": {},
   "source": [
    "Revisamos ahora la cantidad de elementos que tiene la columna tags para verificar si se hizo el cambio"
   ]
  },
  {
   "cell_type": "code",
   "execution_count": 169,
   "metadata": {},
   "outputs": [
    {
     "data": {
      "text/plain": [
       "86"
      ]
     },
     "execution_count": 169,
     "metadata": {},
     "output_type": "execute_result"
    }
   ],
   "source": [
    "counts_tags = element_counts(steam_games_genres, 'tags')\n",
    "len(counts_tags)"
   ]
  },
  {
   "cell_type": "markdown",
   "metadata": {},
   "source": [
    "Juntamos ambas columnas en genres"
   ]
  },
  {
   "cell_type": "code",
   "execution_count": 170,
   "metadata": {},
   "outputs": [],
   "source": [
    "# Fusiona las listas en la columna 'genres' sin preocuparse por las repeticiones\n",
    "steam_games_genres['genres'] = steam_games_genres['genres'] + steam_games_genres['tags']"
   ]
  },
  {
   "cell_type": "markdown",
   "metadata": {},
   "source": [
    "Eliminamos generos duplicados de la columna genres"
   ]
  },
  {
   "cell_type": "code",
   "execution_count": 171,
   "metadata": {},
   "outputs": [],
   "source": [
    "# Elimina duplicados en cada lista de 'genres'\n",
    "steam_games_genres['genres'] = steam_games_genres['genres'].apply(lambda x: list(set(x)) if isinstance(x, list) else x)"
   ]
  },
  {
   "cell_type": "markdown",
   "metadata": {},
   "source": [
    "Borramos la columna tags"
   ]
  },
  {
   "cell_type": "code",
   "execution_count": 172,
   "metadata": {},
   "outputs": [],
   "source": [
    "steam_games_genres = steam_games_genres.drop(columns=['tags'])"
   ]
  },
  {
   "cell_type": "markdown",
   "metadata": {},
   "source": [
    "Vemos los elementos nulos NaN presentes"
   ]
  },
  {
   "cell_type": "code",
   "execution_count": 173,
   "metadata": {},
   "outputs": [
    {
     "data": {
      "text/plain": [
       "item_id       0\n",
       "genres     3306\n",
       "dtype: int64"
      ]
     },
     "execution_count": 173,
     "metadata": {},
     "output_type": "execute_result"
    }
   ],
   "source": [
    "nulos_steam = nulos_por_columna(steam_games_genres)\n",
    "nulos_steam"
   ]
  },
  {
   "cell_type": "markdown",
   "metadata": {},
   "source": [
    "Usamos una función lambda para tratarlos"
   ]
  },
  {
   "cell_type": "code",
   "execution_count": 174,
   "metadata": {},
   "outputs": [],
   "source": [
    "steam_games_genres['genres'] = steam_games_genres['genres'].apply(lambda x: x if isinstance(x, list) else ['Other'])\n"
   ]
  },
  {
   "cell_type": "code",
   "execution_count": 175,
   "metadata": {},
   "outputs": [
    {
     "data": {
      "text/plain": [
       "item_id    0\n",
       "genres     0\n",
       "dtype: int64"
      ]
     },
     "execution_count": 175,
     "metadata": {},
     "output_type": "execute_result"
    }
   ],
   "source": [
    "nulos_steam = nulos_por_columna(steam_games_genres)\n",
    "nulos_steam"
   ]
  },
  {
   "cell_type": "markdown",
   "metadata": {},
   "source": [
    "Verificamos la posible existencia de listas vacias"
   ]
  },
  {
   "cell_type": "code",
   "execution_count": 176,
   "metadata": {},
   "outputs": [
    {
     "data": {
      "text/html": [
       "<div>\n",
       "<style scoped>\n",
       "    .dataframe tbody tr th:only-of-type {\n",
       "        vertical-align: middle;\n",
       "    }\n",
       "\n",
       "    .dataframe tbody tr th {\n",
       "        vertical-align: top;\n",
       "    }\n",
       "\n",
       "    .dataframe thead th {\n",
       "        text-align: right;\n",
       "    }\n",
       "</style>\n",
       "<table border=\"1\" class=\"dataframe\">\n",
       "  <thead>\n",
       "    <tr style=\"text-align: right;\">\n",
       "      <th></th>\n",
       "      <th>item_id</th>\n",
       "      <th>genres</th>\n",
       "    </tr>\n",
       "  </thead>\n",
       "  <tbody>\n",
       "  </tbody>\n",
       "</table>\n",
       "</div>"
      ],
      "text/plain": [
       "Empty DataFrame\n",
       "Columns: [item_id, genres]\n",
       "Index: []"
      ]
     },
     "execution_count": 176,
     "metadata": {},
     "output_type": "execute_result"
    }
   ],
   "source": [
    "filas_con_listas_vacias = steam_games_genres[steam_games_genres['genres'].apply(lambda x: isinstance(x, list) and not x)]\n",
    "filas_con_listas_vacias"
   ]
  },
  {
   "cell_type": "markdown",
   "metadata": {},
   "source": [
    "Observamos el dataframe"
   ]
  },
  {
   "cell_type": "code",
   "execution_count": 177,
   "metadata": {},
   "outputs": [
    {
     "data": {
      "text/html": [
       "<div>\n",
       "<style scoped>\n",
       "    .dataframe tbody tr th:only-of-type {\n",
       "        vertical-align: middle;\n",
       "    }\n",
       "\n",
       "    .dataframe tbody tr th {\n",
       "        vertical-align: top;\n",
       "    }\n",
       "\n",
       "    .dataframe thead th {\n",
       "        text-align: right;\n",
       "    }\n",
       "</style>\n",
       "<table border=\"1\" class=\"dataframe\">\n",
       "  <thead>\n",
       "    <tr style=\"text-align: right;\">\n",
       "      <th></th>\n",
       "      <th>item_id</th>\n",
       "      <th>genres</th>\n",
       "    </tr>\n",
       "  </thead>\n",
       "  <tbody>\n",
       "    <tr>\n",
       "      <th>0</th>\n",
       "      <td>761140</td>\n",
       "      <td>[Simulation, Action, Strategy, Indie, Casual]</td>\n",
       "    </tr>\n",
       "    <tr>\n",
       "      <th>1</th>\n",
       "      <td>643980</td>\n",
       "      <td>[Fantasy, Free to Play, Tactical, Replay Value...</td>\n",
       "    </tr>\n",
       "    <tr>\n",
       "      <th>2</th>\n",
       "      <td>670290</td>\n",
       "      <td>[Simulation, Free to Play, Multiplayer, Indie,...</td>\n",
       "    </tr>\n",
       "    <tr>\n",
       "      <th>3</th>\n",
       "      <td>767400</td>\n",
       "      <td>[Adventure, Action, Casual]</td>\n",
       "    </tr>\n",
       "    <tr>\n",
       "      <th>4</th>\n",
       "      <td>773570</td>\n",
       "      <td>[Other]</td>\n",
       "    </tr>\n",
       "  </tbody>\n",
       "</table>\n",
       "</div>"
      ],
      "text/plain": [
       "   item_id                                             genres\n",
       "0   761140      [Simulation, Action, Strategy, Indie, Casual]\n",
       "1   643980  [Fantasy, Free to Play, Tactical, Replay Value...\n",
       "2   670290  [Simulation, Free to Play, Multiplayer, Indie,...\n",
       "3   767400                        [Adventure, Action, Casual]\n",
       "4   773570                                            [Other]"
      ]
     },
     "execution_count": 177,
     "metadata": {},
     "output_type": "execute_result"
    }
   ],
   "source": [
    "steam_games_genres.head()"
   ]
  },
  {
   "cell_type": "markdown",
   "metadata": {},
   "source": [
    "Procedemos ha aplicar el MultiLabelBinazer para generas los dummies de genres"
   ]
  },
  {
   "cell_type": "code",
   "execution_count": 178,
   "metadata": {},
   "outputs": [],
   "source": [
    "from sklearn.preprocessing import MultiLabelBinarizer\n",
    "\n",
    "# Aplicar MultiLabelBinarizer a la columna 'genres'\n",
    "mlb = MultiLabelBinarizer()\n",
    "genres_encoded = mlb.fit_transform(steam_games_genres['genres'])\n",
    "genres_df = pd.DataFrame(genres_encoded, columns=mlb.classes_)\n",
    "\n",
    "# Agregar las columnas codificadas al DataFrame original\n",
    "steam_games_genres = pd.concat([steam_games_genres, genres_df], axis=1)\n",
    "steam_games_genres = steam_games_genres.drop(columns=['genres'])"
   ]
  },
  {
   "cell_type": "markdown",
   "metadata": {},
   "source": [
    "Observamos el dataframe"
   ]
  },
  {
   "cell_type": "code",
   "execution_count": 179,
   "metadata": {},
   "outputs": [
    {
     "data": {
      "text/html": [
       "<div>\n",
       "<style scoped>\n",
       "    .dataframe tbody tr th:only-of-type {\n",
       "        vertical-align: middle;\n",
       "    }\n",
       "\n",
       "    .dataframe tbody tr th {\n",
       "        vertical-align: top;\n",
       "    }\n",
       "\n",
       "    .dataframe thead th {\n",
       "        text-align: right;\n",
       "    }\n",
       "</style>\n",
       "<table border=\"1\" class=\"dataframe\">\n",
       "  <thead>\n",
       "    <tr style=\"text-align: right;\">\n",
       "      <th></th>\n",
       "      <th>item_id</th>\n",
       "      <th>2D</th>\n",
       "      <th>Accounting</th>\n",
       "      <th>Action</th>\n",
       "      <th>Action RPG</th>\n",
       "      <th>Adventure</th>\n",
       "      <th>Animation &amp;amp; Modeling</th>\n",
       "      <th>Anime</th>\n",
       "      <th>Arcade</th>\n",
       "      <th>Atmospheric</th>\n",
       "      <th>...</th>\n",
       "      <th>Tower Defense</th>\n",
       "      <th>Turn-Based</th>\n",
       "      <th>Turn-Based Strategy</th>\n",
       "      <th>Utilities</th>\n",
       "      <th>VR</th>\n",
       "      <th>Video Production</th>\n",
       "      <th>Violent</th>\n",
       "      <th>Visual Novel</th>\n",
       "      <th>Web Publishing</th>\n",
       "      <th>Zombies</th>\n",
       "    </tr>\n",
       "  </thead>\n",
       "  <tbody>\n",
       "    <tr>\n",
       "      <th>0</th>\n",
       "      <td>761140</td>\n",
       "      <td>0</td>\n",
       "      <td>0</td>\n",
       "      <td>1</td>\n",
       "      <td>0</td>\n",
       "      <td>0</td>\n",
       "      <td>0</td>\n",
       "      <td>0</td>\n",
       "      <td>0</td>\n",
       "      <td>0</td>\n",
       "      <td>...</td>\n",
       "      <td>0</td>\n",
       "      <td>0</td>\n",
       "      <td>0</td>\n",
       "      <td>0</td>\n",
       "      <td>0</td>\n",
       "      <td>0</td>\n",
       "      <td>0</td>\n",
       "      <td>0</td>\n",
       "      <td>0</td>\n",
       "      <td>0</td>\n",
       "    </tr>\n",
       "    <tr>\n",
       "      <th>1</th>\n",
       "      <td>643980</td>\n",
       "      <td>1</td>\n",
       "      <td>0</td>\n",
       "      <td>0</td>\n",
       "      <td>0</td>\n",
       "      <td>0</td>\n",
       "      <td>0</td>\n",
       "      <td>0</td>\n",
       "      <td>0</td>\n",
       "      <td>0</td>\n",
       "      <td>...</td>\n",
       "      <td>0</td>\n",
       "      <td>1</td>\n",
       "      <td>0</td>\n",
       "      <td>0</td>\n",
       "      <td>0</td>\n",
       "      <td>0</td>\n",
       "      <td>0</td>\n",
       "      <td>0</td>\n",
       "      <td>0</td>\n",
       "      <td>0</td>\n",
       "    </tr>\n",
       "    <tr>\n",
       "      <th>2</th>\n",
       "      <td>670290</td>\n",
       "      <td>0</td>\n",
       "      <td>0</td>\n",
       "      <td>0</td>\n",
       "      <td>0</td>\n",
       "      <td>0</td>\n",
       "      <td>0</td>\n",
       "      <td>0</td>\n",
       "      <td>0</td>\n",
       "      <td>0</td>\n",
       "      <td>...</td>\n",
       "      <td>0</td>\n",
       "      <td>0</td>\n",
       "      <td>0</td>\n",
       "      <td>0</td>\n",
       "      <td>0</td>\n",
       "      <td>0</td>\n",
       "      <td>0</td>\n",
       "      <td>0</td>\n",
       "      <td>0</td>\n",
       "      <td>0</td>\n",
       "    </tr>\n",
       "    <tr>\n",
       "      <th>3</th>\n",
       "      <td>767400</td>\n",
       "      <td>0</td>\n",
       "      <td>0</td>\n",
       "      <td>1</td>\n",
       "      <td>0</td>\n",
       "      <td>1</td>\n",
       "      <td>0</td>\n",
       "      <td>0</td>\n",
       "      <td>0</td>\n",
       "      <td>0</td>\n",
       "      <td>...</td>\n",
       "      <td>0</td>\n",
       "      <td>0</td>\n",
       "      <td>0</td>\n",
       "      <td>0</td>\n",
       "      <td>0</td>\n",
       "      <td>0</td>\n",
       "      <td>0</td>\n",
       "      <td>0</td>\n",
       "      <td>0</td>\n",
       "      <td>0</td>\n",
       "    </tr>\n",
       "    <tr>\n",
       "      <th>4</th>\n",
       "      <td>773570</td>\n",
       "      <td>0</td>\n",
       "      <td>0</td>\n",
       "      <td>0</td>\n",
       "      <td>0</td>\n",
       "      <td>0</td>\n",
       "      <td>0</td>\n",
       "      <td>0</td>\n",
       "      <td>0</td>\n",
       "      <td>0</td>\n",
       "      <td>...</td>\n",
       "      <td>0</td>\n",
       "      <td>0</td>\n",
       "      <td>0</td>\n",
       "      <td>0</td>\n",
       "      <td>0</td>\n",
       "      <td>0</td>\n",
       "      <td>0</td>\n",
       "      <td>0</td>\n",
       "      <td>0</td>\n",
       "      <td>0</td>\n",
       "    </tr>\n",
       "  </tbody>\n",
       "</table>\n",
       "<p>5 rows × 95 columns</p>\n",
       "</div>"
      ],
      "text/plain": [
       "   item_id  2D  Accounting  Action  Action RPG  Adventure  \\\n",
       "0   761140   0           0       1           0          0   \n",
       "1   643980   1           0       0           0          0   \n",
       "2   670290   0           0       0           0          0   \n",
       "3   767400   0           0       1           0          1   \n",
       "4   773570   0           0       0           0          0   \n",
       "\n",
       "   Animation &amp; Modeling  Anime  Arcade  Atmospheric  ...  Tower Defense  \\\n",
       "0                         0      0       0            0  ...              0   \n",
       "1                         0      0       0            0  ...              0   \n",
       "2                         0      0       0            0  ...              0   \n",
       "3                         0      0       0            0  ...              0   \n",
       "4                         0      0       0            0  ...              0   \n",
       "\n",
       "   Turn-Based  Turn-Based Strategy  Utilities  VR  Video Production  Violent  \\\n",
       "0           0                    0          0   0                 0        0   \n",
       "1           1                    0          0   0                 0        0   \n",
       "2           0                    0          0   0                 0        0   \n",
       "3           0                    0          0   0                 0        0   \n",
       "4           0                    0          0   0                 0        0   \n",
       "\n",
       "   Visual Novel  Web Publishing  Zombies  \n",
       "0             0               0        0  \n",
       "1             0               0        0  \n",
       "2             0               0        0  \n",
       "3             0               0        0  \n",
       "4             0               0        0  \n",
       "\n",
       "[5 rows x 95 columns]"
      ]
     },
     "execution_count": 179,
     "metadata": {},
     "output_type": "execute_result"
    }
   ],
   "source": [
    "steam_games_genres.head()"
   ]
  },
  {
   "cell_type": "markdown",
   "metadata": {},
   "source": [
    "Guardamos el archivo resultante"
   ]
  },
  {
   "cell_type": "code",
   "execution_count": 180,
   "metadata": {},
   "outputs": [],
   "source": [
    "steam_games_genres = df_to_parquet(steam_games_genres, 'steam_games_genres')"
   ]
  }
 ],
 "metadata": {
  "kernelspec": {
   "display_name": "Python 3",
   "language": "python",
   "name": "python3"
  },
  "language_info": {
   "codemirror_mode": {
    "name": "ipython",
    "version": 3
   },
   "file_extension": ".py",
   "mimetype": "text/x-python",
   "name": "python",
   "nbconvert_exporter": "python",
   "pygments_lexer": "ipython3",
   "version": "3.11.5"
  }
 },
 "nbformat": 4,
 "nbformat_minor": 2
}
