{
 "cells": [
  {
   "cell_type": "markdown",
   "metadata": {},
   "source": [
    "Función para obtener la cantidad de items y porcentaje de contenido gratuito por año"
   ]
  },
  {
   "cell_type": "markdown",
   "metadata": {},
   "source": [
    "# Primera funcion"
   ]
  },
  {
   "cell_type": "code",
   "execution_count": 19,
   "metadata": {},
   "outputs": [],
   "source": [
    "import pyarrow.parquet as pq\n",
    "import pandas as pd\n",
    "\n",
    "def DeveloperFreeContent(desarrollador: str):\n",
    "    # Cargar los archivos Parquet y seleccionar las columnas necesarias\n",
    "    steam_games_df = pq.read_table(\"dataset/steam_games.parquet\", columns=['item_id', 'developer', 'release_year', 'price']).to_pandas()\n",
    "\n",
    "    # Paso 1: Filtrar las filas que coinciden con el desarrollador\n",
    "    developer_df = steam_games_df[steam_games_df['developer'] == desarrollador]\n",
    "\n",
    "    if developer_df.empty:\n",
    "        return {\"error\": \"Desarrollador no encontrado\"}\n",
    "\n",
    "    # Paso 2: Utilizar agregaciones de Pandas para calcular las estadísticas\n",
    "    result = (developer_df.groupby('release_year')\n",
    "             .agg({'item_id': 'count', 'price': (lambda x: f\"{(x == 0).sum() / len(x) * 100:.2f}%\" if len(x) > 0 else \"0%\")})\n",
    "             .reset_index()\n",
    "             .rename(columns={'release_year': 'Año', 'item_id': 'Cantidad de Items', 'price': 'Contenido Free'})\n",
    "             .to_dict(orient='records'))\n",
    "\n",
    "    return result"
   ]
  },
  {
   "cell_type": "code",
   "execution_count": 20,
   "metadata": {},
   "outputs": [
    {
     "data": {
      "text/plain": [
       "[{'Año': 1998, 'Cantidad de Items': 1, 'Contenido Free': '0.00%'},\n",
       " {'Año': 1999, 'Cantidad de Items': 1, 'Contenido Free': '0.00%'},\n",
       " {'Año': 2000, 'Cantidad de Items': 2, 'Contenido Free': '0.00%'},\n",
       " {'Año': 2001, 'Cantidad de Items': 1, 'Contenido Free': '0.00%'},\n",
       " {'Año': 2003, 'Cantidad de Items': 1, 'Contenido Free': '0.00%'},\n",
       " {'Año': 2004, 'Cantidad de Items': 5, 'Contenido Free': '0.00%'},\n",
       " {'Año': 2005, 'Cantidad de Items': 1, 'Contenido Free': '100.00%'},\n",
       " {'Año': 2006, 'Cantidad de Items': 2, 'Contenido Free': '0.00%'},\n",
       " {'Año': 2007, 'Cantidad de Items': 3, 'Contenido Free': '33.33%'},\n",
       " {'Año': 2008, 'Cantidad de Items': 1, 'Contenido Free': '0.00%'},\n",
       " {'Año': 2009, 'Cantidad de Items': 1, 'Contenido Free': '0.00%'},\n",
       " {'Año': 2010, 'Cantidad de Items': 2, 'Contenido Free': '50.00%'},\n",
       " {'Año': 2011, 'Cantidad de Items': 1, 'Contenido Free': '0.00%'},\n",
       " {'Año': 2012, 'Cantidad de Items': 2, 'Contenido Free': '50.00%'},\n",
       " {'Año': 2014, 'Cantidad de Items': 7, 'Contenido Free': '100.00%'},\n",
       " {'Año': 2016, 'Cantidad de Items': 1, 'Contenido Free': '100.00%'},\n",
       " {'Año': 2017, 'Cantidad de Items': 2, 'Contenido Free': '0.00%'}]"
      ]
     },
     "execution_count": 20,
     "metadata": {},
     "output_type": "execute_result"
    }
   ],
   "source": [
    "f1 = DeveloperFreeContent('Valve')\n",
    "f1"
   ]
  },
  {
   "cell_type": "code",
   "execution_count": 3,
   "metadata": {},
   "outputs": [
    {
     "data": {
      "text/plain": [
       "1998"
      ]
     },
     "execution_count": 3,
     "metadata": {},
     "output_type": "execute_result"
    }
   ],
   "source": [
    "f1_1 = f1[0]['Año']\n",
    "f1_1"
   ]
  },
  {
   "cell_type": "markdown",
   "metadata": {},
   "source": [
    "# Segunda funcion"
   ]
  },
  {
   "cell_type": "markdown",
   "metadata": {},
   "source": [
    "## Función para obtener la cantidad de dinero gastado, %de recomendacion y numero de items del usuario"
   ]
  },
  {
   "cell_type": "code",
   "execution_count": 17,
   "metadata": {},
   "outputs": [],
   "source": [
    "import pyarrow.parquet as pq\n",
    "import pandas as pd\n",
    "\n",
    "def UserData(User_id: str):\n",
    "    # Cargar los archivos Parquet y seleccionar las columnas necesarias\n",
    "    user_items_df = pq.read_table(\"dataset/user_items.parquet\", columns=['user_id', 'items_count', 'steam_id']).to_pandas()\n",
    "    user_items_list_df = pq.read_table(\"dataset/user_items_list.parquet\", columns=['steam_id', 'item_id']).to_pandas()\n",
    "    user_reviews_df = pq.read_table(\"dataset/user_reviews.parquet\", columns=['steam_id', 'recommend']).to_pandas()\n",
    "    steam_games_df = pq.read_table(\"dataset/steam_games.parquet\", columns=['item_id', 'price']).to_pandas()\n",
    "\n",
    "    # Filtrar la fila correspondiente al user_id en user_items_df\n",
    "    user_row = user_items_df[user_items_df['user_id'] == User_id]\n",
    "\n",
    "    if user_row.empty:\n",
    "        return {\"error\": \"Usuario no encontrado\"}\n",
    "\n",
    "    # Obtener la cantidad de items del usuario\n",
    "    items_count = user_row['items_count'].iloc[0]\n",
    "\n",
    "    # Obtener el steam_id del usuario\n",
    "    steam_id = user_row['steam_id'].iloc[0]\n",
    "\n",
    "    # Filtrar las filas correspondientes a este steam_id en user_items_list_df\n",
    "    user_item_rows = user_items_list_df[user_items_list_df['steam_id'] == steam_id]\n",
    "\n",
    "    # Obtener los item_ids correspondientes\n",
    "    item_ids = user_item_rows['item_id']\n",
    "\n",
    "    # Filtrar las filas correspondientes en steam_games_df y obtener los precios\n",
    "    prices = steam_games_df[steam_games_df['item_id'].isin(item_ids)]['price']\n",
    "\n",
    "    # Calcular el dinero gastado por el usuario\n",
    "    money_spent = prices.sum()\n",
    "\n",
    "    # Filtrar las reviews correspondientes a este steam_id\n",
    "    user_reviews = user_reviews_df[user_reviews_df['steam_id'] == steam_id]\n",
    "\n",
    "    # Realizar agregaciones para calcular el porcentaje de recomendación\n",
    "    total_reviews = len(user_reviews)\n",
    "    recommended_reviews = user_reviews[user_reviews['recommend'] == 1]\n",
    "    recommendation_percentage = (len(recommended_reviews) / total_reviews) * 100 if total_reviews > 0 else 0\n",
    "\n",
    "    # Crear el resultado final\n",
    "    result = {\n",
    "        \"Usuario X\": User_id,\n",
    "        \"Dinero gastado\": f\"{money_spent:.2f} USD\",\n",
    "        \"% de recomendación\": f\"{recommendation_percentage:.2f}%\",\n",
    "        \"Cantidad de items\": int(items_count)\n",
    "    }\n",
    "\n",
    "    return result"
   ]
  },
  {
   "cell_type": "code",
   "execution_count": 18,
   "metadata": {},
   "outputs": [
    {
     "data": {
      "text/plain": [
       "{'Usuario X': 'evcentric',\n",
       " 'Dinero gastado': '1584.90 USD',\n",
       " '% de recomendación': '0.00%',\n",
       " 'Cantidad de items': 137}"
      ]
     },
     "execution_count": 18,
     "metadata": {},
     "output_type": "execute_result"
    }
   ],
   "source": [
    "f2 = UserData('evcentric')\n",
    "f2"
   ]
  },
  {
   "cell_type": "markdown",
   "metadata": {},
   "source": [
    "# Tercera funcion"
   ]
  },
  {
   "cell_type": "markdown",
   "metadata": {},
   "source": [
    "## Función para obtener el usuario con mas cantidad de horas jugadas por año de un genero"
   ]
  },
  {
   "cell_type": "code",
   "execution_count": 1,
   "metadata": {},
   "outputs": [],
   "source": [
    "import pyarrow.parquet as pq\n",
    "import pandas as pd\n",
    "\n",
    "\n",
    "def UserForGenre(genero: str):\n",
    "\n",
    "    # Cargar los archivos Parquet una vez al inicio de la aplicación\n",
    "    steam_games_genre_df = pq.read_table(\"dataset/steam_games_genres.parquet\", columns=['item_id', genero]).to_pandas()\n",
    "    user_items_list_df = pq.read_table(\"dataset/user_items_list.parquet\", columns=['item_id', 'steam_id', 'playtime_forever']).to_pandas()\n",
    "    steam_games_df = pq.read_table(\"dataset/steam_games.parquet\", columns=['item_id', 'release_year']).to_pandas()\n",
    "    user_items_df = pq.read_table(\"dataset/user_items.parquet\", columns=['steam_id', 'user_id']).to_pandas()\n",
    "\n",
    "    # Filtrar los juegos que pertenecen al género especificado\n",
    "    games_in_genre = steam_games_genre_df[steam_games_genre_df[genero] == 1]\n",
    "\n",
    "    if games_in_genre.empty:\n",
    "        return {\"error\": \"Género no encontrado\"}\n",
    "\n",
    "    # Obtener una lista de los item_id de los juegos en el género\n",
    "    item_ids_in_genre = games_in_genre['item_id'].tolist()\n",
    "\n",
    "    # Filtrar los registros de user_items_list para obtener las horas jugadas de los juegos en el género\n",
    "    genre_playtime = user_items_list_df[user_items_list_df['item_id'].isin(item_ids_in_genre)]\n",
    "\n",
    "    if genre_playtime.empty:\n",
    "        return {\"error\": \"No hay datos de horas jugadas para este género\"}\n",
    "\n",
    "    # Agregar eficientemente las horas jugadas por usuario y año\n",
    "    user_hours = (genre_playtime\n",
    "                  .merge(steam_games_df, on='item_id')\n",
    "                  .merge(user_items_df, left_on='steam_id', right_on='steam_id')\n",
    "                  .groupby(['user_id', 'release_year'])\n",
    "                  .agg(Horas=('playtime_forever', 'sum'))\n",
    "                  .reset_index()\n",
    "                  )\n",
    "\n",
    "    # Encontrar el usuario con más horas jugadas para el género\n",
    "    user_with_most_playtime = user_hours.groupby('user_id')['Horas'].sum().idxmax()\n",
    "\n",
    "    # Filtrar las horas jugadas por usuario\n",
    "    user_hours = user_hours[user_hours['user_id'] == user_with_most_playtime]\n",
    "\n",
    "    # Crear el resultado final\n",
    "    result = {\n",
    "        \"Usuario con más horas jugadas para género \" + genero: user_with_most_playtime,\n",
    "        \"Horas jugadas\": user_hours[['release_year', 'Horas']].to_dict(orient='records')\n",
    "    }\n",
    "\n",
    "    return result"
   ]
  },
  {
   "cell_type": "code",
   "execution_count": 2,
   "metadata": {},
   "outputs": [
    {
     "data": {
      "text/plain": [
       "{'Usuario con más horas jugadas para género Action': 'Sp3ctre',\n",
       " 'Horas jugadas': [{'release_year': 1982, 'Horas': 1657},\n",
       "  {'release_year': 1993, 'Horas': 0},\n",
       "  {'release_year': 1995, 'Horas': 217},\n",
       "  {'release_year': 1996, 'Horas': 0},\n",
       "  {'release_year': 1997, 'Horas': 242},\n",
       "  {'release_year': 1998, 'Horas': 0},\n",
       "  {'release_year': 1999, 'Horas': 44},\n",
       "  {'release_year': 2000, 'Horas': 70644},\n",
       "  {'release_year': 2001, 'Horas': 250},\n",
       "  {'release_year': 2002, 'Horas': 238},\n",
       "  {'release_year': 2003, 'Horas': 7744},\n",
       "  {'release_year': 2004, 'Horas': 127411},\n",
       "  {'release_year': 2005, 'Horas': 21339},\n",
       "  {'release_year': 2006, 'Horas': 90253},\n",
       "  {'release_year': 2007, 'Horas': 112794},\n",
       "  {'release_year': 2008, 'Horas': 8533},\n",
       "  {'release_year': 2009, 'Horas': 108771},\n",
       "  {'release_year': 2010, 'Horas': 82766},\n",
       "  {'release_year': 2011, 'Horas': 155459},\n",
       "  {'release_year': 2012, 'Horas': 385464},\n",
       "  {'release_year': 2013, 'Horas': 122158},\n",
       "  {'release_year': 2014, 'Horas': 132864},\n",
       "  {'release_year': 2015, 'Horas': 394313},\n",
       "  {'release_year': 2016, 'Horas': 30195},\n",
       "  {'release_year': 2017, 'Horas': 43327}]}"
      ]
     },
     "execution_count": 2,
     "metadata": {},
     "output_type": "execute_result"
    }
   ],
   "source": [
    "f3 = UserForGenre('Action')\n",
    "f3"
   ]
  },
  {
   "cell_type": "markdown",
   "metadata": {},
   "source": [
    "# Cuarta funcion"
   ]
  },
  {
   "cell_type": "markdown",
   "metadata": {},
   "source": [
    "## Función para obtener el top 3 de desarrolladoras por año"
   ]
  },
  {
   "cell_type": "code",
   "execution_count": 8,
   "metadata": {},
   "outputs": [],
   "source": [
    "import pyarrow.parquet as pq\n",
    "import pandas as pd\n",
    "\n",
    "def UsersBestDeveloper(año: int):\n",
    "    # Cargar los archivos Parquet y seleccionar las columnas necesarias\n",
    "    steam_games_df = pq.read_table(\"dataset/steam_games.parquet\", columns=['item_id', 'release_year', 'developer']).to_pandas()\n",
    "    user_reviews_df = pq.read_table(\"dataset/user_reviews.parquet\", columns=['item_id', 'recommend', 'sentiment_analysis']).to_pandas()\n",
    "\n",
    "    # Paso 1: Filtrar el DataFrame de steam_games para obtener los juegos del año dado\n",
    "    games_of_year = steam_games_df[steam_games_df['release_year'] == año]\n",
    "\n",
    "    if games_of_year.empty:\n",
    "        return {\"error\": \"No hay juegos para el año especificado\"}\n",
    "\n",
    "    # Paso 2: Filtrar el DataFrame de user_reviews para obtener las reviews recomendadas y positivas\n",
    "    positive_reviews = user_reviews_df[(user_reviews_df['recommend'] == 1) & (user_reviews_df['sentiment_analysis'] == 2)]\n",
    "\n",
    "    # Paso 3: Contar las reviews recomendadas y positivas por juego\n",
    "    recommendations_per_game = positive_reviews['item_id'].value_counts().reset_index()\n",
    "    recommendations_per_game.columns = ['item_id', 'recommendation_per_game']\n",
    "\n",
    "    # Paso 4: Fusionar los DataFrames de juegos y recomendaciones\n",
    "    merged_df = games_of_year.merge(recommendations_per_game, on='item_id', how='inner')\n",
    "\n",
    "    # Paso 5: Calcular la suma de recomendaciones por desarrollador\n",
    "    developer_recommendations = merged_df.groupby('developer')['recommendation_per_game'].sum().reset_index()\n",
    "\n",
    "    # Paso 6: Ordenar los desarrolladores por recomendaciones en orden descendente\n",
    "    top_developers = developer_recommendations.nlargest(3, 'recommendation_per_game')\n",
    "\n",
    "    # Paso 7: Formatear el resultado en el formato deseado\n",
    "    result = [{\"Puesto \" + str(i + 1): developer} for i, developer in enumerate(top_developers['developer'])]\n",
    "\n",
    "    return result"
   ]
  },
  {
   "cell_type": "code",
   "execution_count": 25,
   "metadata": {},
   "outputs": [
    {
     "data": {
      "text/plain": [
       "[{'Puesto 1': 'Smartly Dressed Games'},\n",
       " {'Puesto 2': 'Freejam'},\n",
       " {'Puesto 3': 'Studio Wildcard,Instinct Games,Efecto Studios,Virtual Basement LLC'}]"
      ]
     },
     "execution_count": 25,
     "metadata": {},
     "output_type": "execute_result"
    }
   ],
   "source": [
    "f4 = UsersBestDeveloper(2017)\n",
    "f4"
   ]
  },
  {
   "cell_type": "markdown",
   "metadata": {},
   "source": [
    "# Quinta funcion"
   ]
  },
  {
   "cell_type": "markdown",
   "metadata": {},
   "source": [
    "## Función para obtener la percepcion segun sentiment_analysis de una desarrolladora en cuanto a positivos o negativos"
   ]
  },
  {
   "cell_type": "code",
   "execution_count": 1,
   "metadata": {},
   "outputs": [],
   "source": [
    "import pandas as pd\n",
    "import pyarrow.parquet as pq\n",
    "\n",
    "def DeveloperSentimentAnalysis(desarrolladora: str):\n",
    "    # Cargar los archivos Parquet y seleccionar las columnas necesarias\n",
    "    steam_games_df = pq.read_table(\"dataset/steam_games.parquet\", columns=['item_id', 'developer']).to_pandas()\n",
    "    user_reviews_df = pq.read_table(\"dataset/user_reviews.parquet\", columns=['item_id', 'sentiment_analysis']).to_pandas()\n",
    "\n",
    "    # Paso 1: Filtrar el DataFrame de steam_games para obtener los juegos del desarrollador\n",
    "    games_of_developer = steam_games_df[steam_games_df['developer'] == desarrolladora]\n",
    "\n",
    "    if games_of_developer.empty:\n",
    "        return {\"error\": \"Desarrolladora no encontrada\"}\n",
    "\n",
    "    # Paso 2: Filtrar el DataFrame de user_reviews para obtener las reviews relacionadas a estos juegos\n",
    "    reviews_of_developer = user_reviews_df[user_reviews_df['item_id'].isin(games_of_developer['item_id'])]\n",
    "\n",
    "    if reviews_of_developer.empty:\n",
    "        return {\"error\": \"No hay reseñas para juegos de esta desarrolladora\"}\n",
    "\n",
    "    # Paso 3: Filtrar las reseñas con sentiment_analysis igual a 2 (positivo) y 0 (negativo)\n",
    "    positive_reviews = reviews_of_developer[reviews_of_developer['sentiment_analysis'] == 2]\n",
    "    neutral_reviews = reviews_of_developer[reviews_of_developer['sentiment_analysis'] == 1]\n",
    "    negative_reviews = reviews_of_developer[reviews_of_developer['sentiment_analysis'] == 0]\n",
    "\n",
    "    # Paso 4: Contar la cantidad de reseñas positivas y negativas\n",
    "    positive_count = len(positive_reviews)\n",
    "    neutral_count = len(neutral_reviews)\n",
    "    negative_count = len(negative_reviews)\n",
    "\n",
    "    # Paso 5: Crear el diccionario de resultado\n",
    "    result = {desarrolladora: {\"Negative\": negative_count, \"Neutral\": neutral_count, \"Positive\": positive_count}}\n",
    "\n",
    "    return result"
   ]
  },
  {
   "cell_type": "code",
   "execution_count": 2,
   "metadata": {},
   "outputs": [
    {
     "data": {
      "text/plain": [
       "{'Valve': {'Negative': 1116, 'Neutral': 2357, 'Positive': 6106}}"
      ]
     },
     "execution_count": 2,
     "metadata": {},
     "output_type": "execute_result"
    }
   ],
   "source": [
    "f5 = DeveloperSentimentAnalysis('Valve')\n",
    "f5"
   ]
  }
 ],
 "metadata": {
  "kernelspec": {
   "display_name": "Python 3",
   "language": "python",
   "name": "python3"
  },
  "language_info": {
   "codemirror_mode": {
    "name": "ipython",
    "version": 3
   },
   "file_extension": ".py",
   "mimetype": "text/x-python",
   "name": "python",
   "nbconvert_exporter": "python",
   "pygments_lexer": "ipython3",
   "version": "3.11.5"
  }
 },
 "nbformat": 4,
 "nbformat_minor": 2
}
