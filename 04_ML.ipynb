{
 "cells": [
  {
   "cell_type": "code",
   "execution_count": 1,
   "metadata": {},
   "outputs": [],
   "source": [
    "import numpy as np\n",
    "import pandas as pd\n",
    "import warnings"
   ]
  },
  {
   "cell_type": "code",
   "execution_count": 2,
   "metadata": {},
   "outputs": [],
   "source": [
    "# Desactiva las advertencias temporalmente\n",
    "warnings.filterwarnings(\"ignore\")"
   ]
  },
  {
   "cell_type": "markdown",
   "metadata": {},
   "source": [
    "Funciones"
   ]
  },
  {
   "cell_type": "code",
   "execution_count": 3,
   "metadata": {},
   "outputs": [],
   "source": [
    "# Función para abrir archivos parquet en un dataframe, open_parquet(args:archivo)\n",
    "def open_parquet(archivo):\n",
    "    df = pd.read_parquet(f'dataset/{archivo}')\n",
    "    return df"
   ]
  },
  {
   "cell_type": "markdown",
   "metadata": {},
   "source": [
    "## Sistema de Recomendación"
   ]
  },
  {
   "cell_type": "code",
   "execution_count": null,
   "metadata": {},
   "outputs": [],
   "source": [
    "from sklearn.metrics.pairwise import cosine_similarity"
   ]
  },
  {
   "cell_type": "code",
   "execution_count": 4,
   "metadata": {},
   "outputs": [],
   "source": [
    "steam_games_genres = open_parquet('steam_games_genres.parquet')"
   ]
  },
  {
   "cell_type": "code",
   "execution_count": 17,
   "metadata": {},
   "outputs": [],
   "source": [
    "steam_games = open_parquet('steam_games.parquet')"
   ]
  },
  {
   "cell_type": "code",
   "execution_count": 8,
   "metadata": {},
   "outputs": [],
   "source": [
    "steam_games_genres_matrix = steam_games_genres.drop(columns=['item_id'])"
   ]
  },
  {
   "cell_type": "code",
   "execution_count": 9,
   "metadata": {},
   "outputs": [],
   "source": [
    "similarity_matrix = cosine_similarity(steam_games_genres_matrix)"
   ]
  },
  {
   "cell_type": "code",
   "execution_count": 10,
   "metadata": {},
   "outputs": [],
   "source": [
    "def GameRecomendationItemItem(game, top_n=5):\n",
    "\n",
    "    # Paso 1: Filtrar el DataFrame de steam_games para obtener el id del juego dado\n",
    "    game_recomendation = steam_games[steam_games['item_name'] == game]\n",
    "\n",
    "    if game_recomendation.empty:\n",
    "        return {\"error\": \"Género no encontrado\"}\n",
    "    \n",
    "    game_id = game_recomendation['item_id'].iloc[0]\n",
    "\n",
    "    juego_index = steam_games_genres[steam_games_genres['item_id'] == game_id].index[0]\n",
    "    sim_scores = list(enumerate(similarity_matrix[juego_index]))\n",
    "    sim_scores = sorted(sim_scores, key=lambda x: x[1], reverse=True)\n",
    "    top_games_indices = [i[0] for i in sim_scores[1:top_n+1]]\n",
    "\n",
    "    # Obtener los nombres de los juegos recomendados\n",
    "    top_games_names = steam_games.iloc[top_games_indices]['item_name'].tolist()\n",
    "\n",
    "    return top_games_names"
   ]
  },
  {
   "cell_type": "code",
   "execution_count": 11,
   "metadata": {},
   "outputs": [
    {
     "data": {
      "text/plain": [
       "['Call of Duty: World at War',\n",
       " 'Killing Floor 2',\n",
       " 'Left 4 Dead 2',\n",
       " 'Sniper Elite: Nazi Zombie Army',\n",
       " 'Contagion']"
      ]
     },
     "execution_count": 11,
     "metadata": {},
     "output_type": "execute_result"
    }
   ],
   "source": [
    "juego = GameRecomendationItemItem('Killing Floor')\n",
    "juego"
   ]
  }
 ],
 "metadata": {
  "kernelspec": {
   "display_name": "Python 3",
   "language": "python",
   "name": "python3"
  },
  "language_info": {
   "codemirror_mode": {
    "name": "ipython",
    "version": 3
   },
   "file_extension": ".py",
   "mimetype": "text/x-python",
   "name": "python",
   "nbconvert_exporter": "python",
   "pygments_lexer": "ipython3",
   "version": "3.11.5"
  }
 },
 "nbformat": 4,
 "nbformat_minor": 2
}
